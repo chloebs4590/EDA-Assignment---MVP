{
 "cells": [
  {
   "cell_type": "markdown",
   "metadata": {},
   "source": [
    "# Outreach about Community Composting at Select MTA Stations \n",
    "\n",
    "- The purpose of this project was to identify MTA stations at which to conduct outreach to promote the practice of composting. \n",
    "- My criteria for selecting stations were:\n",
    "  - moderate traffic flow\n",
    "  - close proximity to food scrap drop-off locations \n",
    "- I used three datasets for this project:\n",
    "  - 1. MTA turnstile data\n",
    "  - 2. MTA stations' location data (from here: http://web.mta.info/developers/developer-data-terms.html#data)\n",
    "  - 3. Food scrap drop-off sites' location data (from here: https://data.cityofnewyork.us/Environment/Food-Scrap-Drop-Off-Locations-in-NYC/if26-z6xq)\n",
    "- Originally, I planned to select a station in each borough but once I filtered down to stations with around the median amount of average daily entries/exits (between 2500-3000) in the 3-month time period I chose, there were no Staten Island stations."
   ]
  },
  {
   "cell_type": "code",
   "execution_count": 1,
   "metadata": {},
   "outputs": [
    {
     "data": {
      "text/plain": [
       "'/Users/chloebergsma-safar/Desktop/Bootcamp Work'"
      ]
     },
     "execution_count": 1,
     "metadata": {},
     "output_type": "execute_result"
    }
   ],
   "source": [
    "pwd"
   ]
  },
  {
   "cell_type": "code",
   "execution_count": 201,
   "metadata": {},
   "outputs": [],
   "source": [
    "import os \n",
    "os.chdir ('/Users/chloebergsma-safar/Desktop/Bootcamp_Data')"
   ]
  },
  {
   "cell_type": "code",
   "execution_count": 202,
   "metadata": {},
   "outputs": [],
   "source": [
    "import pandas as pd\n",
    "import numpy as np\n",
    "import matplotlib.pyplot as plt\n",
    "import seaborn as sns\n",
    "import sqlalchemy\n",
    "import geopandas as gpd\n",
    "from shapely.geometry import Point, Polygon\n",
    "from math import radians, cos, sin, asin, sqrt\n",
    "#import haversine as hs\n",
    "#from haversine import Unit"
   ]
  },
  {
   "cell_type": "markdown",
   "metadata": {},
   "source": [
    "# Read in data"
   ]
  },
  {
   "cell_type": "markdown",
   "metadata": {},
   "source": [
    "## Read in mta turnstiles data"
   ]
  },
  {
   "cell_type": "code",
   "execution_count": 4,
   "metadata": {},
   "outputs": [],
   "source": [
    "mta_turnstile_db = \"mta_data.db\"\n",
    "mta_data = \"mta_data\"\n",
    "\n",
    "engine = sqlalchemy.create_engine(\"sqlite:///%s\" % mta_turnstile_db, execution_options={\"sqlite_raw_colnames\": True})\n",
    "mta_turnstiles = pd.read_sql_table(mta_data, engine)"
   ]
  },
  {
   "cell_type": "markdown",
   "metadata": {},
   "source": [
    "## Read in mta stations location data"
   ]
  },
  {
   "cell_type": "code",
   "execution_count": 5,
   "metadata": {},
   "outputs": [],
   "source": [
    "mta_stations = pd.read_csv('mta stations locations.csv')"
   ]
  },
  {
   "cell_type": "markdown",
   "metadata": {},
   "source": [
    "## Read in food scrap drop-off sites location data"
   ]
  },
  {
   "cell_type": "code",
   "execution_count": 203,
   "metadata": {},
   "outputs": [],
   "source": [
    "compost_drop_off = pd.read_csv('Food_Scrap_Drop-Off_Locations_in_NYC.csv')"
   ]
  },
  {
   "cell_type": "markdown",
   "metadata": {},
   "source": [
    "# Clean mta turnstiles data"
   ]
  },
  {
   "cell_type": "code",
   "execution_count": 7,
   "metadata": {},
   "outputs": [
    {
     "data": {
      "text/plain": [
       "(2930792, 11)"
      ]
     },
     "execution_count": 7,
     "metadata": {},
     "output_type": "execute_result"
    }
   ],
   "source": [
    "mta_turnstiles.shape"
   ]
  },
  {
   "cell_type": "code",
   "execution_count": 8,
   "metadata": {},
   "outputs": [
    {
     "name": "stdout",
     "output_type": "stream",
     "text": [
      "<class 'pandas.core.frame.DataFrame'>\n",
      "RangeIndex: 2930792 entries, 0 to 2930791\n",
      "Data columns (total 11 columns):\n",
      " #   Column    Dtype \n",
      "---  ------    ----- \n",
      " 0   C/A       object\n",
      " 1   UNIT      object\n",
      " 2   SCP       object\n",
      " 3   STATION   object\n",
      " 4   LINENAME  object\n",
      " 5   DIVISION  object\n",
      " 6   DATE      object\n",
      " 7   TIME      object\n",
      " 8   DESC      object\n",
      " 9   ENTRIES   int64 \n",
      " 10  EXITS     int64 \n",
      "dtypes: int64(2), object(9)\n",
      "memory usage: 246.0+ MB\n"
     ]
    }
   ],
   "source": [
    "mta_turnstiles.info()"
   ]
  },
  {
   "cell_type": "code",
   "execution_count": 9,
   "metadata": {},
   "outputs": [
    {
     "data": {
      "text/plain": [
       "C/A         0\n",
       "UNIT        0\n",
       "SCP         0\n",
       "STATION     0\n",
       "LINENAME    0\n",
       "DIVISION    0\n",
       "DATE        0\n",
       "TIME        0\n",
       "DESC        0\n",
       "ENTRIES     0\n",
       "EXITS       0\n",
       "dtype: int64"
      ]
     },
     "execution_count": 9,
     "metadata": {},
     "output_type": "execute_result"
    }
   ],
   "source": [
    "# see if there are any NaN values in mta_turnstiles\n",
    "mta_turnstiles.isna().sum()"
   ]
  },
  {
   "cell_type": "code",
   "execution_count": 10,
   "metadata": {},
   "outputs": [],
   "source": [
    "# make column names lowercase\n",
    "mta_turnstiles.columns = [column.lower() for column in mta_turnstiles.columns]"
   ]
  },
  {
   "cell_type": "code",
   "execution_count": 11,
   "metadata": {},
   "outputs": [],
   "source": [
    "# combine the date and time fields into a single datetime column \n",
    "mta_turnstiles['date_time'] = pd.to_datetime(mta_turnstiles.date + \" \" + mta_turnstiles.time, \n",
    "                                            format=\"%m/%d/%Y %H:%M:%S\")"
   ]
  },
  {
   "cell_type": "code",
   "execution_count": 12,
   "metadata": {},
   "outputs": [],
   "source": [
    "# remove rows and drop any duplicate entries\n",
    "mta_turnstiles.sort_values(['c/a', 'unit', 'scp', 'station', 'date_time'], \n",
    "                          inplace=True, ascending=False)\n",
    "mta_turnstiles.drop_duplicates(subset=['c/a', 'unit', 'scp', 'station', 'date_time'], inplace=True)"
   ]
  },
  {
   "cell_type": "code",
   "execution_count": 13,
   "metadata": {},
   "outputs": [],
   "source": [
    "# drop columns not needed for analysis\n",
    "mta_turnstiles = mta_turnstiles.drop(['linename', 'division', 'desc'], axis=1, errors=\"ignore\")"
   ]
  },
  {
   "cell_type": "code",
   "execution_count": 14,
   "metadata": {},
   "outputs": [
    {
     "data": {
      "text/plain": [
       "(2930742, 9)"
      ]
     },
     "execution_count": 14,
     "metadata": {},
     "output_type": "execute_result"
    }
   ],
   "source": [
    "mta_turnstiles.shape"
   ]
  },
  {
   "cell_type": "markdown",
   "metadata": {},
   "source": [
    "## Analyze entries data\n",
    "\n",
    "- Since one of my criterion for selecting stations was traffic flow, I decided to use the average daily entries/exits of each station as a proxy for this metric.\n",
    "- Thus, I first needed to clean entries data at the turnstile level and then at the station level before doing the same with exits and then combining them."
   ]
  },
  {
   "cell_type": "code",
   "execution_count": 15,
   "metadata": {},
   "outputs": [],
   "source": [
    "# create df of daily turnstiles cumulative entries\n",
    "mta_turnstiles_cum_entries_daily = (mta_turnstiles\n",
    "                        .groupby(['c/a', 'unit', 'scp', 'station', 'date'],as_index=False)\n",
    "                        .entries.first())"
   ]
  },
  {
   "cell_type": "code",
   "execution_count": 16,
   "metadata": {
    "scrolled": true
   },
   "outputs": [
    {
     "data": {
      "text/html": [
       "<div>\n",
       "<style scoped>\n",
       "    .dataframe tbody tr th:only-of-type {\n",
       "        vertical-align: middle;\n",
       "    }\n",
       "\n",
       "    .dataframe tbody tr th {\n",
       "        vertical-align: top;\n",
       "    }\n",
       "\n",
       "    .dataframe thead th {\n",
       "        text-align: right;\n",
       "    }\n",
       "</style>\n",
       "<table border=\"1\" class=\"dataframe\">\n",
       "  <thead>\n",
       "    <tr style=\"text-align: right;\">\n",
       "      <th></th>\n",
       "      <th>c/a</th>\n",
       "      <th>unit</th>\n",
       "      <th>scp</th>\n",
       "      <th>station</th>\n",
       "      <th>date</th>\n",
       "      <th>entries</th>\n",
       "    </tr>\n",
       "  </thead>\n",
       "  <tbody>\n",
       "    <tr>\n",
       "      <th>0</th>\n",
       "      <td>A002</td>\n",
       "      <td>R051</td>\n",
       "      <td>02-00-00</td>\n",
       "      <td>59 ST</td>\n",
       "      <td>04/24/2021</td>\n",
       "      <td>7561578</td>\n",
       "    </tr>\n",
       "    <tr>\n",
       "      <th>1</th>\n",
       "      <td>A002</td>\n",
       "      <td>R051</td>\n",
       "      <td>02-00-00</td>\n",
       "      <td>59 ST</td>\n",
       "      <td>04/25/2021</td>\n",
       "      <td>7561843</td>\n",
       "    </tr>\n",
       "    <tr>\n",
       "      <th>2</th>\n",
       "      <td>A002</td>\n",
       "      <td>R051</td>\n",
       "      <td>02-00-00</td>\n",
       "      <td>59 ST</td>\n",
       "      <td>04/26/2021</td>\n",
       "      <td>7562300</td>\n",
       "    </tr>\n",
       "    <tr>\n",
       "      <th>3</th>\n",
       "      <td>A002</td>\n",
       "      <td>R051</td>\n",
       "      <td>02-00-00</td>\n",
       "      <td>59 ST</td>\n",
       "      <td>04/27/2021</td>\n",
       "      <td>7562873</td>\n",
       "    </tr>\n",
       "    <tr>\n",
       "      <th>4</th>\n",
       "      <td>A002</td>\n",
       "      <td>R051</td>\n",
       "      <td>02-00-00</td>\n",
       "      <td>59 ST</td>\n",
       "      <td>04/28/2021</td>\n",
       "      <td>7563448</td>\n",
       "    </tr>\n",
       "  </tbody>\n",
       "</table>\n",
       "</div>"
      ],
      "text/plain": [
       "    c/a  unit       scp station        date  entries\n",
       "0  A002  R051  02-00-00   59 ST  04/24/2021  7561578\n",
       "1  A002  R051  02-00-00   59 ST  04/25/2021  7561843\n",
       "2  A002  R051  02-00-00   59 ST  04/26/2021  7562300\n",
       "3  A002  R051  02-00-00   59 ST  04/27/2021  7562873\n",
       "4  A002  R051  02-00-00   59 ST  04/28/2021  7563448"
      ]
     },
     "execution_count": 16,
     "metadata": {},
     "output_type": "execute_result"
    }
   ],
   "source": [
    "mta_turnstiles_cum_entries_daily.head()"
   ]
  },
  {
   "cell_type": "code",
   "execution_count": 17,
   "metadata": {},
   "outputs": [
    {
     "name": "stderr",
     "output_type": "stream",
     "text": [
      "<ipython-input-17-fee1c21a5acf>:2: FutureWarning: Indexing with multiple keys (implicitly converted to a tuple of keys) will be deprecated, use a list instead.\n",
      "  mta_turnstiles_cum_entries_daily[['prev_date', 'prev_entries']] = (mta_turnstiles_cum_entries_daily\n"
     ]
    }
   ],
   "source": [
    "# create prev_date and prev_entries columns to calculate new daily entries\n",
    "mta_turnstiles_cum_entries_daily[['prev_date', 'prev_entries']] = (mta_turnstiles_cum_entries_daily\n",
    "                        .groupby(['c/a', 'unit', 'scp', 'station'])['date', 'entries']\n",
    "                        .apply(lambda x: x.shift(1)))"
   ]
  },
  {
   "cell_type": "code",
   "execution_count": 18,
   "metadata": {},
   "outputs": [
    {
     "data": {
      "text/html": [
       "<div>\n",
       "<style scoped>\n",
       "    .dataframe tbody tr th:only-of-type {\n",
       "        vertical-align: middle;\n",
       "    }\n",
       "\n",
       "    .dataframe tbody tr th {\n",
       "        vertical-align: top;\n",
       "    }\n",
       "\n",
       "    .dataframe thead th {\n",
       "        text-align: right;\n",
       "    }\n",
       "</style>\n",
       "<table border=\"1\" class=\"dataframe\">\n",
       "  <thead>\n",
       "    <tr style=\"text-align: right;\">\n",
       "      <th></th>\n",
       "      <th>c/a</th>\n",
       "      <th>unit</th>\n",
       "      <th>scp</th>\n",
       "      <th>station</th>\n",
       "      <th>date</th>\n",
       "      <th>entries</th>\n",
       "      <th>prev_date</th>\n",
       "      <th>prev_entries</th>\n",
       "    </tr>\n",
       "  </thead>\n",
       "  <tbody>\n",
       "    <tr>\n",
       "      <th>0</th>\n",
       "      <td>A002</td>\n",
       "      <td>R051</td>\n",
       "      <td>02-00-00</td>\n",
       "      <td>59 ST</td>\n",
       "      <td>04/24/2021</td>\n",
       "      <td>7561578</td>\n",
       "      <td>NaN</td>\n",
       "      <td>NaN</td>\n",
       "    </tr>\n",
       "    <tr>\n",
       "      <th>1</th>\n",
       "      <td>A002</td>\n",
       "      <td>R051</td>\n",
       "      <td>02-00-00</td>\n",
       "      <td>59 ST</td>\n",
       "      <td>04/25/2021</td>\n",
       "      <td>7561843</td>\n",
       "      <td>04/24/2021</td>\n",
       "      <td>7561578.0</td>\n",
       "    </tr>\n",
       "    <tr>\n",
       "      <th>2</th>\n",
       "      <td>A002</td>\n",
       "      <td>R051</td>\n",
       "      <td>02-00-00</td>\n",
       "      <td>59 ST</td>\n",
       "      <td>04/26/2021</td>\n",
       "      <td>7562300</td>\n",
       "      <td>04/25/2021</td>\n",
       "      <td>7561843.0</td>\n",
       "    </tr>\n",
       "    <tr>\n",
       "      <th>3</th>\n",
       "      <td>A002</td>\n",
       "      <td>R051</td>\n",
       "      <td>02-00-00</td>\n",
       "      <td>59 ST</td>\n",
       "      <td>04/27/2021</td>\n",
       "      <td>7562873</td>\n",
       "      <td>04/26/2021</td>\n",
       "      <td>7562300.0</td>\n",
       "    </tr>\n",
       "    <tr>\n",
       "      <th>4</th>\n",
       "      <td>A002</td>\n",
       "      <td>R051</td>\n",
       "      <td>02-00-00</td>\n",
       "      <td>59 ST</td>\n",
       "      <td>04/28/2021</td>\n",
       "      <td>7563448</td>\n",
       "      <td>04/27/2021</td>\n",
       "      <td>7562873.0</td>\n",
       "    </tr>\n",
       "  </tbody>\n",
       "</table>\n",
       "</div>"
      ],
      "text/plain": [
       "    c/a  unit       scp station        date  entries   prev_date  prev_entries\n",
       "0  A002  R051  02-00-00   59 ST  04/24/2021  7561578         NaN           NaN\n",
       "1  A002  R051  02-00-00   59 ST  04/25/2021  7561843  04/24/2021     7561578.0\n",
       "2  A002  R051  02-00-00   59 ST  04/26/2021  7562300  04/25/2021     7561843.0\n",
       "3  A002  R051  02-00-00   59 ST  04/27/2021  7562873  04/26/2021     7562300.0\n",
       "4  A002  R051  02-00-00   59 ST  04/28/2021  7563448  04/27/2021     7562873.0"
      ]
     },
     "execution_count": 18,
     "metadata": {},
     "output_type": "execute_result"
    }
   ],
   "source": [
    "mta_turnstiles_cum_entries_daily.head()"
   ]
  },
  {
   "cell_type": "code",
   "execution_count": 19,
   "metadata": {},
   "outputs": [],
   "source": [
    "# drop the row for the earliest date in the df\n",
    "mta_turnstiles_cum_entries_daily.dropna(subset=['prev_date'], axis=0, inplace=True)"
   ]
  },
  {
   "cell_type": "code",
   "execution_count": 20,
   "metadata": {},
   "outputs": [
    {
     "data": {
      "text/html": [
       "<div>\n",
       "<style scoped>\n",
       "    .dataframe tbody tr th:only-of-type {\n",
       "        vertical-align: middle;\n",
       "    }\n",
       "\n",
       "    .dataframe tbody tr th {\n",
       "        vertical-align: top;\n",
       "    }\n",
       "\n",
       "    .dataframe thead th {\n",
       "        text-align: right;\n",
       "    }\n",
       "</style>\n",
       "<table border=\"1\" class=\"dataframe\">\n",
       "  <thead>\n",
       "    <tr style=\"text-align: right;\">\n",
       "      <th></th>\n",
       "      <th>c/a</th>\n",
       "      <th>unit</th>\n",
       "      <th>scp</th>\n",
       "      <th>station</th>\n",
       "      <th>date</th>\n",
       "      <th>entries</th>\n",
       "      <th>prev_date</th>\n",
       "      <th>prev_entries</th>\n",
       "    </tr>\n",
       "  </thead>\n",
       "  <tbody>\n",
       "    <tr>\n",
       "      <th>1</th>\n",
       "      <td>A002</td>\n",
       "      <td>R051</td>\n",
       "      <td>02-00-00</td>\n",
       "      <td>59 ST</td>\n",
       "      <td>04/25/2021</td>\n",
       "      <td>7561843</td>\n",
       "      <td>04/24/2021</td>\n",
       "      <td>7561578.0</td>\n",
       "    </tr>\n",
       "    <tr>\n",
       "      <th>2</th>\n",
       "      <td>A002</td>\n",
       "      <td>R051</td>\n",
       "      <td>02-00-00</td>\n",
       "      <td>59 ST</td>\n",
       "      <td>04/26/2021</td>\n",
       "      <td>7562300</td>\n",
       "      <td>04/25/2021</td>\n",
       "      <td>7561843.0</td>\n",
       "    </tr>\n",
       "    <tr>\n",
       "      <th>3</th>\n",
       "      <td>A002</td>\n",
       "      <td>R051</td>\n",
       "      <td>02-00-00</td>\n",
       "      <td>59 ST</td>\n",
       "      <td>04/27/2021</td>\n",
       "      <td>7562873</td>\n",
       "      <td>04/26/2021</td>\n",
       "      <td>7562300.0</td>\n",
       "    </tr>\n",
       "    <tr>\n",
       "      <th>4</th>\n",
       "      <td>A002</td>\n",
       "      <td>R051</td>\n",
       "      <td>02-00-00</td>\n",
       "      <td>59 ST</td>\n",
       "      <td>04/28/2021</td>\n",
       "      <td>7563448</td>\n",
       "      <td>04/27/2021</td>\n",
       "      <td>7562873.0</td>\n",
       "    </tr>\n",
       "    <tr>\n",
       "      <th>5</th>\n",
       "      <td>A002</td>\n",
       "      <td>R051</td>\n",
       "      <td>02-00-00</td>\n",
       "      <td>59 ST</td>\n",
       "      <td>04/29/2021</td>\n",
       "      <td>7563968</td>\n",
       "      <td>04/28/2021</td>\n",
       "      <td>7563448.0</td>\n",
       "    </tr>\n",
       "  </tbody>\n",
       "</table>\n",
       "</div>"
      ],
      "text/plain": [
       "    c/a  unit       scp station        date  entries   prev_date  prev_entries\n",
       "1  A002  R051  02-00-00   59 ST  04/25/2021  7561843  04/24/2021     7561578.0\n",
       "2  A002  R051  02-00-00   59 ST  04/26/2021  7562300  04/25/2021     7561843.0\n",
       "3  A002  R051  02-00-00   59 ST  04/27/2021  7562873  04/26/2021     7562300.0\n",
       "4  A002  R051  02-00-00   59 ST  04/28/2021  7563448  04/27/2021     7562873.0\n",
       "5  A002  R051  02-00-00   59 ST  04/29/2021  7563968  04/28/2021     7563448.0"
      ]
     },
     "execution_count": 20,
     "metadata": {},
     "output_type": "execute_result"
    }
   ],
   "source": [
    "mta_turnstiles_cum_entries_daily.head()"
   ]
  },
  {
   "cell_type": "code",
   "execution_count": 21,
   "metadata": {},
   "outputs": [
    {
     "name": "stdout",
     "output_type": "stream",
     "text": [
      "0\n",
      "2147429408\n",
      "0.0\n",
      "2147429588.0\n"
     ]
    }
   ],
   "source": [
    "# check min and max of entries and prev_entries\n",
    "print(mta_turnstiles_cum_entries_daily.entries.min())\n",
    "print(mta_turnstiles_cum_entries_daily.entries.max())\n",
    "print(mta_turnstiles_cum_entries_daily.prev_entries.min())\n",
    "print(mta_turnstiles_cum_entries_daily.prev_entries.max())"
   ]
  },
  {
   "cell_type": "markdown",
   "metadata": {},
   "source": [
    "- The above cell indicates that the day's maximum cumulative entries value (2,147,429,408) is less than the previous day's maximum cumulative entries value (2,147,429,588), which seems odd. \n",
    "\n",
    "- This is something worth investigating."
   ]
  },
  {
   "cell_type": "code",
   "execution_count": 22,
   "metadata": {},
   "outputs": [
    {
     "data": {
      "text/plain": [
       "4560"
      ]
     },
     "execution_count": 22,
     "metadata": {},
     "output_type": "execute_result"
    }
   ],
   "source": [
    "# check how many rows have the current day's entries as less than the previous day's entries amount\n",
    "len(mta_turnstiles_cum_entries_daily[mta_turnstiles_cum_entries_daily['entries'] < mta_turnstiles_cum_entries_daily['prev_entries']])"
   ]
  },
  {
   "cell_type": "markdown",
   "metadata": {},
   "source": [
    "- Create a new column of entries amounts that will recode the rows where the current day's entries are less than the previous day's entries."
   ]
  },
  {
   "cell_type": "code",
   "execution_count": 23,
   "metadata": {
    "scrolled": true
   },
   "outputs": [
    {
     "name": "stdout",
     "output_type": "stream",
     "text": [
      "59 154688.0\n",
      "3082 1390173.0\n",
      "29 479839.0\n",
      "427 67581.0\n",
      "18 4340953.0\n",
      "44 13117.0\n",
      "187 30721.0\n",
      "14 1028362.0\n",
      "93 765803.0\n",
      "5 150038.0\n",
      "327680 756269765.0\n",
      "385 327866.0\n",
      "25 262152.0\n",
      "353 8049630.0\n",
      "0 5309746.0\n",
      "458752 24.0\n",
      "262309 279345.0\n",
      "101 2651127.0\n",
      "393219 459438.0\n",
      "166 20146.0\n",
      "458754 262214.0\n",
      "8 458758.0\n",
      "457 59478.0\n",
      "65 106396.0\n",
      "458754 262144.0\n",
      "393216 458752.0\n",
      "1946307751 1946273868.0\n",
      "42 72848.0\n",
      "901 659349.0\n",
      "327680 4.0\n",
      "1 327690.0\n",
      "24 2627860.0\n",
      "327680 262144.0\n",
      "166 89658.0\n",
      "241 59609.0\n",
      "153 1604971.0\n",
      "5946 4298704.0\n",
      "0 117440512.0\n",
      "83 366981.0\n",
      "135 8882903.0\n",
      "340 157816.0\n",
      "517037 484260.0\n",
      "113 4454729.0\n",
      "158 7643335.0\n",
      "331 500527.0\n",
      "327975 7577027.0\n",
      "217 4780275.0\n",
      "85 490316.0\n",
      "4 1534984197.0\n",
      "67109632 14.0\n",
      "327682 67109640.0\n",
      "67109632 1.0\n",
      "15 67109632.0\n",
      "87 755027.0\n",
      "12517611 82.0\n",
      "46 5405351.0\n",
      "687970551 19471253.0\n",
      "458753 393246.0\n",
      "1076 7489966.0\n",
      "16777220 1037157.0\n",
      "463 6101664.0\n",
      "162 1110928.0\n",
      "327 2524852.0\n",
      "34 692662.0\n",
      "374 152140.0\n",
      "262150 2393328.0\n",
      "458814 271001.0\n",
      "322 48953.0\n",
      "327682 786526.0\n",
      "327680 0.0\n",
      "67436550 375578.0\n",
      "143 4070964.0\n",
      "5 58304715.0\n",
      "932 628772.0\n",
      "1048584 181919.0\n",
      "10 558268.0\n",
      "528 2341721.0\n",
      "2 33030303.0\n",
      "0 262144.0\n",
      "421 114067.0\n",
      "486 26298.0\n",
      "0 10295.0\n",
      "10 21771.0\n",
      "173 77005.0\n",
      "92 312926.0\n",
      "297627 52019.0\n",
      "52286 297627.0\n",
      "73 14434.0\n",
      "141 40127.0\n",
      "322 34372.0\n",
      "445 20141.0\n",
      "269 17436.0\n",
      "39 11320.0\n",
      "0 47274.0\n",
      "33 47941.0\n",
      "7 25923.0\n",
      "274 596522.0\n",
      "154 105129.0\n",
      "44 11016.0\n",
      "313 78468.0\n",
      "79 56731.0\n",
      "168 63438.0\n",
      "7329 430115.0\n",
      "1 17607.0\n",
      "21 21051.0\n",
      "44 69594.0\n",
      "174 16578.0\n",
      "569 28750.0\n",
      "259 18852.0\n",
      "158 12817.0\n",
      "207 45213.0\n",
      "1040 22867.0\n",
      "264 19738.0\n",
      "928 47456.0\n",
      "638 57209.0\n",
      "170 20181.0\n",
      "267 235781.0\n",
      "236 66140.0\n",
      "134 226543.0\n",
      "605 59327.0\n",
      "601 41896.0\n",
      "377 30740.0\n",
      "457 58624.0\n",
      "384 230503.0\n",
      "380 49679.0\n",
      "60 126744.0\n",
      "73 139500.0\n",
      "337 82765.0\n",
      "212 12184.0\n",
      "108 277764.0\n",
      "203 139935.0\n",
      "500 118845.0\n",
      "2 146227.0\n",
      "36 45693.0\n",
      "3 36605.0\n",
      "589899 393607.0\n",
      "327680 65536.0\n",
      "138 380611.0\n",
      "95 5198958.0\n",
      "46 27928.0\n",
      "75 28788.0\n",
      "403 315741.0\n",
      "327680 6241.0\n",
      "393216 327680.0\n",
      "458755 393368.0\n",
      "360 408702.0\n",
      "177 87959.0\n",
      "37 65837.0\n",
      "56 47658.0\n",
      "393271 29099.0\n",
      "77 2320032.0\n",
      "114 1953264.0\n",
      "237 681816.0\n",
      "800 952442.0\n",
      "500 38242.0\n",
      "398 935072.0\n",
      "169 4788322.0\n",
      "98 25070.0\n",
      "393362 104110933.0\n",
      "396 393952.0\n",
      "393624 11271.0\n",
      "202 37239.0\n",
      "17 22378.0\n",
      "118 909043641.0\n",
      "44861 12471.0\n",
      "197214 1890967.0\n",
      "196847 3277233.0\n",
      "87 303654987.0\n",
      "716 3145979.0\n",
      "262144 459507.0\n",
      "55643 8662.0\n",
      "35 10737302.0\n",
      "146668889 1123536132.0\n",
      "1191142711 12133750.0\n",
      "327683 196637.0\n",
      "3 262232.0\n",
      "262243 3.0\n",
      "1441950 12919101.0\n",
      "13943099 8899046.0\n",
      "62 4183413.0\n",
      "659 217070.0\n",
      "142 1653213.0\n",
      "395 11851520.0\n",
      "91 1925928.0\n",
      "327683 50346231.0\n",
      "78 365200.0\n",
      "262144 0.0\n",
      "262149 3258.0\n",
      "14455033 262149.0\n",
      "0 14455033.0\n"
     ]
    }
   ],
   "source": [
    "# create a function to recode rows where entries is less than prev_entries\n",
    "def get_daily_entries_counts(row, max_counter):\n",
    "    counter = row['entries'] - row['prev_entries']\n",
    "    if counter < 0:\n",
    "        # Maybe counter is reversed?\n",
    "        counter = -counter\n",
    "    if counter > max_counter:\n",
    "        # Maybe counter was reset to 0? \n",
    "        print(row['entries'], row['prev_entries'])\n",
    "        counter = min(row['entries'], row['prev_entries'])\n",
    "    if counter > max_counter:\n",
    "        # Check it again to make sure we're not still giving a counter that's too big\n",
    "        return 0\n",
    "    return counter\n",
    "\n",
    "# If counter is > 10,000, then the counter might have been reset.  \n",
    "# Just set it to zero as different counters have different cycle limits\n",
    "mta_turnstiles_cum_entries_daily['daily_entries'] = mta_turnstiles_cum_entries_daily.apply(get_daily_entries_counts, axis=1, max_counter=10000)"
   ]
  },
  {
   "cell_type": "code",
   "execution_count": 24,
   "metadata": {},
   "outputs": [
    {
     "data": {
      "text/html": [
       "<div>\n",
       "<style scoped>\n",
       "    .dataframe tbody tr th:only-of-type {\n",
       "        vertical-align: middle;\n",
       "    }\n",
       "\n",
       "    .dataframe tbody tr th {\n",
       "        vertical-align: top;\n",
       "    }\n",
       "\n",
       "    .dataframe thead th {\n",
       "        text-align: right;\n",
       "    }\n",
       "</style>\n",
       "<table border=\"1\" class=\"dataframe\">\n",
       "  <thead>\n",
       "    <tr style=\"text-align: right;\">\n",
       "      <th></th>\n",
       "      <th>c/a</th>\n",
       "      <th>unit</th>\n",
       "      <th>scp</th>\n",
       "      <th>station</th>\n",
       "      <th>date</th>\n",
       "      <th>entries</th>\n",
       "      <th>prev_date</th>\n",
       "      <th>prev_entries</th>\n",
       "      <th>daily_entries</th>\n",
       "    </tr>\n",
       "  </thead>\n",
       "  <tbody>\n",
       "    <tr>\n",
       "      <th>1</th>\n",
       "      <td>A002</td>\n",
       "      <td>R051</td>\n",
       "      <td>02-00-00</td>\n",
       "      <td>59 ST</td>\n",
       "      <td>04/25/2021</td>\n",
       "      <td>7561843</td>\n",
       "      <td>04/24/2021</td>\n",
       "      <td>7561578.0</td>\n",
       "      <td>265.0</td>\n",
       "    </tr>\n",
       "    <tr>\n",
       "      <th>2</th>\n",
       "      <td>A002</td>\n",
       "      <td>R051</td>\n",
       "      <td>02-00-00</td>\n",
       "      <td>59 ST</td>\n",
       "      <td>04/26/2021</td>\n",
       "      <td>7562300</td>\n",
       "      <td>04/25/2021</td>\n",
       "      <td>7561843.0</td>\n",
       "      <td>457.0</td>\n",
       "    </tr>\n",
       "    <tr>\n",
       "      <th>3</th>\n",
       "      <td>A002</td>\n",
       "      <td>R051</td>\n",
       "      <td>02-00-00</td>\n",
       "      <td>59 ST</td>\n",
       "      <td>04/27/2021</td>\n",
       "      <td>7562873</td>\n",
       "      <td>04/26/2021</td>\n",
       "      <td>7562300.0</td>\n",
       "      <td>573.0</td>\n",
       "    </tr>\n",
       "    <tr>\n",
       "      <th>4</th>\n",
       "      <td>A002</td>\n",
       "      <td>R051</td>\n",
       "      <td>02-00-00</td>\n",
       "      <td>59 ST</td>\n",
       "      <td>04/28/2021</td>\n",
       "      <td>7563448</td>\n",
       "      <td>04/27/2021</td>\n",
       "      <td>7562873.0</td>\n",
       "      <td>575.0</td>\n",
       "    </tr>\n",
       "    <tr>\n",
       "      <th>5</th>\n",
       "      <td>A002</td>\n",
       "      <td>R051</td>\n",
       "      <td>02-00-00</td>\n",
       "      <td>59 ST</td>\n",
       "      <td>04/29/2021</td>\n",
       "      <td>7563968</td>\n",
       "      <td>04/28/2021</td>\n",
       "      <td>7563448.0</td>\n",
       "      <td>520.0</td>\n",
       "    </tr>\n",
       "  </tbody>\n",
       "</table>\n",
       "</div>"
      ],
      "text/plain": [
       "    c/a  unit       scp station        date  entries   prev_date  \\\n",
       "1  A002  R051  02-00-00   59 ST  04/25/2021  7561843  04/24/2021   \n",
       "2  A002  R051  02-00-00   59 ST  04/26/2021  7562300  04/25/2021   \n",
       "3  A002  R051  02-00-00   59 ST  04/27/2021  7562873  04/26/2021   \n",
       "4  A002  R051  02-00-00   59 ST  04/28/2021  7563448  04/27/2021   \n",
       "5  A002  R051  02-00-00   59 ST  04/29/2021  7563968  04/28/2021   \n",
       "\n",
       "   prev_entries  daily_entries  \n",
       "1     7561578.0          265.0  \n",
       "2     7561843.0          457.0  \n",
       "3     7562300.0          573.0  \n",
       "4     7562873.0          575.0  \n",
       "5     7563448.0          520.0  "
      ]
     },
     "execution_count": 24,
     "metadata": {},
     "output_type": "execute_result"
    }
   ],
   "source": [
    "mta_turnstiles_cum_entries_daily.head()"
   ]
  },
  {
   "cell_type": "markdown",
   "metadata": {},
   "source": [
    "- Now that we've cleaned entries data at the turnstile level, let's look at the data at the station level."
   ]
  },
  {
   "cell_type": "code",
   "execution_count": 25,
   "metadata": {},
   "outputs": [
    {
     "data": {
      "text/html": [
       "<div>\n",
       "<style scoped>\n",
       "    .dataframe tbody tr th:only-of-type {\n",
       "        vertical-align: middle;\n",
       "    }\n",
       "\n",
       "    .dataframe tbody tr th {\n",
       "        vertical-align: top;\n",
       "    }\n",
       "\n",
       "    .dataframe thead th {\n",
       "        text-align: right;\n",
       "    }\n",
       "</style>\n",
       "<table border=\"1\" class=\"dataframe\">\n",
       "  <thead>\n",
       "    <tr style=\"text-align: right;\">\n",
       "      <th></th>\n",
       "      <th>station</th>\n",
       "      <th>date</th>\n",
       "      <th>daily_entries</th>\n",
       "    </tr>\n",
       "  </thead>\n",
       "  <tbody>\n",
       "    <tr>\n",
       "      <th>0</th>\n",
       "      <td>1 AV</td>\n",
       "      <td>04/25/2021</td>\n",
       "      <td>4578.0</td>\n",
       "    </tr>\n",
       "    <tr>\n",
       "      <th>1</th>\n",
       "      <td>1 AV</td>\n",
       "      <td>04/26/2021</td>\n",
       "      <td>6686.0</td>\n",
       "    </tr>\n",
       "    <tr>\n",
       "      <th>2</th>\n",
       "      <td>1 AV</td>\n",
       "      <td>04/27/2021</td>\n",
       "      <td>6895.0</td>\n",
       "    </tr>\n",
       "    <tr>\n",
       "      <th>3</th>\n",
       "      <td>1 AV</td>\n",
       "      <td>04/28/2021</td>\n",
       "      <td>7118.0</td>\n",
       "    </tr>\n",
       "    <tr>\n",
       "      <th>4</th>\n",
       "      <td>1 AV</td>\n",
       "      <td>04/29/2021</td>\n",
       "      <td>7144.0</td>\n",
       "    </tr>\n",
       "  </tbody>\n",
       "</table>\n",
       "</div>"
      ],
      "text/plain": [
       "  station        date  daily_entries\n",
       "0    1 AV  04/25/2021         4578.0\n",
       "1    1 AV  04/26/2021         6686.0\n",
       "2    1 AV  04/27/2021         6895.0\n",
       "3    1 AV  04/28/2021         7118.0\n",
       "4    1 AV  04/29/2021         7144.0"
      ]
     },
     "execution_count": 25,
     "metadata": {},
     "output_type": "execute_result"
    }
   ],
   "source": [
    "# create new df of daily entries by station\n",
    "station_entries_daily = mta_turnstiles_cum_entries_daily.groupby(['station', 'date'])[['daily_entries']].sum().reset_index()\n",
    "station_entries_daily.head()"
   ]
  },
  {
   "cell_type": "code",
   "execution_count": 26,
   "metadata": {},
   "outputs": [
    {
     "data": {
      "text/html": [
       "<div>\n",
       "<style scoped>\n",
       "    .dataframe tbody tr th:only-of-type {\n",
       "        vertical-align: middle;\n",
       "    }\n",
       "\n",
       "    .dataframe tbody tr th {\n",
       "        vertical-align: top;\n",
       "    }\n",
       "\n",
       "    .dataframe thead th {\n",
       "        text-align: right;\n",
       "    }\n",
       "</style>\n",
       "<table border=\"1\" class=\"dataframe\">\n",
       "  <thead>\n",
       "    <tr style=\"text-align: right;\">\n",
       "      <th></th>\n",
       "      <th>index</th>\n",
       "      <th>station</th>\n",
       "      <th>daily_entries</th>\n",
       "    </tr>\n",
       "  </thead>\n",
       "  <tbody>\n",
       "    <tr>\n",
       "      <th>0</th>\n",
       "      <td>309</td>\n",
       "      <td>ORCHARD BEACH</td>\n",
       "      <td>7.0</td>\n",
       "    </tr>\n",
       "    <tr>\n",
       "      <th>1</th>\n",
       "      <td>162</td>\n",
       "      <td>BROAD CHANNEL</td>\n",
       "      <td>112.0</td>\n",
       "    </tr>\n",
       "    <tr>\n",
       "      <th>2</th>\n",
       "      <td>141</td>\n",
       "      <td>BEACH 105 ST</td>\n",
       "      <td>115.0</td>\n",
       "    </tr>\n",
       "    <tr>\n",
       "      <th>3</th>\n",
       "      <td>148</td>\n",
       "      <td>BEACH 98 ST</td>\n",
       "      <td>170.0</td>\n",
       "    </tr>\n",
       "    <tr>\n",
       "      <th>4</th>\n",
       "      <td>354</td>\n",
       "      <td>TOMPKINSVILLE</td>\n",
       "      <td>280.0</td>\n",
       "    </tr>\n",
       "  </tbody>\n",
       "</table>\n",
       "</div>"
      ],
      "text/plain": [
       "   index        station  daily_entries\n",
       "0    309  ORCHARD BEACH            7.0\n",
       "1    162  BROAD CHANNEL          112.0\n",
       "2    141   BEACH 105 ST          115.0\n",
       "3    148    BEACH 98 ST          170.0\n",
       "4    354  TOMPKINSVILLE          280.0"
      ]
     },
     "execution_count": 26,
     "metadata": {},
     "output_type": "execute_result"
    }
   ],
   "source": [
    "# calculate average daily entries by station and sort to see stations with lowest average daily entries\n",
    "station_entries_daily_avg = station_entries_daily.groupby(['station'], as_index=False).daily_entries.mean().round(0)\n",
    "station_entries_daily_avg.sort_values('daily_entries', inplace=True)\n",
    "station_entries_daily_avg.reset_index(inplace=True)\n",
    "station_entries_daily_avg.head()"
   ]
  },
  {
   "cell_type": "code",
   "execution_count": 27,
   "metadata": {},
   "outputs": [
    {
     "data": {
      "text/html": [
       "<div>\n",
       "<style scoped>\n",
       "    .dataframe tbody tr th:only-of-type {\n",
       "        vertical-align: middle;\n",
       "    }\n",
       "\n",
       "    .dataframe tbody tr th {\n",
       "        vertical-align: top;\n",
       "    }\n",
       "\n",
       "    .dataframe thead th {\n",
       "        text-align: right;\n",
       "    }\n",
       "</style>\n",
       "<table border=\"1\" class=\"dataframe\">\n",
       "  <thead>\n",
       "    <tr style=\"text-align: right;\">\n",
       "      <th></th>\n",
       "      <th>index</th>\n",
       "      <th>station</th>\n",
       "      <th>daily_entries</th>\n",
       "    </tr>\n",
       "  </thead>\n",
       "  <tbody>\n",
       "    <tr>\n",
       "      <th>374</th>\n",
       "      <td>68</td>\n",
       "      <td>42 ST-PORT AUTH</td>\n",
       "      <td>27807.0</td>\n",
       "    </tr>\n",
       "    <tr>\n",
       "      <th>375</th>\n",
       "      <td>110</td>\n",
       "      <td>86 ST</td>\n",
       "      <td>28817.0</td>\n",
       "    </tr>\n",
       "    <tr>\n",
       "      <th>376</th>\n",
       "      <td>233</td>\n",
       "      <td>GRD CNTRL-42 ST</td>\n",
       "      <td>29189.0</td>\n",
       "    </tr>\n",
       "    <tr>\n",
       "      <th>377</th>\n",
       "      <td>59</td>\n",
       "      <td>34 ST-HERALD SQ</td>\n",
       "      <td>32487.0</td>\n",
       "    </tr>\n",
       "    <tr>\n",
       "      <th>378</th>\n",
       "      <td>61</td>\n",
       "      <td>34 ST-PENN STA</td>\n",
       "      <td>41056.0</td>\n",
       "    </tr>\n",
       "  </tbody>\n",
       "</table>\n",
       "</div>"
      ],
      "text/plain": [
       "     index          station  daily_entries\n",
       "374     68  42 ST-PORT AUTH        27807.0\n",
       "375    110            86 ST        28817.0\n",
       "376    233  GRD CNTRL-42 ST        29189.0\n",
       "377     59  34 ST-HERALD SQ        32487.0\n",
       "378     61   34 ST-PENN STA        41056.0"
      ]
     },
     "execution_count": 27,
     "metadata": {},
     "output_type": "execute_result"
    }
   ],
   "source": [
    "# look at stations with highest average daily entries\n",
    "station_entries_daily_avg.tail()"
   ]
  },
  {
   "cell_type": "code",
   "execution_count": 28,
   "metadata": {},
   "outputs": [
    {
     "data": {
      "text/plain": [
       "count      379.000000\n",
       "mean      4687.965699\n",
       "std       5445.618245\n",
       "min          7.000000\n",
       "25%       1617.000000\n",
       "50%       2921.000000\n",
       "75%       5237.500000\n",
       "max      41056.000000\n",
       "Name: daily_entries, dtype: float64"
      ]
     },
     "execution_count": 28,
     "metadata": {},
     "output_type": "execute_result"
    }
   ],
   "source": [
    "station_entries_daily_avg.daily_entries.describe()"
   ]
  },
  {
   "cell_type": "code",
   "execution_count": 29,
   "metadata": {},
   "outputs": [
    {
     "data": {
      "text/plain": [
       "(array([246.,  79.,  31.,   7.,   2.,   6.,   4.,   3.,   0.,   1.]),\n",
       " array([7.00000e+00, 4.11190e+03, 8.21680e+03, 1.23217e+04, 1.64266e+04,\n",
       "        2.05315e+04, 2.46364e+04, 2.87413e+04, 3.28462e+04, 3.69511e+04,\n",
       "        4.10560e+04]),\n",
       " <a list of 10 Patch objects>)"
      ]
     },
     "execution_count": 29,
     "metadata": {},
     "output_type": "execute_result"
    },
    {
     "data": {
      "image/png": "[encoded data removed]",
      "text/plain": [
       "<Figure size 432x288 with 1 Axes>"
      ]
     },
     "metadata": {
      "needs_background": "light"
     },
     "output_type": "display_data"
    }
   ],
   "source": [
    "# look at a histogram of average daily entries by station\n",
    "plt.hist(station_entries_daily_avg.daily_entries)"
   ]
  },
  {
   "cell_type": "markdown",
   "metadata": {},
   "source": [
    "- The above histogram shows the distribute of average daily entries by station. We can see that it's skewed to right.\n",
    "- Most stations' average daily entries amount is less than 5000."
   ]
  },
  {
   "cell_type": "code",
   "execution_count": 30,
   "metadata": {},
   "outputs": [
    {
     "data": {
      "text/plain": [
       "<matplotlib.axes._subplots.AxesSubplot at 0x1a98dafd0>"
      ]
     },
     "execution_count": 30,
     "metadata": {},
     "output_type": "execute_result"
    },
    {
     "data": {
      "image/png": "[encoded data removed]",
      "text/plain": [
       "<Figure size 432x288 with 1 Axes>"
      ]
     },
     "metadata": {
      "needs_background": "light"
     },
     "output_type": "display_data"
    }
   ],
   "source": [
    "# find what average daily entries amounts are considered outliers\n",
    "sns.boxplot(x='daily_entries',data=station_entries_daily_avg)"
   ]
  },
  {
   "cell_type": "markdown",
   "metadata": {},
   "source": [
    "- The above plot shows that stations with average daily entries over ~10,000 are considered outliers."
   ]
  },
  {
   "cell_type": "markdown",
   "metadata": {},
   "source": [
    "## Analyze exits data\n",
    "\n",
    "- Now, I will do the same cleaning and analysis of entries on exits."
   ]
  },
  {
   "cell_type": "code",
   "execution_count": 31,
   "metadata": {},
   "outputs": [],
   "source": [
    "# create df of daily turnstiles cumulative exits\n",
    "mta_turnstiles_cum_exits_daily = (mta_turnstiles\n",
    "                        .groupby(['c/a', 'unit', 'scp', 'station', 'date'],as_index=False)\n",
    "                        .exits.first())"
   ]
  },
  {
   "cell_type": "code",
   "execution_count": 32,
   "metadata": {},
   "outputs": [
    {
     "data": {
      "text/html": [
       "<div>\n",
       "<style scoped>\n",
       "    .dataframe tbody tr th:only-of-type {\n",
       "        vertical-align: middle;\n",
       "    }\n",
       "\n",
       "    .dataframe tbody tr th {\n",
       "        vertical-align: top;\n",
       "    }\n",
       "\n",
       "    .dataframe thead th {\n",
       "        text-align: right;\n",
       "    }\n",
       "</style>\n",
       "<table border=\"1\" class=\"dataframe\">\n",
       "  <thead>\n",
       "    <tr style=\"text-align: right;\">\n",
       "      <th></th>\n",
       "      <th>c/a</th>\n",
       "      <th>unit</th>\n",
       "      <th>scp</th>\n",
       "      <th>station</th>\n",
       "      <th>date</th>\n",
       "      <th>exits</th>\n",
       "    </tr>\n",
       "  </thead>\n",
       "  <tbody>\n",
       "    <tr>\n",
       "      <th>0</th>\n",
       "      <td>A002</td>\n",
       "      <td>R051</td>\n",
       "      <td>02-00-00</td>\n",
       "      <td>59 ST</td>\n",
       "      <td>04/24/2021</td>\n",
       "      <td>2583031</td>\n",
       "    </tr>\n",
       "    <tr>\n",
       "      <th>1</th>\n",
       "      <td>A002</td>\n",
       "      <td>R051</td>\n",
       "      <td>02-00-00</td>\n",
       "      <td>59 ST</td>\n",
       "      <td>04/25/2021</td>\n",
       "      <td>2583132</td>\n",
       "    </tr>\n",
       "    <tr>\n",
       "      <th>2</th>\n",
       "      <td>A002</td>\n",
       "      <td>R051</td>\n",
       "      <td>02-00-00</td>\n",
       "      <td>59 ST</td>\n",
       "      <td>04/26/2021</td>\n",
       "      <td>2583332</td>\n",
       "    </tr>\n",
       "    <tr>\n",
       "      <th>3</th>\n",
       "      <td>A002</td>\n",
       "      <td>R051</td>\n",
       "      <td>02-00-00</td>\n",
       "      <td>59 ST</td>\n",
       "      <td>04/27/2021</td>\n",
       "      <td>2583535</td>\n",
       "    </tr>\n",
       "    <tr>\n",
       "      <th>4</th>\n",
       "      <td>A002</td>\n",
       "      <td>R051</td>\n",
       "      <td>02-00-00</td>\n",
       "      <td>59 ST</td>\n",
       "      <td>04/28/2021</td>\n",
       "      <td>2583805</td>\n",
       "    </tr>\n",
       "  </tbody>\n",
       "</table>\n",
       "</div>"
      ],
      "text/plain": [
       "    c/a  unit       scp station        date    exits\n",
       "0  A002  R051  02-00-00   59 ST  04/24/2021  2583031\n",
       "1  A002  R051  02-00-00   59 ST  04/25/2021  2583132\n",
       "2  A002  R051  02-00-00   59 ST  04/26/2021  2583332\n",
       "3  A002  R051  02-00-00   59 ST  04/27/2021  2583535\n",
       "4  A002  R051  02-00-00   59 ST  04/28/2021  2583805"
      ]
     },
     "execution_count": 32,
     "metadata": {},
     "output_type": "execute_result"
    }
   ],
   "source": [
    "mta_turnstiles_cum_exits_daily.head()"
   ]
  },
  {
   "cell_type": "code",
   "execution_count": 33,
   "metadata": {},
   "outputs": [
    {
     "name": "stderr",
     "output_type": "stream",
     "text": [
      "<ipython-input-33-6d7882bbe53b>:2: FutureWarning: Indexing with multiple keys (implicitly converted to a tuple of keys) will be deprecated, use a list instead.\n",
      "  mta_turnstiles_cum_exits_daily[['prev_date', 'prev_exits']] = (mta_turnstiles_cum_exits_daily\n"
     ]
    }
   ],
   "source": [
    "# calculate daily new exits column \n",
    "mta_turnstiles_cum_exits_daily[['prev_date', 'prev_exits']] = (mta_turnstiles_cum_exits_daily\n",
    "                        .groupby(['c/a', 'unit', 'scp', 'station'])['date', 'exits']\n",
    "                        .apply(lambda x: x.shift(1)))"
   ]
  },
  {
   "cell_type": "code",
   "execution_count": 34,
   "metadata": {},
   "outputs": [
    {
     "data": {
      "text/html": [
       "<div>\n",
       "<style scoped>\n",
       "    .dataframe tbody tr th:only-of-type {\n",
       "        vertical-align: middle;\n",
       "    }\n",
       "\n",
       "    .dataframe tbody tr th {\n",
       "        vertical-align: top;\n",
       "    }\n",
       "\n",
       "    .dataframe thead th {\n",
       "        text-align: right;\n",
       "    }\n",
       "</style>\n",
       "<table border=\"1\" class=\"dataframe\">\n",
       "  <thead>\n",
       "    <tr style=\"text-align: right;\">\n",
       "      <th></th>\n",
       "      <th>c/a</th>\n",
       "      <th>unit</th>\n",
       "      <th>scp</th>\n",
       "      <th>station</th>\n",
       "      <th>date</th>\n",
       "      <th>exits</th>\n",
       "      <th>prev_date</th>\n",
       "      <th>prev_exits</th>\n",
       "    </tr>\n",
       "  </thead>\n",
       "  <tbody>\n",
       "    <tr>\n",
       "      <th>0</th>\n",
       "      <td>A002</td>\n",
       "      <td>R051</td>\n",
       "      <td>02-00-00</td>\n",
       "      <td>59 ST</td>\n",
       "      <td>04/24/2021</td>\n",
       "      <td>2583031</td>\n",
       "      <td>NaN</td>\n",
       "      <td>NaN</td>\n",
       "    </tr>\n",
       "    <tr>\n",
       "      <th>1</th>\n",
       "      <td>A002</td>\n",
       "      <td>R051</td>\n",
       "      <td>02-00-00</td>\n",
       "      <td>59 ST</td>\n",
       "      <td>04/25/2021</td>\n",
       "      <td>2583132</td>\n",
       "      <td>04/24/2021</td>\n",
       "      <td>2583031.0</td>\n",
       "    </tr>\n",
       "    <tr>\n",
       "      <th>2</th>\n",
       "      <td>A002</td>\n",
       "      <td>R051</td>\n",
       "      <td>02-00-00</td>\n",
       "      <td>59 ST</td>\n",
       "      <td>04/26/2021</td>\n",
       "      <td>2583332</td>\n",
       "      <td>04/25/2021</td>\n",
       "      <td>2583132.0</td>\n",
       "    </tr>\n",
       "    <tr>\n",
       "      <th>3</th>\n",
       "      <td>A002</td>\n",
       "      <td>R051</td>\n",
       "      <td>02-00-00</td>\n",
       "      <td>59 ST</td>\n",
       "      <td>04/27/2021</td>\n",
       "      <td>2583535</td>\n",
       "      <td>04/26/2021</td>\n",
       "      <td>2583332.0</td>\n",
       "    </tr>\n",
       "    <tr>\n",
       "      <th>4</th>\n",
       "      <td>A002</td>\n",
       "      <td>R051</td>\n",
       "      <td>02-00-00</td>\n",
       "      <td>59 ST</td>\n",
       "      <td>04/28/2021</td>\n",
       "      <td>2583805</td>\n",
       "      <td>04/27/2021</td>\n",
       "      <td>2583535.0</td>\n",
       "    </tr>\n",
       "  </tbody>\n",
       "</table>\n",
       "</div>"
      ],
      "text/plain": [
       "    c/a  unit       scp station        date    exits   prev_date  prev_exits\n",
       "0  A002  R051  02-00-00   59 ST  04/24/2021  2583031         NaN         NaN\n",
       "1  A002  R051  02-00-00   59 ST  04/25/2021  2583132  04/24/2021   2583031.0\n",
       "2  A002  R051  02-00-00   59 ST  04/26/2021  2583332  04/25/2021   2583132.0\n",
       "3  A002  R051  02-00-00   59 ST  04/27/2021  2583535  04/26/2021   2583332.0\n",
       "4  A002  R051  02-00-00   59 ST  04/28/2021  2583805  04/27/2021   2583535.0"
      ]
     },
     "execution_count": 34,
     "metadata": {},
     "output_type": "execute_result"
    }
   ],
   "source": [
    "mta_turnstiles_cum_exits_daily.head()"
   ]
  },
  {
   "cell_type": "code",
   "execution_count": 35,
   "metadata": {},
   "outputs": [],
   "source": [
    "# drop row with NaN values in prev_date and prev_exits\n",
    "mta_turnstiles_cum_exits_daily.dropna(subset=['prev_date'], axis=0, inplace=True)"
   ]
  },
  {
   "cell_type": "code",
   "execution_count": 36,
   "metadata": {},
   "outputs": [
    {
     "data": {
      "text/plain": [
       "3200"
      ]
     },
     "execution_count": 36,
     "metadata": {},
     "output_type": "execute_result"
    }
   ],
   "source": [
    "# check how many rows have count exits less than prev_exits\n",
    "len(mta_turnstiles_cum_exits_daily[mta_turnstiles_cum_exits_daily['exits'] < mta_turnstiles_cum_exits_daily['prev_exits']])"
   ]
  },
  {
   "cell_type": "code",
   "execution_count": 37,
   "metadata": {
    "scrolled": true
   },
   "outputs": [
    {
     "name": "stdout",
     "output_type": "stream",
     "text": [
      "56 167440.0\n",
      "517 995815.0\n",
      "62 154037.0\n",
      "232 34338.0\n",
      "6 808408.0\n",
      "56 10571.0\n",
      "4628405 4609822.0\n",
      "4640239 4628405.0\n",
      "106 25502.0\n",
      "15 538441.0\n",
      "218 1653807.0\n",
      "104 436767770.0\n",
      "165 2357391.0\n",
      "0 3196184.0\n",
      "137 2192493.0\n",
      "306 13866.0\n",
      "602 1025567.0\n",
      "259 160229.0\n",
      "0 67865.0\n",
      "66 2944229.0\n",
      "323 161084.0\n",
      "163 43656.0\n",
      "94 561746.0\n",
      "3870 494138.0\n",
      "306 1150397.0\n",
      "14 751570.0\n",
      "66 22377.0\n",
      "145 2774389.0\n",
      "54 6592830.0\n",
      "220 477096.0\n",
      "106 2004675.0\n",
      "133 8070982.0\n",
      "168 319261.0\n",
      "236 563806220.0\n",
      "148 32800.0\n",
      "14090596 149.0\n",
      "50 1851686.0\n",
      "1174467683 4611970.0\n",
      "239 1671513.0\n",
      "13 415998.0\n",
      "379 3350287.0\n",
      "364 1150163.0\n",
      "1073 2809308.0\n",
      "278 6525554.0\n",
      "1269 426447.0\n",
      "14 3077761.0\n",
      "116 22636.0\n",
      "3 19574.0\n",
      "189 5011886.0\n",
      "0 11489500.0\n",
      "1046 547475.0\n",
      "10 224122.0\n",
      "327681 22589.0\n",
      "193 625286.0\n",
      "0 654311429.0\n",
      "61750 422855.0\n",
      "43 80388.0\n",
      "1171 370123.0\n",
      "1114 15135.0\n",
      "1002 71711.0\n",
      "7 16336.0\n",
      "487 399602.0\n",
      "133 110581.0\n",
      "1373 983880.0\n",
      "149224 68650.0\n",
      "68843 149224.0\n",
      "71 12271.0\n",
      "202 32249.0\n",
      "268 24700.0\n",
      "1002 11652.0\n",
      "57882 47718.0\n",
      "0 204513.0\n",
      "108 31334.0\n",
      "9 23129.0\n",
      "13 30164.0\n",
      "211 734409.0\n",
      "22 41419.0\n",
      "178 287893.0\n",
      "937 178450.0\n",
      "730 36430.0\n",
      "4 35737.0\n",
      "29 12712.0\n",
      "12 13550.0\n",
      "1 25695.0\n",
      "22758 52643.0\n",
      "0 31839.0\n",
      "55 49029.0\n",
      "288282 201402.0\n",
      "653 61229.0\n",
      "1202 46904.0\n",
      "0 1240819.0\n",
      "234 46278.0\n",
      "1191 88870.0\n",
      "186 17550.0\n",
      "260 41314.0\n",
      "218 17005.0\n",
      "363 202450.0\n",
      "748 18451.0\n",
      "75 21295.0\n",
      "459 47243.0\n",
      "278 39171.0\n",
      "53 14038.0\n",
      "270 216789.0\n",
      "97 61961.0\n",
      "312 234245.0\n",
      "515 70325.0\n",
      "357 44258.0\n",
      "154 38022.0\n",
      "336 62429.0\n",
      "392 225107.0\n",
      "252 41322.0\n",
      "314 94274.0\n",
      "444 142266.0\n",
      "85 24577.0\n",
      "36 238345.0\n",
      "366 184308.0\n",
      "576 191680.0\n",
      "30 346465.0\n",
      "29 81770.0\n",
      "5 132610.0\n",
      "67 2974173.0\n",
      "74 4035691.0\n",
      "19 59769.0\n",
      "30 15341.0\n",
      "879 643240.0\n",
      "952 1005893.0\n",
      "82 49347.0\n",
      "137 195739.0\n",
      "29 32913.0\n",
      "180 78149.0\n",
      "390 6668124.0\n",
      "69 857885.0\n",
      "81 416582.0\n",
      "262144 0.0\n",
      "573 1332376.0\n",
      "785 102284.0\n",
      "388 728539.0\n",
      "132 2607848.0\n",
      "100 63658.0\n",
      "55 68794099.0\n",
      "248 74068.0\n",
      "3 15954.0\n",
      "46 1875745913.0\n",
      "10237 47909.0\n",
      "750 1958100.0\n",
      "473 16192.0\n",
      "651 15414.0\n",
      "304 1885911.0\n",
      "240 236191254.0\n",
      "290 666070.0\n",
      "16813981 71276.0\n",
      "139 1758593.0\n",
      "175519766 1980415076.0\n",
      "1140892665 4482550.0\n",
      "440 9252156.0\n",
      "6714542 2117913.0\n",
      "168 10879546.0\n",
      "1374 396716.0\n",
      "59 698323.0\n",
      "536 11825747.0\n",
      "48 123011.0\n",
      "0 134263112.0\n",
      "65 170804.0\n",
      "3980632 0.0\n",
      "0 3980632.0\n"
     ]
    }
   ],
   "source": [
    "# create a function to recode rows where exits is less than prev_exits\n",
    "def get_daily_exits_counts(row, max_counter):\n",
    "    counter = row['exits'] - row['prev_exits']\n",
    "    if counter < 0:\n",
    "        # Maybe counter is reversed?\n",
    "        counter = -counter\n",
    "    if counter > max_counter:\n",
    "        # Maybe counter was reset to 0? \n",
    "        print(row['exits'], row['prev_exits'])\n",
    "        counter = min(row['exits'], row['prev_exits'])\n",
    "    if counter > max_counter:\n",
    "        # Check it again to make sure we're not still giving a counter that's too big\n",
    "        return 0\n",
    "    return counter\n",
    "\n",
    "# If counter is > 10,000, then the counter might have been reset.  \n",
    "# Just set it to zero as different counters have different cycle limits\n",
    "mta_turnstiles_cum_exits_daily['daily_exits'] = mta_turnstiles_cum_exits_daily.apply(get_daily_exits_counts, axis=1, max_counter=10000)"
   ]
  },
  {
   "cell_type": "code",
   "execution_count": 38,
   "metadata": {},
   "outputs": [
    {
     "data": {
      "text/html": [
       "<div>\n",
       "<style scoped>\n",
       "    .dataframe tbody tr th:only-of-type {\n",
       "        vertical-align: middle;\n",
       "    }\n",
       "\n",
       "    .dataframe tbody tr th {\n",
       "        vertical-align: top;\n",
       "    }\n",
       "\n",
       "    .dataframe thead th {\n",
       "        text-align: right;\n",
       "    }\n",
       "</style>\n",
       "<table border=\"1\" class=\"dataframe\">\n",
       "  <thead>\n",
       "    <tr style=\"text-align: right;\">\n",
       "      <th></th>\n",
       "      <th>c/a</th>\n",
       "      <th>unit</th>\n",
       "      <th>scp</th>\n",
       "      <th>station</th>\n",
       "      <th>date</th>\n",
       "      <th>exits</th>\n",
       "      <th>prev_date</th>\n",
       "      <th>prev_exits</th>\n",
       "      <th>daily_exits</th>\n",
       "    </tr>\n",
       "  </thead>\n",
       "  <tbody>\n",
       "    <tr>\n",
       "      <th>1</th>\n",
       "      <td>A002</td>\n",
       "      <td>R051</td>\n",
       "      <td>02-00-00</td>\n",
       "      <td>59 ST</td>\n",
       "      <td>04/25/2021</td>\n",
       "      <td>2583132</td>\n",
       "      <td>04/24/2021</td>\n",
       "      <td>2583031.0</td>\n",
       "      <td>101.0</td>\n",
       "    </tr>\n",
       "    <tr>\n",
       "      <th>2</th>\n",
       "      <td>A002</td>\n",
       "      <td>R051</td>\n",
       "      <td>02-00-00</td>\n",
       "      <td>59 ST</td>\n",
       "      <td>04/26/2021</td>\n",
       "      <td>2583332</td>\n",
       "      <td>04/25/2021</td>\n",
       "      <td>2583132.0</td>\n",
       "      <td>200.0</td>\n",
       "    </tr>\n",
       "    <tr>\n",
       "      <th>3</th>\n",
       "      <td>A002</td>\n",
       "      <td>R051</td>\n",
       "      <td>02-00-00</td>\n",
       "      <td>59 ST</td>\n",
       "      <td>04/27/2021</td>\n",
       "      <td>2583535</td>\n",
       "      <td>04/26/2021</td>\n",
       "      <td>2583332.0</td>\n",
       "      <td>203.0</td>\n",
       "    </tr>\n",
       "    <tr>\n",
       "      <th>4</th>\n",
       "      <td>A002</td>\n",
       "      <td>R051</td>\n",
       "      <td>02-00-00</td>\n",
       "      <td>59 ST</td>\n",
       "      <td>04/28/2021</td>\n",
       "      <td>2583805</td>\n",
       "      <td>04/27/2021</td>\n",
       "      <td>2583535.0</td>\n",
       "      <td>270.0</td>\n",
       "    </tr>\n",
       "    <tr>\n",
       "      <th>5</th>\n",
       "      <td>A002</td>\n",
       "      <td>R051</td>\n",
       "      <td>02-00-00</td>\n",
       "      <td>59 ST</td>\n",
       "      <td>04/29/2021</td>\n",
       "      <td>2584076</td>\n",
       "      <td>04/28/2021</td>\n",
       "      <td>2583805.0</td>\n",
       "      <td>271.0</td>\n",
       "    </tr>\n",
       "  </tbody>\n",
       "</table>\n",
       "</div>"
      ],
      "text/plain": [
       "    c/a  unit       scp station        date    exits   prev_date  prev_exits  \\\n",
       "1  A002  R051  02-00-00   59 ST  04/25/2021  2583132  04/24/2021   2583031.0   \n",
       "2  A002  R051  02-00-00   59 ST  04/26/2021  2583332  04/25/2021   2583132.0   \n",
       "3  A002  R051  02-00-00   59 ST  04/27/2021  2583535  04/26/2021   2583332.0   \n",
       "4  A002  R051  02-00-00   59 ST  04/28/2021  2583805  04/27/2021   2583535.0   \n",
       "5  A002  R051  02-00-00   59 ST  04/29/2021  2584076  04/28/2021   2583805.0   \n",
       "\n",
       "   daily_exits  \n",
       "1        101.0  \n",
       "2        200.0  \n",
       "3        203.0  \n",
       "4        270.0  \n",
       "5        271.0  "
      ]
     },
     "execution_count": 38,
     "metadata": {},
     "output_type": "execute_result"
    }
   ],
   "source": [
    "mta_turnstiles_cum_exits_daily.head()"
   ]
  },
  {
   "cell_type": "code",
   "execution_count": 39,
   "metadata": {},
   "outputs": [
    {
     "data": {
      "text/html": [
       "<div>\n",
       "<style scoped>\n",
       "    .dataframe tbody tr th:only-of-type {\n",
       "        vertical-align: middle;\n",
       "    }\n",
       "\n",
       "    .dataframe tbody tr th {\n",
       "        vertical-align: top;\n",
       "    }\n",
       "\n",
       "    .dataframe thead th {\n",
       "        text-align: right;\n",
       "    }\n",
       "</style>\n",
       "<table border=\"1\" class=\"dataframe\">\n",
       "  <thead>\n",
       "    <tr style=\"text-align: right;\">\n",
       "      <th></th>\n",
       "      <th>station</th>\n",
       "      <th>date</th>\n",
       "      <th>daily_exits</th>\n",
       "    </tr>\n",
       "  </thead>\n",
       "  <tbody>\n",
       "    <tr>\n",
       "      <th>0</th>\n",
       "      <td>1 AV</td>\n",
       "      <td>04/25/2021</td>\n",
       "      <td>8539.0</td>\n",
       "    </tr>\n",
       "    <tr>\n",
       "      <th>1</th>\n",
       "      <td>1 AV</td>\n",
       "      <td>04/26/2021</td>\n",
       "      <td>10734.0</td>\n",
       "    </tr>\n",
       "    <tr>\n",
       "      <th>2</th>\n",
       "      <td>1 AV</td>\n",
       "      <td>04/27/2021</td>\n",
       "      <td>11460.0</td>\n",
       "    </tr>\n",
       "    <tr>\n",
       "      <th>3</th>\n",
       "      <td>1 AV</td>\n",
       "      <td>04/28/2021</td>\n",
       "      <td>11741.0</td>\n",
       "    </tr>\n",
       "    <tr>\n",
       "      <th>4</th>\n",
       "      <td>1 AV</td>\n",
       "      <td>04/29/2021</td>\n",
       "      <td>11801.0</td>\n",
       "    </tr>\n",
       "  </tbody>\n",
       "</table>\n",
       "</div>"
      ],
      "text/plain": [
       "  station        date  daily_exits\n",
       "0    1 AV  04/25/2021       8539.0\n",
       "1    1 AV  04/26/2021      10734.0\n",
       "2    1 AV  04/27/2021      11460.0\n",
       "3    1 AV  04/28/2021      11741.0\n",
       "4    1 AV  04/29/2021      11801.0"
      ]
     },
     "execution_count": 39,
     "metadata": {},
     "output_type": "execute_result"
    }
   ],
   "source": [
    "# create new df of daily exits by station\n",
    "station_exits_daily = mta_turnstiles_cum_exits_daily.groupby(['station', 'date'])[['daily_exits']].sum().reset_index()\n",
    "station_exits_daily.head()"
   ]
  },
  {
   "cell_type": "code",
   "execution_count": 40,
   "metadata": {},
   "outputs": [
    {
     "data": {
      "text/html": [
       "<div>\n",
       "<style scoped>\n",
       "    .dataframe tbody tr th:only-of-type {\n",
       "        vertical-align: middle;\n",
       "    }\n",
       "\n",
       "    .dataframe tbody tr th {\n",
       "        vertical-align: top;\n",
       "    }\n",
       "\n",
       "    .dataframe thead th {\n",
       "        text-align: right;\n",
       "    }\n",
       "</style>\n",
       "<table border=\"1\" class=\"dataframe\">\n",
       "  <thead>\n",
       "    <tr style=\"text-align: right;\">\n",
       "      <th></th>\n",
       "      <th>index</th>\n",
       "      <th>station</th>\n",
       "      <th>daily_exits</th>\n",
       "    </tr>\n",
       "  </thead>\n",
       "  <tbody>\n",
       "    <tr>\n",
       "      <th>0</th>\n",
       "      <td>344</td>\n",
       "      <td>ST. GEORGE</td>\n",
       "      <td>0.0</td>\n",
       "    </tr>\n",
       "    <tr>\n",
       "      <th>1</th>\n",
       "      <td>354</td>\n",
       "      <td>TOMPKINSVILLE</td>\n",
       "      <td>0.0</td>\n",
       "    </tr>\n",
       "    <tr>\n",
       "      <th>2</th>\n",
       "      <td>309</td>\n",
       "      <td>ORCHARD BEACH</td>\n",
       "      <td>4.0</td>\n",
       "    </tr>\n",
       "    <tr>\n",
       "      <th>3</th>\n",
       "      <td>329</td>\n",
       "      <td>RIT-MANHATTAN</td>\n",
       "      <td>46.0</td>\n",
       "    </tr>\n",
       "    <tr>\n",
       "      <th>4</th>\n",
       "      <td>330</td>\n",
       "      <td>RIT-ROOSEVELT</td>\n",
       "      <td>53.0</td>\n",
       "    </tr>\n",
       "  </tbody>\n",
       "</table>\n",
       "</div>"
      ],
      "text/plain": [
       "   index        station  daily_exits\n",
       "0    344     ST. GEORGE          0.0\n",
       "1    354  TOMPKINSVILLE          0.0\n",
       "2    309  ORCHARD BEACH          4.0\n",
       "3    329  RIT-MANHATTAN         46.0\n",
       "4    330  RIT-ROOSEVELT         53.0"
      ]
     },
     "execution_count": 40,
     "metadata": {},
     "output_type": "execute_result"
    }
   ],
   "source": [
    "# calculate average daily exits by station and sort to see stations with lowest average daily exits\n",
    "station_exits_daily_avg = station_exits_daily.groupby(['station'], as_index=False).daily_exits.mean().round(0)\n",
    "station_exits_daily_avg.sort_values('daily_exits', inplace=True)\n",
    "station_exits_daily_avg.reset_index(inplace=True)\n",
    "station_exits_daily_avg.head()"
   ]
  },
  {
   "cell_type": "code",
   "execution_count": 41,
   "metadata": {},
   "outputs": [
    {
     "data": {
      "text/html": [
       "<div>\n",
       "<style scoped>\n",
       "    .dataframe tbody tr th:only-of-type {\n",
       "        vertical-align: middle;\n",
       "    }\n",
       "\n",
       "    .dataframe tbody tr th {\n",
       "        vertical-align: top;\n",
       "    }\n",
       "\n",
       "    .dataframe thead th {\n",
       "        text-align: right;\n",
       "    }\n",
       "</style>\n",
       "<table border=\"1\" class=\"dataframe\">\n",
       "  <thead>\n",
       "    <tr style=\"text-align: right;\">\n",
       "      <th></th>\n",
       "      <th>index</th>\n",
       "      <th>station</th>\n",
       "      <th>daily_exits</th>\n",
       "    </tr>\n",
       "  </thead>\n",
       "  <tbody>\n",
       "    <tr>\n",
       "      <th>374</th>\n",
       "      <td>14</td>\n",
       "      <td>14 ST-UNION SQ</td>\n",
       "      <td>36827.0</td>\n",
       "    </tr>\n",
       "    <tr>\n",
       "      <th>375</th>\n",
       "      <td>110</td>\n",
       "      <td>86 ST</td>\n",
       "      <td>38416.0</td>\n",
       "    </tr>\n",
       "    <tr>\n",
       "      <th>376</th>\n",
       "      <td>233</td>\n",
       "      <td>GRD CNTRL-42 ST</td>\n",
       "      <td>40888.0</td>\n",
       "    </tr>\n",
       "    <tr>\n",
       "      <th>377</th>\n",
       "      <td>59</td>\n",
       "      <td>34 ST-HERALD SQ</td>\n",
       "      <td>42417.0</td>\n",
       "    </tr>\n",
       "    <tr>\n",
       "      <th>378</th>\n",
       "      <td>61</td>\n",
       "      <td>34 ST-PENN STA</td>\n",
       "      <td>55227.0</td>\n",
       "    </tr>\n",
       "  </tbody>\n",
       "</table>\n",
       "</div>"
      ],
      "text/plain": [
       "     index          station  daily_exits\n",
       "374     14   14 ST-UNION SQ      36827.0\n",
       "375    110            86 ST      38416.0\n",
       "376    233  GRD CNTRL-42 ST      40888.0\n",
       "377     59  34 ST-HERALD SQ      42417.0\n",
       "378     61   34 ST-PENN STA      55227.0"
      ]
     },
     "execution_count": 41,
     "metadata": {},
     "output_type": "execute_result"
    }
   ],
   "source": [
    "station_exits_daily_avg.tail()"
   ]
  },
  {
   "cell_type": "code",
   "execution_count": 42,
   "metadata": {},
   "outputs": [
    {
     "data": {
      "text/plain": [
       "count      379.000000\n",
       "mean      5287.506596\n",
       "std       6989.540664\n",
       "min          0.000000\n",
       "25%       1516.000000\n",
       "50%       3079.000000\n",
       "75%       5830.000000\n",
       "max      55227.000000\n",
       "Name: daily_exits, dtype: float64"
      ]
     },
     "execution_count": 42,
     "metadata": {},
     "output_type": "execute_result"
    }
   ],
   "source": [
    "station_exits_daily_avg.daily_exits.describe()"
   ]
  },
  {
   "cell_type": "code",
   "execution_count": 43,
   "metadata": {},
   "outputs": [
    {
     "data": {
      "text/plain": [
       "(array([277.,  60.,  20.,   7.,   5.,   3.,   4.,   2.,   0.,   1.]),\n",
       " array([    0. ,  5522.7, 11045.4, 16568.1, 22090.8, 27613.5, 33136.2,\n",
       "        38658.9, 44181.6, 49704.3, 55227. ]),\n",
       " <a list of 10 Patch objects>)"
      ]
     },
     "execution_count": 43,
     "metadata": {},
     "output_type": "execute_result"
    },
    {
     "data": {
      "image/png": "[encoded data removed]",
      "text/plain": [
       "<Figure size 432x288 with 1 Axes>"
      ]
     },
     "metadata": {
      "needs_background": "light"
     },
     "output_type": "display_data"
    }
   ],
   "source": [
    "# look at a histogram of average daily exits by station\n",
    "plt.hist(station_exits_daily_avg.daily_exits)"
   ]
  },
  {
   "cell_type": "markdown",
   "metadata": {},
   "source": [
    "- Similar to the distribution of average daily entries, the distribution of average daily exits per station is also skewed to the right.\n",
    "- Additionally, most stations' average daily exits is between 0 and 5000."
   ]
  },
  {
   "cell_type": "code",
   "execution_count": 44,
   "metadata": {},
   "outputs": [
    {
     "data": {
      "text/plain": [
       "<matplotlib.axes._subplots.AxesSubplot at 0x1aa275b80>"
      ]
     },
     "execution_count": 44,
     "metadata": {},
     "output_type": "execute_result"
    },
    {
     "data": {
      "image/png": "[encoded data removed]",
      "text/plain": [
       "<Figure size 432x288 with 1 Axes>"
      ]
     },
     "metadata": {
      "needs_background": "light"
     },
     "output_type": "display_data"
    }
   ],
   "source": [
    "# find what average daily exits amounts are considered outliers\n",
    "sns.boxplot(x='daily_exits',data=station_exits_daily_avg)"
   ]
  },
  {
   "cell_type": "markdown",
   "metadata": {},
   "source": [
    "- The above plot shows that stations with average daily exits over ~12,500 are considered outliers."
   ]
  },
  {
   "cell_type": "markdown",
   "metadata": {},
   "source": [
    "# Merge dfs station_entries_daily_avg and station_exits_daily_avg\n",
    "- To calculate the weighted mean of average daily entries and exits of the MTA stations - which is my proxy for traffic flow (one of my criteria for station selection for outreach about composting) - I need to combine the above dataframes I made that separately include average daily entries and exits by station."
   ]
  },
  {
   "cell_type": "code",
   "execution_count": 45,
   "metadata": {},
   "outputs": [
    {
     "name": "stdout",
     "output_type": "stream",
     "text": [
      "(379, 3)\n",
      "(379, 3)\n"
     ]
    }
   ],
   "source": [
    "# get shape of each df\n",
    "print(station_entries_daily_avg.shape)\n",
    "print(station_exits_daily_avg.shape)"
   ]
  },
  {
   "cell_type": "code",
   "execution_count": 46,
   "metadata": {},
   "outputs": [
    {
     "data": {
      "text/plain": [
       "Index(['index', 'station'], dtype='object')"
      ]
     },
     "execution_count": 46,
     "metadata": {},
     "output_type": "execute_result"
    }
   ],
   "source": [
    "# find columns in common\n",
    "station_entries_daily_avg.columns.intersection(station_exits_daily_avg.columns)"
   ]
  },
  {
   "cell_type": "code",
   "execution_count": 47,
   "metadata": {},
   "outputs": [],
   "source": [
    "# drop index column from both dfs\n",
    "station_entries_daily_avg = station_entries_daily_avg.drop('index', axis=1)\n",
    "station_exits_daily_avg = station_exits_daily_avg.drop('index', axis=1)"
   ]
  },
  {
   "cell_type": "code",
   "execution_count": 48,
   "metadata": {},
   "outputs": [],
   "source": [
    "# merge on station, the column in common\n",
    "station_daily_avg = pd.merge(station_entries_daily_avg, station_exits_daily_avg, on='station')"
   ]
  },
  {
   "cell_type": "code",
   "execution_count": 49,
   "metadata": {},
   "outputs": [
    {
     "data": {
      "text/plain": [
       "(379, 3)"
      ]
     },
     "execution_count": 49,
     "metadata": {},
     "output_type": "execute_result"
    }
   ],
   "source": [
    "station_daily_avg.shape"
   ]
  },
  {
   "cell_type": "code",
   "execution_count": 50,
   "metadata": {},
   "outputs": [
    {
     "data": {
      "text/html": [
       "<div>\n",
       "<style scoped>\n",
       "    .dataframe tbody tr th:only-of-type {\n",
       "        vertical-align: middle;\n",
       "    }\n",
       "\n",
       "    .dataframe tbody tr th {\n",
       "        vertical-align: top;\n",
       "    }\n",
       "\n",
       "    .dataframe thead th {\n",
       "        text-align: right;\n",
       "    }\n",
       "</style>\n",
       "<table border=\"1\" class=\"dataframe\">\n",
       "  <thead>\n",
       "    <tr style=\"text-align: right;\">\n",
       "      <th></th>\n",
       "      <th>station</th>\n",
       "      <th>daily_entries</th>\n",
       "      <th>daily_exits</th>\n",
       "    </tr>\n",
       "  </thead>\n",
       "  <tbody>\n",
       "    <tr>\n",
       "      <th>0</th>\n",
       "      <td>ORCHARD BEACH</td>\n",
       "      <td>7.0</td>\n",
       "      <td>4.0</td>\n",
       "    </tr>\n",
       "    <tr>\n",
       "      <th>1</th>\n",
       "      <td>BROAD CHANNEL</td>\n",
       "      <td>112.0</td>\n",
       "      <td>71.0</td>\n",
       "    </tr>\n",
       "    <tr>\n",
       "      <th>2</th>\n",
       "      <td>BEACH 105 ST</td>\n",
       "      <td>115.0</td>\n",
       "      <td>195.0</td>\n",
       "    </tr>\n",
       "    <tr>\n",
       "      <th>3</th>\n",
       "      <td>BEACH 98 ST</td>\n",
       "      <td>170.0</td>\n",
       "      <td>265.0</td>\n",
       "    </tr>\n",
       "    <tr>\n",
       "      <th>4</th>\n",
       "      <td>TOMPKINSVILLE</td>\n",
       "      <td>280.0</td>\n",
       "      <td>0.0</td>\n",
       "    </tr>\n",
       "  </tbody>\n",
       "</table>\n",
       "</div>"
      ],
      "text/plain": [
       "         station  daily_entries  daily_exits\n",
       "0  ORCHARD BEACH            7.0          4.0\n",
       "1  BROAD CHANNEL          112.0         71.0\n",
       "2   BEACH 105 ST          115.0        195.0\n",
       "3    BEACH 98 ST          170.0        265.0\n",
       "4  TOMPKINSVILLE          280.0          0.0"
      ]
     },
     "execution_count": 50,
     "metadata": {},
     "output_type": "execute_result"
    }
   ],
   "source": [
    "station_daily_avg.head()"
   ]
  },
  {
   "cell_type": "markdown",
   "metadata": {},
   "source": [
    "# Calculate weighted mean of avg daily entries and exits per station\n",
    "- To do this, I need to know how many days worth of data each station had to calculate the average number of entries and average number of exits per station.\n",
    "- Since the number of days per station will be the same for entries and exits, I will only use the df station_entries_daily, which was used to calculate the average number of entries and contains the date column."
   ]
  },
  {
   "cell_type": "code",
   "execution_count": 51,
   "metadata": {},
   "outputs": [],
   "source": [
    "# create a series that counts the number of days' worth of entries/exits each station has\n",
    "count_dates = (station_entries_daily.groupby('station').date.count())"
   ]
  },
  {
   "cell_type": "code",
   "execution_count": 52,
   "metadata": {},
   "outputs": [
    {
     "data": {
      "text/html": [
       "<div>\n",
       "<style scoped>\n",
       "    .dataframe tbody tr th:only-of-type {\n",
       "        vertical-align: middle;\n",
       "    }\n",
       "\n",
       "    .dataframe tbody tr th {\n",
       "        vertical-align: top;\n",
       "    }\n",
       "\n",
       "    .dataframe thead th {\n",
       "        text-align: right;\n",
       "    }\n",
       "</style>\n",
       "<table border=\"1\" class=\"dataframe\">\n",
       "  <thead>\n",
       "    <tr style=\"text-align: right;\">\n",
       "      <th></th>\n",
       "      <th>date</th>\n",
       "    </tr>\n",
       "    <tr>\n",
       "      <th>station</th>\n",
       "      <th></th>\n",
       "    </tr>\n",
       "  </thead>\n",
       "  <tbody>\n",
       "    <tr>\n",
       "      <th>1 AV</th>\n",
       "      <td>97</td>\n",
       "    </tr>\n",
       "    <tr>\n",
       "      <th>103 ST</th>\n",
       "      <td>97</td>\n",
       "    </tr>\n",
       "    <tr>\n",
       "      <th>103 ST-CORONA</th>\n",
       "      <td>97</td>\n",
       "    </tr>\n",
       "    <tr>\n",
       "      <th>104 ST</th>\n",
       "      <td>97</td>\n",
       "    </tr>\n",
       "    <tr>\n",
       "      <th>110 ST</th>\n",
       "      <td>97</td>\n",
       "    </tr>\n",
       "  </tbody>\n",
       "</table>\n",
       "</div>"
      ],
      "text/plain": [
       "               date\n",
       "station            \n",
       "1 AV             97\n",
       "103 ST           97\n",
       "103 ST-CORONA    97\n",
       "104 ST           97\n",
       "110 ST           97"
      ]
     },
     "execution_count": 52,
     "metadata": {},
     "output_type": "execute_result"
    }
   ],
   "source": [
    "# convert series to df\n",
    "count_dates_df = count_dates.to_frame()\n",
    "count_dates_df.head()"
   ]
  },
  {
   "cell_type": "code",
   "execution_count": 53,
   "metadata": {},
   "outputs": [],
   "source": [
    "# make the station name a column in the df\n",
    "count_dates_df.reset_index(inplace=True)"
   ]
  },
  {
   "cell_type": "code",
   "execution_count": 54,
   "metadata": {},
   "outputs": [],
   "source": [
    "# change the name of the date column\n",
    "count_dates_df.rename(columns={'date':'count_dates'}, inplace=True)"
   ]
  },
  {
   "cell_type": "code",
   "execution_count": 55,
   "metadata": {},
   "outputs": [
    {
     "data": {
      "text/html": [
       "<div>\n",
       "<style scoped>\n",
       "    .dataframe tbody tr th:only-of-type {\n",
       "        vertical-align: middle;\n",
       "    }\n",
       "\n",
       "    .dataframe tbody tr th {\n",
       "        vertical-align: top;\n",
       "    }\n",
       "\n",
       "    .dataframe thead th {\n",
       "        text-align: right;\n",
       "    }\n",
       "</style>\n",
       "<table border=\"1\" class=\"dataframe\">\n",
       "  <thead>\n",
       "    <tr style=\"text-align: right;\">\n",
       "      <th></th>\n",
       "      <th>station</th>\n",
       "      <th>count_dates</th>\n",
       "    </tr>\n",
       "  </thead>\n",
       "  <tbody>\n",
       "    <tr>\n",
       "      <th>0</th>\n",
       "      <td>1 AV</td>\n",
       "      <td>97</td>\n",
       "    </tr>\n",
       "    <tr>\n",
       "      <th>1</th>\n",
       "      <td>103 ST</td>\n",
       "      <td>97</td>\n",
       "    </tr>\n",
       "    <tr>\n",
       "      <th>2</th>\n",
       "      <td>103 ST-CORONA</td>\n",
       "      <td>97</td>\n",
       "    </tr>\n",
       "    <tr>\n",
       "      <th>3</th>\n",
       "      <td>104 ST</td>\n",
       "      <td>97</td>\n",
       "    </tr>\n",
       "    <tr>\n",
       "      <th>4</th>\n",
       "      <td>110 ST</td>\n",
       "      <td>97</td>\n",
       "    </tr>\n",
       "  </tbody>\n",
       "</table>\n",
       "</div>"
      ],
      "text/plain": [
       "         station  count_dates\n",
       "0           1 AV           97\n",
       "1         103 ST           97\n",
       "2  103 ST-CORONA           97\n",
       "3         104 ST           97\n",
       "4         110 ST           97"
      ]
     },
     "execution_count": 55,
     "metadata": {},
     "output_type": "execute_result"
    }
   ],
   "source": [
    "count_dates_df.head()"
   ]
  },
  {
   "cell_type": "code",
   "execution_count": 56,
   "metadata": {},
   "outputs": [
    {
     "data": {
      "text/plain": [
       "array([97, 95, 94, 93, 54, 96])"
      ]
     },
     "execution_count": 56,
     "metadata": {},
     "output_type": "execute_result"
    }
   ],
   "source": [
    "count_dates_df.count_dates.unique()"
   ]
  },
  {
   "cell_type": "markdown",
   "metadata": {},
   "source": [
    "# Merge dfs station_daily_avg with count_dates_df \n",
    "- This needs to be done to get the daily average number of entries per station, daily average number of exits per station, and the number of days' worth of data per station in the same df to calculate the weighted average of both entries and exits per station."
   ]
  },
  {
   "cell_type": "code",
   "execution_count": 57,
   "metadata": {},
   "outputs": [
    {
     "data": {
      "text/plain": [
       "(379, 3)"
      ]
     },
     "execution_count": 57,
     "metadata": {},
     "output_type": "execute_result"
    }
   ],
   "source": [
    "station_daily_avg.shape"
   ]
  },
  {
   "cell_type": "code",
   "execution_count": 58,
   "metadata": {},
   "outputs": [
    {
     "data": {
      "text/plain": [
       "(379, 2)"
      ]
     },
     "execution_count": 58,
     "metadata": {},
     "output_type": "execute_result"
    }
   ],
   "source": [
    "count_dates_df.shape"
   ]
  },
  {
   "cell_type": "code",
   "execution_count": 59,
   "metadata": {},
   "outputs": [],
   "source": [
    "station_daily_avg_counts = station_daily_avg.merge(count_dates_df,on='station')"
   ]
  },
  {
   "cell_type": "code",
   "execution_count": 60,
   "metadata": {},
   "outputs": [
    {
     "data": {
      "text/plain": [
       "(379, 4)"
      ]
     },
     "execution_count": 60,
     "metadata": {},
     "output_type": "execute_result"
    }
   ],
   "source": [
    "station_daily_avg_counts.shape"
   ]
  },
  {
   "cell_type": "code",
   "execution_count": 61,
   "metadata": {},
   "outputs": [
    {
     "data": {
      "text/html": [
       "<div>\n",
       "<style scoped>\n",
       "    .dataframe tbody tr th:only-of-type {\n",
       "        vertical-align: middle;\n",
       "    }\n",
       "\n",
       "    .dataframe tbody tr th {\n",
       "        vertical-align: top;\n",
       "    }\n",
       "\n",
       "    .dataframe thead th {\n",
       "        text-align: right;\n",
       "    }\n",
       "</style>\n",
       "<table border=\"1\" class=\"dataframe\">\n",
       "  <thead>\n",
       "    <tr style=\"text-align: right;\">\n",
       "      <th></th>\n",
       "      <th>station</th>\n",
       "      <th>daily_entries</th>\n",
       "      <th>daily_exits</th>\n",
       "      <th>count_dates</th>\n",
       "    </tr>\n",
       "  </thead>\n",
       "  <tbody>\n",
       "    <tr>\n",
       "      <th>0</th>\n",
       "      <td>ORCHARD BEACH</td>\n",
       "      <td>7.0</td>\n",
       "      <td>4.0</td>\n",
       "      <td>54</td>\n",
       "    </tr>\n",
       "    <tr>\n",
       "      <th>1</th>\n",
       "      <td>BROAD CHANNEL</td>\n",
       "      <td>112.0</td>\n",
       "      <td>71.0</td>\n",
       "      <td>97</td>\n",
       "    </tr>\n",
       "    <tr>\n",
       "      <th>2</th>\n",
       "      <td>BEACH 105 ST</td>\n",
       "      <td>115.0</td>\n",
       "      <td>195.0</td>\n",
       "      <td>97</td>\n",
       "    </tr>\n",
       "    <tr>\n",
       "      <th>3</th>\n",
       "      <td>BEACH 98 ST</td>\n",
       "      <td>170.0</td>\n",
       "      <td>265.0</td>\n",
       "      <td>97</td>\n",
       "    </tr>\n",
       "    <tr>\n",
       "      <th>4</th>\n",
       "      <td>TOMPKINSVILLE</td>\n",
       "      <td>280.0</td>\n",
       "      <td>0.0</td>\n",
       "      <td>97</td>\n",
       "    </tr>\n",
       "  </tbody>\n",
       "</table>\n",
       "</div>"
      ],
      "text/plain": [
       "         station  daily_entries  daily_exits  count_dates\n",
       "0  ORCHARD BEACH            7.0          4.0           54\n",
       "1  BROAD CHANNEL          112.0         71.0           97\n",
       "2   BEACH 105 ST          115.0        195.0           97\n",
       "3    BEACH 98 ST          170.0        265.0           97\n",
       "4  TOMPKINSVILLE          280.0          0.0           97"
      ]
     },
     "execution_count": 61,
     "metadata": {},
     "output_type": "execute_result"
    }
   ],
   "source": [
    "station_daily_avg_counts.head()"
   ]
  },
  {
   "cell_type": "code",
   "execution_count": 62,
   "metadata": {},
   "outputs": [],
   "source": [
    "# create a function that calculates the weighted average number of daily entries/exits per station and then\n",
    "  # apply the function to the df to create a new column with this data\n",
    "def weighted_mean(row):\n",
    "        return (row['daily_entries'] * row['count_dates'] + row['daily_exits'] * row['count_dates']) / (row['count_dates'] + row['count_dates'])\n",
    "    \n",
    "station_daily_avg_counts['avg_daily_entries_exits'] = station_daily_avg_counts.apply(weighted_mean, axis=1)"
   ]
  },
  {
   "cell_type": "code",
   "execution_count": 63,
   "metadata": {},
   "outputs": [],
   "source": [
    "station_daily_avg_counts.sort_values('avg_daily_entries_exits', inplace=True)"
   ]
  },
  {
   "cell_type": "code",
   "execution_count": 64,
   "metadata": {},
   "outputs": [],
   "source": [
    "station_daily_avg_counts.reset_index(inplace=True)"
   ]
  },
  {
   "cell_type": "code",
   "execution_count": 65,
   "metadata": {},
   "outputs": [],
   "source": [
    "station_daily_avg_counts.drop('index', axis=1, inplace=True)"
   ]
  },
  {
   "cell_type": "code",
   "execution_count": 66,
   "metadata": {},
   "outputs": [
    {
     "data": {
      "text/html": [
       "<div>\n",
       "<style scoped>\n",
       "    .dataframe tbody tr th:only-of-type {\n",
       "        vertical-align: middle;\n",
       "    }\n",
       "\n",
       "    .dataframe tbody tr th {\n",
       "        vertical-align: top;\n",
       "    }\n",
       "\n",
       "    .dataframe thead th {\n",
       "        text-align: right;\n",
       "    }\n",
       "</style>\n",
       "<table border=\"1\" class=\"dataframe\">\n",
       "  <thead>\n",
       "    <tr style=\"text-align: right;\">\n",
       "      <th></th>\n",
       "      <th>station</th>\n",
       "      <th>daily_entries</th>\n",
       "      <th>daily_exits</th>\n",
       "      <th>count_dates</th>\n",
       "      <th>avg_daily_entries_exits</th>\n",
       "    </tr>\n",
       "  </thead>\n",
       "  <tbody>\n",
       "    <tr>\n",
       "      <th>0</th>\n",
       "      <td>ORCHARD BEACH</td>\n",
       "      <td>7.0</td>\n",
       "      <td>4.0</td>\n",
       "      <td>54</td>\n",
       "      <td>5.5</td>\n",
       "    </tr>\n",
       "    <tr>\n",
       "      <th>1</th>\n",
       "      <td>BROAD CHANNEL</td>\n",
       "      <td>112.0</td>\n",
       "      <td>71.0</td>\n",
       "      <td>97</td>\n",
       "      <td>91.5</td>\n",
       "    </tr>\n",
       "    <tr>\n",
       "      <th>2</th>\n",
       "      <td>TOMPKINSVILLE</td>\n",
       "      <td>280.0</td>\n",
       "      <td>0.0</td>\n",
       "      <td>97</td>\n",
       "      <td>140.0</td>\n",
       "    </tr>\n",
       "    <tr>\n",
       "      <th>3</th>\n",
       "      <td>BEACH 105 ST</td>\n",
       "      <td>115.0</td>\n",
       "      <td>195.0</td>\n",
       "      <td>97</td>\n",
       "      <td>155.0</td>\n",
       "    </tr>\n",
       "    <tr>\n",
       "      <th>4</th>\n",
       "      <td>BEACH 98 ST</td>\n",
       "      <td>170.0</td>\n",
       "      <td>265.0</td>\n",
       "      <td>97</td>\n",
       "      <td>217.5</td>\n",
       "    </tr>\n",
       "  </tbody>\n",
       "</table>\n",
       "</div>"
      ],
      "text/plain": [
       "         station  daily_entries  daily_exits  count_dates  \\\n",
       "0  ORCHARD BEACH            7.0          4.0           54   \n",
       "1  BROAD CHANNEL          112.0         71.0           97   \n",
       "2  TOMPKINSVILLE          280.0          0.0           97   \n",
       "3   BEACH 105 ST          115.0        195.0           97   \n",
       "4    BEACH 98 ST          170.0        265.0           97   \n",
       "\n",
       "   avg_daily_entries_exits  \n",
       "0                      5.5  \n",
       "1                     91.5  \n",
       "2                    140.0  \n",
       "3                    155.0  \n",
       "4                    217.5  "
      ]
     },
     "execution_count": 66,
     "metadata": {},
     "output_type": "execute_result"
    }
   ],
   "source": [
    "station_daily_avg_counts.head()"
   ]
  },
  {
   "cell_type": "code",
   "execution_count": 67,
   "metadata": {},
   "outputs": [
    {
     "data": {
      "text/plain": [
       "(array([268.,  63.,  26.,   5.,   6.,   3.,   5.,   2.,   0.,   1.]),\n",
       " array([5.50000e+00, 4.81910e+03, 9.63270e+03, 1.44463e+04, 1.92599e+04,\n",
       "        2.40735e+04, 2.88871e+04, 3.37007e+04, 3.85143e+04, 4.33279e+04,\n",
       "        4.81415e+04]),\n",
       " <a list of 10 Patch objects>)"
      ]
     },
     "execution_count": 67,
     "metadata": {},
     "output_type": "execute_result"
    },
    {
     "data": {
      "image/png": "[encoded data removed]",
      "text/plain": [
       "<Figure size 432x288 with 1 Axes>"
      ]
     },
     "metadata": {
      "needs_background": "light"
     },
     "output_type": "display_data"
    }
   ],
   "source": [
    "# look at histogram of avg_daily_entries_exits\n",
    "plt.hist(station_daily_avg_counts.avg_daily_entries_exits)"
   ]
  },
  {
   "cell_type": "markdown",
   "metadata": {},
   "source": [
    "- Again, we can see that the distribution average daily entries/exits per station is very similar to that of the average daily entries and average daily exits per station."
   ]
  },
  {
   "cell_type": "markdown",
   "metadata": {},
   "source": [
    "# Visualize the top 5,  middle 5, and bottom 5 stations based on average daily entries/exits"
   ]
  },
  {
   "cell_type": "code",
   "execution_count": 68,
   "metadata": {},
   "outputs": [
    {
     "name": "stdout",
     "output_type": "stream",
     "text": [
      "station                    LORIMER ST\n",
      "daily_entries                    3166\n",
      "daily_exits                      2773\n",
      "count_dates                        97\n",
      "avg_daily_entries_exits        2969.5\n",
      "Name: 190, dtype: object\n"
     ]
    }
   ],
   "source": [
    "# get index of middle row in df\n",
    "mid_rw = round(len(station_daily_avg_counts)/2)\n",
    "\n",
    "print(station_daily_avg_counts.iloc[mid_rw]) # index is 190"
   ]
  },
  {
   "cell_type": "code",
   "execution_count": 69,
   "metadata": {},
   "outputs": [
    {
     "data": {
      "text/html": [
       "<div>\n",
       "<style scoped>\n",
       "    .dataframe tbody tr th:only-of-type {\n",
       "        vertical-align: middle;\n",
       "    }\n",
       "\n",
       "    .dataframe tbody tr th {\n",
       "        vertical-align: top;\n",
       "    }\n",
       "\n",
       "    .dataframe thead th {\n",
       "        text-align: right;\n",
       "    }\n",
       "</style>\n",
       "<table border=\"1\" class=\"dataframe\">\n",
       "  <thead>\n",
       "    <tr style=\"text-align: right;\">\n",
       "      <th></th>\n",
       "      <th>station</th>\n",
       "      <th>daily_entries</th>\n",
       "      <th>daily_exits</th>\n",
       "      <th>count_dates</th>\n",
       "      <th>avg_daily_entries_exits</th>\n",
       "    </tr>\n",
       "  </thead>\n",
       "  <tbody>\n",
       "    <tr>\n",
       "      <th>188</th>\n",
       "      <td>HARRISON</td>\n",
       "      <td>2779.0</td>\n",
       "      <td>3079.0</td>\n",
       "      <td>97</td>\n",
       "      <td>2929.0</td>\n",
       "    </tr>\n",
       "    <tr>\n",
       "      <th>189</th>\n",
       "      <td>PARSONS BLVD</td>\n",
       "      <td>2734.0</td>\n",
       "      <td>3147.0</td>\n",
       "      <td>97</td>\n",
       "      <td>2940.5</td>\n",
       "    </tr>\n",
       "    <tr>\n",
       "      <th>190</th>\n",
       "      <td>LORIMER ST</td>\n",
       "      <td>3166.0</td>\n",
       "      <td>2773.0</td>\n",
       "      <td>97</td>\n",
       "      <td>2969.5</td>\n",
       "    </tr>\n",
       "    <tr>\n",
       "      <th>191</th>\n",
       "      <td>RECTOR ST</td>\n",
       "      <td>3235.0</td>\n",
       "      <td>2741.0</td>\n",
       "      <td>97</td>\n",
       "      <td>2988.0</td>\n",
       "    </tr>\n",
       "    <tr>\n",
       "      <th>192</th>\n",
       "      <td>ROOSEVELT ISLND</td>\n",
       "      <td>2819.0</td>\n",
       "      <td>3325.0</td>\n",
       "      <td>97</td>\n",
       "      <td>3072.0</td>\n",
       "    </tr>\n",
       "  </tbody>\n",
       "</table>\n",
       "</div>"
      ],
      "text/plain": [
       "             station  daily_entries  daily_exits  count_dates  \\\n",
       "188         HARRISON         2779.0       3079.0           97   \n",
       "189     PARSONS BLVD         2734.0       3147.0           97   \n",
       "190       LORIMER ST         3166.0       2773.0           97   \n",
       "191        RECTOR ST         3235.0       2741.0           97   \n",
       "192  ROOSEVELT ISLND         2819.0       3325.0           97   \n",
       "\n",
       "     avg_daily_entries_exits  \n",
       "188                   2929.0  \n",
       "189                   2940.5  \n",
       "190                   2969.5  \n",
       "191                   2988.0  \n",
       "192                   3072.0  "
      ]
     },
     "execution_count": 69,
     "metadata": {},
     "output_type": "execute_result"
    }
   ],
   "source": [
    "# get the middle 5 rows \n",
    "mid_daily_avg_counts = station_daily_avg_counts.iloc[188:193]\n",
    "mid_daily_avg_counts"
   ]
  },
  {
   "cell_type": "code",
   "execution_count": 70,
   "metadata": {},
   "outputs": [
    {
     "data": {
      "text/html": [
       "<div>\n",
       "<style scoped>\n",
       "    .dataframe tbody tr th:only-of-type {\n",
       "        vertical-align: middle;\n",
       "    }\n",
       "\n",
       "    .dataframe tbody tr th {\n",
       "        vertical-align: top;\n",
       "    }\n",
       "\n",
       "    .dataframe thead th {\n",
       "        text-align: right;\n",
       "    }\n",
       "</style>\n",
       "<table border=\"1\" class=\"dataframe\">\n",
       "  <thead>\n",
       "    <tr style=\"text-align: right;\">\n",
       "      <th></th>\n",
       "      <th>station</th>\n",
       "      <th>daily_entries</th>\n",
       "      <th>daily_exits</th>\n",
       "      <th>count_dates</th>\n",
       "      <th>avg_daily_entries_exits</th>\n",
       "    </tr>\n",
       "  </thead>\n",
       "  <tbody>\n",
       "    <tr>\n",
       "      <th>0</th>\n",
       "      <td>ORCHARD BEACH</td>\n",
       "      <td>7.0</td>\n",
       "      <td>4.0</td>\n",
       "      <td>54</td>\n",
       "      <td>5.5</td>\n",
       "    </tr>\n",
       "    <tr>\n",
       "      <th>1</th>\n",
       "      <td>BROAD CHANNEL</td>\n",
       "      <td>112.0</td>\n",
       "      <td>71.0</td>\n",
       "      <td>97</td>\n",
       "      <td>91.5</td>\n",
       "    </tr>\n",
       "    <tr>\n",
       "      <th>2</th>\n",
       "      <td>TOMPKINSVILLE</td>\n",
       "      <td>280.0</td>\n",
       "      <td>0.0</td>\n",
       "      <td>97</td>\n",
       "      <td>140.0</td>\n",
       "    </tr>\n",
       "    <tr>\n",
       "      <th>3</th>\n",
       "      <td>BEACH 105 ST</td>\n",
       "      <td>115.0</td>\n",
       "      <td>195.0</td>\n",
       "      <td>97</td>\n",
       "      <td>155.0</td>\n",
       "    </tr>\n",
       "    <tr>\n",
       "      <th>4</th>\n",
       "      <td>BEACH 98 ST</td>\n",
       "      <td>170.0</td>\n",
       "      <td>265.0</td>\n",
       "      <td>97</td>\n",
       "      <td>217.5</td>\n",
       "    </tr>\n",
       "  </tbody>\n",
       "</table>\n",
       "</div>"
      ],
      "text/plain": [
       "         station  daily_entries  daily_exits  count_dates  \\\n",
       "0  ORCHARD BEACH            7.0          4.0           54   \n",
       "1  BROAD CHANNEL          112.0         71.0           97   \n",
       "2  TOMPKINSVILLE          280.0          0.0           97   \n",
       "3   BEACH 105 ST          115.0        195.0           97   \n",
       "4    BEACH 98 ST          170.0        265.0           97   \n",
       "\n",
       "   avg_daily_entries_exits  \n",
       "0                      5.5  \n",
       "1                     91.5  \n",
       "2                    140.0  \n",
       "3                    155.0  \n",
       "4                    217.5  "
      ]
     },
     "execution_count": 70,
     "metadata": {},
     "output_type": "execute_result"
    }
   ],
   "source": [
    "# get the bottom 5 rows\n",
    "low_daily_avg_counts = station_daily_avg_counts.iloc[0:5]\n",
    "low_daily_avg_counts"
   ]
  },
  {
   "cell_type": "code",
   "execution_count": 71,
   "metadata": {},
   "outputs": [
    {
     "data": {
      "text/html": [
       "<div>\n",
       "<style scoped>\n",
       "    .dataframe tbody tr th:only-of-type {\n",
       "        vertical-align: middle;\n",
       "    }\n",
       "\n",
       "    .dataframe tbody tr th {\n",
       "        vertical-align: top;\n",
       "    }\n",
       "\n",
       "    .dataframe thead th {\n",
       "        text-align: right;\n",
       "    }\n",
       "</style>\n",
       "<table border=\"1\" class=\"dataframe\">\n",
       "  <thead>\n",
       "    <tr style=\"text-align: right;\">\n",
       "      <th></th>\n",
       "      <th>station</th>\n",
       "      <th>daily_entries</th>\n",
       "      <th>daily_exits</th>\n",
       "      <th>count_dates</th>\n",
       "      <th>avg_daily_entries_exits</th>\n",
       "    </tr>\n",
       "  </thead>\n",
       "  <tbody>\n",
       "    <tr>\n",
       "      <th>374</th>\n",
       "      <td>14 ST-UNION SQ</td>\n",
       "      <td>26325.0</td>\n",
       "      <td>36827.0</td>\n",
       "      <td>97</td>\n",
       "      <td>31576.0</td>\n",
       "    </tr>\n",
       "    <tr>\n",
       "      <th>375</th>\n",
       "      <td>86 ST</td>\n",
       "      <td>28817.0</td>\n",
       "      <td>38416.0</td>\n",
       "      <td>97</td>\n",
       "      <td>33616.5</td>\n",
       "    </tr>\n",
       "    <tr>\n",
       "      <th>376</th>\n",
       "      <td>GRD CNTRL-42 ST</td>\n",
       "      <td>29189.0</td>\n",
       "      <td>40888.0</td>\n",
       "      <td>97</td>\n",
       "      <td>35038.5</td>\n",
       "    </tr>\n",
       "    <tr>\n",
       "      <th>377</th>\n",
       "      <td>34 ST-HERALD SQ</td>\n",
       "      <td>32487.0</td>\n",
       "      <td>42417.0</td>\n",
       "      <td>97</td>\n",
       "      <td>37452.0</td>\n",
       "    </tr>\n",
       "    <tr>\n",
       "      <th>378</th>\n",
       "      <td>34 ST-PENN STA</td>\n",
       "      <td>41056.0</td>\n",
       "      <td>55227.0</td>\n",
       "      <td>97</td>\n",
       "      <td>48141.5</td>\n",
       "    </tr>\n",
       "  </tbody>\n",
       "</table>\n",
       "</div>"
      ],
      "text/plain": [
       "             station  daily_entries  daily_exits  count_dates  \\\n",
       "374   14 ST-UNION SQ        26325.0      36827.0           97   \n",
       "375            86 ST        28817.0      38416.0           97   \n",
       "376  GRD CNTRL-42 ST        29189.0      40888.0           97   \n",
       "377  34 ST-HERALD SQ        32487.0      42417.0           97   \n",
       "378   34 ST-PENN STA        41056.0      55227.0           97   \n",
       "\n",
       "     avg_daily_entries_exits  \n",
       "374                  31576.0  \n",
       "375                  33616.5  \n",
       "376                  35038.5  \n",
       "377                  37452.0  \n",
       "378                  48141.5  "
      ]
     },
     "execution_count": 71,
     "metadata": {},
     "output_type": "execute_result"
    }
   ],
   "source": [
    "# get the top 5 rows\n",
    "high_daily_avg_counts = station_daily_avg_counts.iloc[374:]\n",
    "high_daily_avg_counts"
   ]
  },
  {
   "cell_type": "code",
   "execution_count": 72,
   "metadata": {},
   "outputs": [
    {
     "data": {
      "text/plain": [
       "Text(0.5, 1.0, 'MTA stations with the Most Avg. Daily Entries/Exits \\n from late April 2021 - July 2021')"
      ]
     },
     "execution_count": 72,
     "metadata": {},
     "output_type": "execute_result"
    },
    {
     "data": {
      "image/png": "[encoded data removed]",
      "text/plain": [
       "<Figure size 1152x576 with 3 Axes>"
      ]
     },
     "metadata": {
      "needs_background": "light"
     },
     "output_type": "display_data"
    }
   ],
   "source": [
    "stations_1 = list(low_daily_avg_counts.station)\n",
    "stations_1_values = list(low_daily_avg_counts.avg_daily_entries_exits)\n",
    "\n",
    "stations_2 = list(mid_daily_avg_counts.station)\n",
    "stations_2_values = list(mid_daily_avg_counts.avg_daily_entries_exits)\n",
    "\n",
    "stations_3 = list(high_daily_avg_counts.station)\n",
    "stations_3_values = list(high_daily_avg_counts.avg_daily_entries_exits)\n",
    "\n",
    "plt.figure(figsize=(16, 8))\n",
    "\n",
    "plt.subplot(3, 1, 1)\n",
    "plt.barh(stations_1, stations_1_values)\n",
    "plt.title('MTA stations with the Fewest Avg. Daily Entries/Exits \\n from late April 2021 - July 2021')\n",
    "\n",
    "plt.subplot(3, 1, 2)\n",
    "plt.barh(stations_2, stations_2_values)\n",
    "plt.title('MTA stations with the Median Avg. Daily Entries/Exits \\n from late April 2021 - July 2021')\n",
    "\n",
    "plt.subplot(3, 1, 3)\n",
    "plt.barh(stations_3, stations_3_values)\n",
    "plt.tight_layout()\n",
    "plt.title('MTA stations with the Most Avg. Daily Entries/Exits \\n from late April 2021 - July 2021')"
   ]
  },
  {
   "cell_type": "markdown",
   "metadata": {},
   "source": [
    "- Ideally, outreach about composting would take place at stations with closest to the median number of average daily entries/exits, which is around 3000. "
   ]
  },
  {
   "cell_type": "markdown",
   "metadata": {},
   "source": [
    "# Clean mta stations location data\n",
    "- The second criterion for selection MTA stations at which to do outreach to promote composting is proximity to food scrap drop-off sites.\n",
    "- Since location data was not in the turnstiles dataset, I needed to get it from another dataset.\n",
    "- Before merging the average daily entries/exits per station df with the stations location dataset, I must clean the stations location dataset."
   ]
  },
  {
   "cell_type": "code",
   "execution_count": 73,
   "metadata": {},
   "outputs": [
    {
     "data": {
      "text/plain": [
       "(496, 15)"
      ]
     },
     "execution_count": 73,
     "metadata": {},
     "output_type": "execute_result"
    }
   ],
   "source": [
    "mta_stations.shape"
   ]
  },
  {
   "cell_type": "code",
   "execution_count": 74,
   "metadata": {},
   "outputs": [
    {
     "name": "stdout",
     "output_type": "stream",
     "text": [
      "<class 'pandas.core.frame.DataFrame'>\n",
      "RangeIndex: 496 entries, 0 to 495\n",
      "Data columns (total 15 columns):\n",
      " #   Column                 Non-Null Count  Dtype  \n",
      "---  ------                 --------------  -----  \n",
      " 0   Station ID             496 non-null    int64  \n",
      " 1   Complex ID             496 non-null    int64  \n",
      " 2   GTFS Stop ID           496 non-null    object \n",
      " 3   Division               496 non-null    object \n",
      " 4   Line                   496 non-null    object \n",
      " 5   Stop Name              496 non-null    object \n",
      " 6   Borough                496 non-null    object \n",
      " 7   Daytime Routes         496 non-null    object \n",
      " 8   Structure              496 non-null    object \n",
      " 9   GTFS Latitude          496 non-null    float64\n",
      " 10  GTFS Longitude         496 non-null    float64\n",
      " 11  North Direction Label  478 non-null    object \n",
      " 12  South Direction Label  481 non-null    object \n",
      " 13  ADA                    496 non-null    int64  \n",
      " 14  ADA Notes              9 non-null      object \n",
      "dtypes: float64(2), int64(3), object(10)\n",
      "memory usage: 58.2+ KB\n"
     ]
    }
   ],
   "source": [
    "mta_stations.info()"
   ]
  },
  {
   "cell_type": "code",
   "execution_count": 75,
   "metadata": {},
   "outputs": [
    {
     "data": {
      "text/plain": [
       "Index(['Station ID', 'Complex ID', 'GTFS Stop ID', 'Division', 'Line',\n",
       "       'Stop Name', 'Borough', 'Daytime Routes', 'Structure', 'GTFS Latitude',\n",
       "       'GTFS Longitude', 'North Direction Label', 'South Direction Label',\n",
       "       'ADA', 'ADA Notes'],\n",
       "      dtype='object')"
      ]
     },
     "execution_count": 75,
     "metadata": {},
     "output_type": "execute_result"
    }
   ],
   "source": [
    "mta_stations.columns"
   ]
  },
  {
   "cell_type": "code",
   "execution_count": 76,
   "metadata": {},
   "outputs": [
    {
     "data": {
      "text/plain": [
       "Index(['station_id', 'complex_id', 'gtfs_stop_id', 'division', 'line',\n",
       "       'stop_name', 'borough', 'daytime_routes', 'structure', 'gtfs_latitude',\n",
       "       'gtfs_longitude', 'north_direction_label', 'south_direction_label',\n",
       "       'ada', 'ada_notes'],\n",
       "      dtype='object')"
      ]
     },
     "execution_count": 76,
     "metadata": {},
     "output_type": "execute_result"
    }
   ],
   "source": [
    "# update column names by making them all lower case and remove spaces\n",
    "mta_stations.columns = [column.lower().replace(\" \", \"_\") for column in mta_stations.columns]\n",
    "mta_stations.columns"
   ]
  },
  {
   "cell_type": "code",
   "execution_count": 77,
   "metadata": {},
   "outputs": [
    {
     "data": {
      "text/html": [
       "<div>\n",
       "<style scoped>\n",
       "    .dataframe tbody tr th:only-of-type {\n",
       "        vertical-align: middle;\n",
       "    }\n",
       "\n",
       "    .dataframe tbody tr th {\n",
       "        vertical-align: top;\n",
       "    }\n",
       "\n",
       "    .dataframe thead th {\n",
       "        text-align: right;\n",
       "    }\n",
       "</style>\n",
       "<table border=\"1\" class=\"dataframe\">\n",
       "  <thead>\n",
       "    <tr style=\"text-align: right;\">\n",
       "      <th></th>\n",
       "      <th>station_id</th>\n",
       "      <th>complex_id</th>\n",
       "      <th>gtfs_stop_id</th>\n",
       "      <th>division</th>\n",
       "      <th>line</th>\n",
       "      <th>stop_name</th>\n",
       "      <th>borough</th>\n",
       "      <th>daytime_routes</th>\n",
       "      <th>structure</th>\n",
       "      <th>gtfs_latitude</th>\n",
       "      <th>gtfs_longitude</th>\n",
       "      <th>north_direction_label</th>\n",
       "      <th>south_direction_label</th>\n",
       "      <th>ada</th>\n",
       "      <th>ada_notes</th>\n",
       "    </tr>\n",
       "  </thead>\n",
       "  <tbody>\n",
       "    <tr>\n",
       "      <th>0</th>\n",
       "      <td>119</td>\n",
       "      <td>119</td>\n",
       "      <td>L06</td>\n",
       "      <td>BMT</td>\n",
       "      <td>Canarsie</td>\n",
       "      <td>1 Av</td>\n",
       "      <td>M</td>\n",
       "      <td>L</td>\n",
       "      <td>Subway</td>\n",
       "      <td>40.730953</td>\n",
       "      <td>-73.981628</td>\n",
       "      <td>8 Av</td>\n",
       "      <td>Brooklyn</td>\n",
       "      <td>1</td>\n",
       "      <td>NaN</td>\n",
       "    </tr>\n",
       "    <tr>\n",
       "      <th>1</th>\n",
       "      <td>156</td>\n",
       "      <td>156</td>\n",
       "      <td>A18</td>\n",
       "      <td>IND</td>\n",
       "      <td>8th Av - Fulton St</td>\n",
       "      <td>103 St</td>\n",
       "      <td>M</td>\n",
       "      <td>B C</td>\n",
       "      <td>Subway</td>\n",
       "      <td>40.796092</td>\n",
       "      <td>-73.961454</td>\n",
       "      <td>Uptown &amp; The Bronx</td>\n",
       "      <td>Downtown &amp; Brooklyn</td>\n",
       "      <td>0</td>\n",
       "      <td>NaN</td>\n",
       "    </tr>\n",
       "    <tr>\n",
       "      <th>2</th>\n",
       "      <td>309</td>\n",
       "      <td>309</td>\n",
       "      <td>119</td>\n",
       "      <td>IRT</td>\n",
       "      <td>Broadway - 7Av</td>\n",
       "      <td>103 St</td>\n",
       "      <td>M</td>\n",
       "      <td>1</td>\n",
       "      <td>Subway</td>\n",
       "      <td>40.799446</td>\n",
       "      <td>-73.968379</td>\n",
       "      <td>Uptown &amp; The Bronx</td>\n",
       "      <td>Downtown</td>\n",
       "      <td>0</td>\n",
       "      <td>NaN</td>\n",
       "    </tr>\n",
       "    <tr>\n",
       "      <th>3</th>\n",
       "      <td>395</td>\n",
       "      <td>395</td>\n",
       "      <td>624</td>\n",
       "      <td>IRT</td>\n",
       "      <td>Lexington Av</td>\n",
       "      <td>103 St</td>\n",
       "      <td>M</td>\n",
       "      <td>6</td>\n",
       "      <td>Subway</td>\n",
       "      <td>40.790600</td>\n",
       "      <td>-73.947478</td>\n",
       "      <td>Uptown &amp; The Bronx</td>\n",
       "      <td>Downtown</td>\n",
       "      <td>0</td>\n",
       "      <td>NaN</td>\n",
       "    </tr>\n",
       "    <tr>\n",
       "      <th>4</th>\n",
       "      <td>450</td>\n",
       "      <td>450</td>\n",
       "      <td>706</td>\n",
       "      <td>IRT</td>\n",
       "      <td>Flushing</td>\n",
       "      <td>103 St-Corona Plaza</td>\n",
       "      <td>Q</td>\n",
       "      <td>7</td>\n",
       "      <td>Elevated</td>\n",
       "      <td>40.749865</td>\n",
       "      <td>-73.862700</td>\n",
       "      <td>Flushing</td>\n",
       "      <td>Manhattan</td>\n",
       "      <td>0</td>\n",
       "      <td>NaN</td>\n",
       "    </tr>\n",
       "  </tbody>\n",
       "</table>\n",
       "</div>"
      ],
      "text/plain": [
       "   station_id  complex_id gtfs_stop_id division                line  \\\n",
       "0         119         119          L06      BMT            Canarsie   \n",
       "1         156         156          A18      IND  8th Av - Fulton St   \n",
       "2         309         309          119      IRT      Broadway - 7Av   \n",
       "3         395         395          624      IRT        Lexington Av   \n",
       "4         450         450          706      IRT            Flushing   \n",
       "\n",
       "             stop_name borough daytime_routes structure  gtfs_latitude  \\\n",
       "0                 1 Av       M              L    Subway      40.730953   \n",
       "1               103 St       M            B C    Subway      40.796092   \n",
       "2               103 St       M              1    Subway      40.799446   \n",
       "3               103 St       M              6    Subway      40.790600   \n",
       "4  103 St-Corona Plaza       Q              7  Elevated      40.749865   \n",
       "\n",
       "   gtfs_longitude north_direction_label south_direction_label  ada ada_notes  \n",
       "0      -73.981628                  8 Av              Brooklyn    1       NaN  \n",
       "1      -73.961454    Uptown & The Bronx   Downtown & Brooklyn    0       NaN  \n",
       "2      -73.968379    Uptown & The Bronx              Downtown    0       NaN  \n",
       "3      -73.947478    Uptown & The Bronx              Downtown    0       NaN  \n",
       "4      -73.862700              Flushing             Manhattan    0       NaN  "
      ]
     },
     "execution_count": 77,
     "metadata": {},
     "output_type": "execute_result"
    }
   ],
   "source": [
    "mta_stations.head()"
   ]
  },
  {
   "cell_type": "code",
   "execution_count": 78,
   "metadata": {},
   "outputs": [
    {
     "data": {
      "text/plain": [
       "379"
      ]
     },
     "execution_count": 78,
     "metadata": {},
     "output_type": "execute_result"
    }
   ],
   "source": [
    "# count number of unique stations in stop_name column\n",
    "len(mta_stations.stop_name.unique())"
   ]
  },
  {
   "cell_type": "code",
   "execution_count": 79,
   "metadata": {},
   "outputs": [
    {
     "data": {
      "text/plain": [
       "493"
      ]
     },
     "execution_count": 79,
     "metadata": {},
     "output_type": "execute_result"
    }
   ],
   "source": [
    "# create new column that combines latitude and longitude to find out how many are unique\n",
    "mta_stations['lat_long'] = mta_stations['gtfs_latitude'].astype(str) + \" \" + mta_stations['gtfs_longitude'].astype(str)\n",
    "len(mta_stations.lat_long.unique())"
   ]
  },
  {
   "cell_type": "markdown",
   "metadata": {},
   "source": [
    "- The above two cells illustrate that there are multiple locations per station. This is because stations generally have more than one entrance/exit.\n",
    "- For simplicity, I am going to use only one location per station, so I will only keep the first location listed per station."
   ]
  },
  {
   "cell_type": "code",
   "execution_count": 80,
   "metadata": {},
   "outputs": [],
   "source": [
    "# drop duplicate stations, keep first instance\n",
    "mta_stations.drop_duplicates(subset=['stop_name'], keep='first', inplace=True)"
   ]
  },
  {
   "cell_type": "code",
   "execution_count": 81,
   "metadata": {},
   "outputs": [
    {
     "data": {
      "text/plain": [
       "(379, 16)"
      ]
     },
     "execution_count": 81,
     "metadata": {},
     "output_type": "execute_result"
    }
   ],
   "source": [
    "mta_stations.shape"
   ]
  },
  {
   "cell_type": "code",
   "execution_count": 82,
   "metadata": {},
   "outputs": [
    {
     "data": {
      "text/html": [
       "<div>\n",
       "<style scoped>\n",
       "    .dataframe tbody tr th:only-of-type {\n",
       "        vertical-align: middle;\n",
       "    }\n",
       "\n",
       "    .dataframe tbody tr th {\n",
       "        vertical-align: top;\n",
       "    }\n",
       "\n",
       "    .dataframe thead th {\n",
       "        text-align: right;\n",
       "    }\n",
       "</style>\n",
       "<table border=\"1\" class=\"dataframe\">\n",
       "  <thead>\n",
       "    <tr style=\"text-align: right;\">\n",
       "      <th></th>\n",
       "      <th>stop_name</th>\n",
       "      <th>borough</th>\n",
       "      <th>gtfs_latitude</th>\n",
       "      <th>gtfs_longitude</th>\n",
       "      <th>lat_long</th>\n",
       "    </tr>\n",
       "  </thead>\n",
       "  <tbody>\n",
       "    <tr>\n",
       "      <th>0</th>\n",
       "      <td>1 Av</td>\n",
       "      <td>M</td>\n",
       "      <td>40.730953</td>\n",
       "      <td>-73.981628</td>\n",
       "      <td>40.730953 -73.981628</td>\n",
       "    </tr>\n",
       "    <tr>\n",
       "      <th>1</th>\n",
       "      <td>103 St</td>\n",
       "      <td>M</td>\n",
       "      <td>40.796092</td>\n",
       "      <td>-73.961454</td>\n",
       "      <td>40.796092 -73.961454</td>\n",
       "    </tr>\n",
       "    <tr>\n",
       "      <th>4</th>\n",
       "      <td>103 St-Corona Plaza</td>\n",
       "      <td>Q</td>\n",
       "      <td>40.749865</td>\n",
       "      <td>-73.862700</td>\n",
       "      <td>40.749865 -73.8627</td>\n",
       "    </tr>\n",
       "    <tr>\n",
       "      <th>5</th>\n",
       "      <td>104 St</td>\n",
       "      <td>Q</td>\n",
       "      <td>40.695178</td>\n",
       "      <td>-73.844330</td>\n",
       "      <td>40.695178000000006 -73.84433</td>\n",
       "    </tr>\n",
       "    <tr>\n",
       "      <th>7</th>\n",
       "      <td>110 St</td>\n",
       "      <td>M</td>\n",
       "      <td>40.795020</td>\n",
       "      <td>-73.944250</td>\n",
       "      <td>40.79502 -73.94425</td>\n",
       "    </tr>\n",
       "  </tbody>\n",
       "</table>\n",
       "</div>"
      ],
      "text/plain": [
       "             stop_name borough  gtfs_latitude  gtfs_longitude  \\\n",
       "0                 1 Av       M      40.730953      -73.981628   \n",
       "1               103 St       M      40.796092      -73.961454   \n",
       "4  103 St-Corona Plaza       Q      40.749865      -73.862700   \n",
       "5               104 St       Q      40.695178      -73.844330   \n",
       "7               110 St       M      40.795020      -73.944250   \n",
       "\n",
       "                       lat_long  \n",
       "0          40.730953 -73.981628  \n",
       "1          40.796092 -73.961454  \n",
       "4            40.749865 -73.8627  \n",
       "5  40.695178000000006 -73.84433  \n",
       "7            40.79502 -73.94425  "
      ]
     },
     "execution_count": 82,
     "metadata": {},
     "output_type": "execute_result"
    }
   ],
   "source": [
    "# drop columns not needed for analysis\n",
    "mta_stations = mta_stations.drop(['station_id', 'complex_id', 'gtfs_stop_id', 'division', 'line',\n",
    "                                 'daytime_routes', 'structure', 'north_direction_label', 'south_direction_label',\n",
    "                                 'ada', 'ada_notes'], axis=1, errors=\"ignore\")\n",
    "mta_stations.head()"
   ]
  },
  {
   "cell_type": "markdown",
   "metadata": {},
   "source": [
    "# Merge dfs mta_stations with station_daily_avg_counts"
   ]
  },
  {
   "cell_type": "code",
   "execution_count": 83,
   "metadata": {},
   "outputs": [
    {
     "name": "stdout",
     "output_type": "stream",
     "text": [
      "(379, 5)\n",
      "(379, 5)\n"
     ]
    }
   ],
   "source": [
    "print(mta_stations.shape)\n",
    "print(station_daily_avg_counts.shape)"
   ]
  },
  {
   "cell_type": "code",
   "execution_count": 84,
   "metadata": {},
   "outputs": [
    {
     "data": {
      "text/plain": [
       "Index([], dtype='object')"
      ]
     },
     "execution_count": 84,
     "metadata": {},
     "output_type": "execute_result"
    }
   ],
   "source": [
    "# look for columns in common\n",
    "mta_stations.columns.intersection(station_daily_avg_counts)"
   ]
  },
  {
   "cell_type": "markdown",
   "metadata": {},
   "source": [
    "- Since there are no columns in common on which to merge, I must look at each df's column names to determine what they could be merged on."
   ]
  },
  {
   "cell_type": "code",
   "execution_count": 85,
   "metadata": {},
   "outputs": [
    {
     "name": "stdout",
     "output_type": "stream",
     "text": [
      "Index(['stop_name', 'borough', 'gtfs_latitude', 'gtfs_longitude', 'lat_long'], dtype='object')\n",
      "Index(['station', 'daily_entries', 'daily_exits', 'count_dates',\n",
      "       'avg_daily_entries_exits'],\n",
      "      dtype='object')\n"
     ]
    }
   ],
   "source": [
    "print(mta_stations.columns)\n",
    "print(station_daily_avg_counts.columns)"
   ]
  },
  {
   "cell_type": "markdown",
   "metadata": {},
   "source": [
    "- The above cell shows that the column containing station name is named differently in each df.\n",
    "- Since those are the columns on which I want to merge, I will ensure that the data within them is formatted the same."
   ]
  },
  {
   "cell_type": "code",
   "execution_count": 86,
   "metadata": {},
   "outputs": [
    {
     "data": {
      "text/plain": [
       "Huguenot          1\n",
       "169 St            1\n",
       "52 St             1\n",
       "Castle Hill Av    1\n",
       "Bay 50 St         1\n",
       "Name: stop_name, dtype: int64"
      ]
     },
     "execution_count": 86,
     "metadata": {},
     "output_type": "execute_result"
    }
   ],
   "source": [
    "# look at values of stop_name in mta_stations\n",
    "mta_stations.stop_name.value_counts().head()"
   ]
  },
  {
   "cell_type": "code",
   "execution_count": 87,
   "metadata": {},
   "outputs": [
    {
     "data": {
      "text/plain": [
       "LEXINGTON AV/63    1\n",
       "MOSHOLU PKWY       1\n",
       "RALPH AV           1\n",
       "182-183 STS        1\n",
       "LIVONIA AV         1\n",
       "Name: station, dtype: int64"
      ]
     },
     "execution_count": 87,
     "metadata": {},
     "output_type": "execute_result"
    }
   ],
   "source": [
    "# look at values of station in mta_stations\n",
    "station_daily_avg_counts.station.value_counts().head()"
   ]
  },
  {
   "cell_type": "markdown",
   "metadata": {},
   "source": [
    "- The columns are are not formatted the same, so this must be done for the merge to work."
   ]
  },
  {
   "cell_type": "code",
   "execution_count": 88,
   "metadata": {},
   "outputs": [],
   "source": [
    "# to merge dfs on station/stop_name, make them both all lower case\n",
    "mta_stations['stop_name'] = [name.lower() for name in mta_stations.stop_name]\n",
    "station_daily_avg_counts['station'] = [name.lower() for name in station_daily_avg_counts.station]"
   ]
  },
  {
   "cell_type": "code",
   "execution_count": 168,
   "metadata": {},
   "outputs": [],
   "source": [
    "stations_merged = station_daily_avg_counts.merge(mta_stations, how='left', left_on='station', right_on='stop_name')"
   ]
  },
  {
   "cell_type": "markdown",
   "metadata": {},
   "source": [
    "## Check Merge"
   ]
  },
  {
   "cell_type": "code",
   "execution_count": 169,
   "metadata": {},
   "outputs": [
    {
     "data": {
      "text/plain": [
       "(379, 10)"
      ]
     },
     "execution_count": 169,
     "metadata": {},
     "output_type": "execute_result"
    }
   ],
   "source": [
    "stations_merged.shape"
   ]
  },
  {
   "cell_type": "code",
   "execution_count": 170,
   "metadata": {},
   "outputs": [
    {
     "name": "stdout",
     "output_type": "stream",
     "text": [
      "<class 'pandas.core.frame.DataFrame'>\n",
      "Int64Index: 379 entries, 0 to 378\n",
      "Data columns (total 10 columns):\n",
      " #   Column                   Non-Null Count  Dtype  \n",
      "---  ------                   --------------  -----  \n",
      " 0   station                  379 non-null    object \n",
      " 1   daily_entries            379 non-null    float64\n",
      " 2   daily_exits              379 non-null    float64\n",
      " 3   count_dates              379 non-null    int64  \n",
      " 4   avg_daily_entries_exits  379 non-null    float64\n",
      " 5   stop_name                256 non-null    object \n",
      " 6   borough                  256 non-null    object \n",
      " 7   gtfs_latitude            256 non-null    float64\n",
      " 8   gtfs_longitude           256 non-null    float64\n",
      " 9   lat_long                 256 non-null    object \n",
      "dtypes: float64(5), int64(1), object(4)\n",
      "memory usage: 32.6+ KB\n"
     ]
    }
   ],
   "source": [
    "stations_merged.info()"
   ]
  },
  {
   "cell_type": "code",
   "execution_count": 92,
   "metadata": {},
   "outputs": [
    {
     "data": {
      "text/html": [
       "<div>\n",
       "<style scoped>\n",
       "    .dataframe tbody tr th:only-of-type {\n",
       "        vertical-align: middle;\n",
       "    }\n",
       "\n",
       "    .dataframe tbody tr th {\n",
       "        vertical-align: top;\n",
       "    }\n",
       "\n",
       "    .dataframe thead th {\n",
       "        text-align: right;\n",
       "    }\n",
       "</style>\n",
       "<table border=\"1\" class=\"dataframe\">\n",
       "  <thead>\n",
       "    <tr style=\"text-align: right;\">\n",
       "      <th></th>\n",
       "      <th>station</th>\n",
       "      <th>daily_entries</th>\n",
       "      <th>daily_exits</th>\n",
       "      <th>count_dates</th>\n",
       "      <th>avg_daily_entries_exits</th>\n",
       "      <th>stop_name</th>\n",
       "      <th>borough</th>\n",
       "      <th>gtfs_latitude</th>\n",
       "      <th>gtfs_longitude</th>\n",
       "      <th>lat_long</th>\n",
       "    </tr>\n",
       "  </thead>\n",
       "  <tbody>\n",
       "    <tr>\n",
       "      <th>0</th>\n",
       "      <td>orchard beach</td>\n",
       "      <td>7.0</td>\n",
       "      <td>4.0</td>\n",
       "      <td>54</td>\n",
       "      <td>5.5</td>\n",
       "      <td>NaN</td>\n",
       "      <td>NaN</td>\n",
       "      <td>NaN</td>\n",
       "      <td>NaN</td>\n",
       "      <td>NaN</td>\n",
       "    </tr>\n",
       "    <tr>\n",
       "      <th>7</th>\n",
       "      <td>aqueduct racetr</td>\n",
       "      <td>633.0</td>\n",
       "      <td>132.0</td>\n",
       "      <td>97</td>\n",
       "      <td>382.5</td>\n",
       "      <td>NaN</td>\n",
       "      <td>NaN</td>\n",
       "      <td>NaN</td>\n",
       "      <td>NaN</td>\n",
       "      <td>NaN</td>\n",
       "    </tr>\n",
       "    <tr>\n",
       "      <th>9</th>\n",
       "      <td>rockaway park b</td>\n",
       "      <td>328.0</td>\n",
       "      <td>488.0</td>\n",
       "      <td>97</td>\n",
       "      <td>408.0</td>\n",
       "      <td>NaN</td>\n",
       "      <td>NaN</td>\n",
       "      <td>NaN</td>\n",
       "      <td>NaN</td>\n",
       "      <td>NaN</td>\n",
       "    </tr>\n",
       "    <tr>\n",
       "      <th>15</th>\n",
       "      <td>e 143/st mary's</td>\n",
       "      <td>462.0</td>\n",
       "      <td>682.0</td>\n",
       "      <td>97</td>\n",
       "      <td>572.0</td>\n",
       "      <td>NaN</td>\n",
       "      <td>NaN</td>\n",
       "      <td>NaN</td>\n",
       "      <td>NaN</td>\n",
       "      <td>NaN</td>\n",
       "    </tr>\n",
       "    <tr>\n",
       "      <th>16</th>\n",
       "      <td>aqueduct n.cond</td>\n",
       "      <td>320.0</td>\n",
       "      <td>849.0</td>\n",
       "      <td>97</td>\n",
       "      <td>584.5</td>\n",
       "      <td>NaN</td>\n",
       "      <td>NaN</td>\n",
       "      <td>NaN</td>\n",
       "      <td>NaN</td>\n",
       "      <td>NaN</td>\n",
       "    </tr>\n",
       "    <tr>\n",
       "      <th>...</th>\n",
       "      <td>...</td>\n",
       "      <td>...</td>\n",
       "      <td>...</td>\n",
       "      <td>...</td>\n",
       "      <td>...</td>\n",
       "      <td>...</td>\n",
       "      <td>...</td>\n",
       "      <td>...</td>\n",
       "      <td>...</td>\n",
       "      <td>...</td>\n",
       "    </tr>\n",
       "    <tr>\n",
       "      <th>364</th>\n",
       "      <td>jksn ht-roosvlt</td>\n",
       "      <td>20648.0</td>\n",
       "      <td>20065.0</td>\n",
       "      <td>97</td>\n",
       "      <td>20356.5</td>\n",
       "      <td>NaN</td>\n",
       "      <td>NaN</td>\n",
       "      <td>NaN</td>\n",
       "      <td>NaN</td>\n",
       "      <td>NaN</td>\n",
       "    </tr>\n",
       "    <tr>\n",
       "      <th>368</th>\n",
       "      <td>flushing-main</td>\n",
       "      <td>22691.0</td>\n",
       "      <td>25694.0</td>\n",
       "      <td>97</td>\n",
       "      <td>24192.5</td>\n",
       "      <td>NaN</td>\n",
       "      <td>NaN</td>\n",
       "      <td>NaN</td>\n",
       "      <td>NaN</td>\n",
       "      <td>NaN</td>\n",
       "    </tr>\n",
       "    <tr>\n",
       "      <th>373</th>\n",
       "      <td>42 st-port auth</td>\n",
       "      <td>27807.0</td>\n",
       "      <td>33747.0</td>\n",
       "      <td>97</td>\n",
       "      <td>30777.0</td>\n",
       "      <td>NaN</td>\n",
       "      <td>NaN</td>\n",
       "      <td>NaN</td>\n",
       "      <td>NaN</td>\n",
       "      <td>NaN</td>\n",
       "    </tr>\n",
       "    <tr>\n",
       "      <th>376</th>\n",
       "      <td>grd cntrl-42 st</td>\n",
       "      <td>29189.0</td>\n",
       "      <td>40888.0</td>\n",
       "      <td>97</td>\n",
       "      <td>35038.5</td>\n",
       "      <td>NaN</td>\n",
       "      <td>NaN</td>\n",
       "      <td>NaN</td>\n",
       "      <td>NaN</td>\n",
       "      <td>NaN</td>\n",
       "    </tr>\n",
       "    <tr>\n",
       "      <th>378</th>\n",
       "      <td>34 st-penn sta</td>\n",
       "      <td>41056.0</td>\n",
       "      <td>55227.0</td>\n",
       "      <td>97</td>\n",
       "      <td>48141.5</td>\n",
       "      <td>NaN</td>\n",
       "      <td>NaN</td>\n",
       "      <td>NaN</td>\n",
       "      <td>NaN</td>\n",
       "      <td>NaN</td>\n",
       "    </tr>\n",
       "  </tbody>\n",
       "</table>\n",
       "<p>125 rows × 10 columns</p>\n",
       "</div>"
      ],
      "text/plain": [
       "             station  daily_entries  daily_exits  count_dates  \\\n",
       "0      orchard beach            7.0          4.0           54   \n",
       "7    aqueduct racetr          633.0        132.0           97   \n",
       "9    rockaway park b          328.0        488.0           97   \n",
       "15   e 143/st mary's          462.0        682.0           97   \n",
       "16   aqueduct n.cond          320.0        849.0           97   \n",
       "..               ...            ...          ...          ...   \n",
       "364  jksn ht-roosvlt        20648.0      20065.0           97   \n",
       "368    flushing-main        22691.0      25694.0           97   \n",
       "373  42 st-port auth        27807.0      33747.0           97   \n",
       "376  grd cntrl-42 st        29189.0      40888.0           97   \n",
       "378   34 st-penn sta        41056.0      55227.0           97   \n",
       "\n",
       "     avg_daily_entries_exits stop_name borough  gtfs_latitude  gtfs_longitude  \\\n",
       "0                        5.5       NaN     NaN            NaN             NaN   \n",
       "7                      382.5       NaN     NaN            NaN             NaN   \n",
       "9                      408.0       NaN     NaN            NaN             NaN   \n",
       "15                     572.0       NaN     NaN            NaN             NaN   \n",
       "16                     584.5       NaN     NaN            NaN             NaN   \n",
       "..                       ...       ...     ...            ...             ...   \n",
       "364                  20356.5       NaN     NaN            NaN             NaN   \n",
       "368                  24192.5       NaN     NaN            NaN             NaN   \n",
       "373                  30777.0       NaN     NaN            NaN             NaN   \n",
       "376                  35038.5       NaN     NaN            NaN             NaN   \n",
       "378                  48141.5       NaN     NaN            NaN             NaN   \n",
       "\n",
       "    lat_long  \n",
       "0        NaN  \n",
       "7        NaN  \n",
       "9        NaN  \n",
       "15       NaN  \n",
       "16       NaN  \n",
       "..       ...  \n",
       "364      NaN  \n",
       "368      NaN  \n",
       "373      NaN  \n",
       "376      NaN  \n",
       "378      NaN  \n",
       "\n",
       "[125 rows x 10 columns]"
      ]
     },
     "execution_count": 92,
     "metadata": {},
     "output_type": "execute_result"
    }
   ],
   "source": [
    "# look at some columns where lat and long columns are null\n",
    "stations_merged[stations_merged.lat_long.isna()]"
   ]
  },
  {
   "cell_type": "markdown",
   "metadata": {},
   "source": [
    "- The above shows that not every station appeared in both merge dfs. \n",
    "- To figure out why that might be, let's look at whether the 5 stations with median average daily entries/exits appear in both."
   ]
  },
  {
   "cell_type": "code",
   "execution_count": 171,
   "metadata": {},
   "outputs": [
    {
     "name": "stdout",
     "output_type": "stream",
     "text": [
      "188           harrison\n",
      "189       parsons blvd\n",
      "190         lorimer st\n",
      "191          rector st\n",
      "192    roosevelt islnd\n",
      "Name: station, dtype: object\n"
     ]
    },
    {
     "data": {
      "text/html": [
       "<div>\n",
       "<style scoped>\n",
       "    .dataframe tbody tr th:only-of-type {\n",
       "        vertical-align: middle;\n",
       "    }\n",
       "\n",
       "    .dataframe tbody tr th {\n",
       "        vertical-align: top;\n",
       "    }\n",
       "\n",
       "    .dataframe thead th {\n",
       "        text-align: right;\n",
       "    }\n",
       "</style>\n",
       "<table border=\"1\" class=\"dataframe\">\n",
       "  <thead>\n",
       "    <tr style=\"text-align: right;\">\n",
       "      <th></th>\n",
       "      <th>station</th>\n",
       "      <th>daily_entries</th>\n",
       "      <th>daily_exits</th>\n",
       "      <th>count_dates</th>\n",
       "      <th>avg_daily_entries_exits</th>\n",
       "      <th>stop_name</th>\n",
       "      <th>borough</th>\n",
       "      <th>gtfs_latitude</th>\n",
       "      <th>gtfs_longitude</th>\n",
       "      <th>lat_long</th>\n",
       "    </tr>\n",
       "  </thead>\n",
       "  <tbody>\n",
       "    <tr>\n",
       "      <th>189</th>\n",
       "      <td>parsons blvd</td>\n",
       "      <td>2734.0</td>\n",
       "      <td>3147.0</td>\n",
       "      <td>97</td>\n",
       "      <td>2940.5</td>\n",
       "      <td>parsons blvd</td>\n",
       "      <td>Q</td>\n",
       "      <td>40.707564</td>\n",
       "      <td>-73.803326</td>\n",
       "      <td>40.707564 -73.803326</td>\n",
       "    </tr>\n",
       "    <tr>\n",
       "      <th>190</th>\n",
       "      <td>lorimer st</td>\n",
       "      <td>3166.0</td>\n",
       "      <td>2773.0</td>\n",
       "      <td>97</td>\n",
       "      <td>2969.5</td>\n",
       "      <td>lorimer st</td>\n",
       "      <td>Bk</td>\n",
       "      <td>40.703869</td>\n",
       "      <td>-73.947408</td>\n",
       "      <td>40.703869 -73.947408</td>\n",
       "    </tr>\n",
       "    <tr>\n",
       "      <th>191</th>\n",
       "      <td>rector st</td>\n",
       "      <td>3235.0</td>\n",
       "      <td>2741.0</td>\n",
       "      <td>97</td>\n",
       "      <td>2988.0</td>\n",
       "      <td>rector st</td>\n",
       "      <td>M</td>\n",
       "      <td>40.707220</td>\n",
       "      <td>-74.013342</td>\n",
       "      <td>40.70722 -74.01334200000001</td>\n",
       "    </tr>\n",
       "    <tr>\n",
       "      <th>192</th>\n",
       "      <td>roosevelt islnd</td>\n",
       "      <td>2819.0</td>\n",
       "      <td>3325.0</td>\n",
       "      <td>97</td>\n",
       "      <td>3072.0</td>\n",
       "      <td>roosevelt islnd</td>\n",
       "      <td>M</td>\n",
       "      <td>40.759145</td>\n",
       "      <td>-73.953260</td>\n",
       "      <td>40.759145000000004 -73.95326</td>\n",
       "    </tr>\n",
       "  </tbody>\n",
       "</table>\n",
       "</div>"
      ],
      "text/plain": [
       "             station  daily_entries  daily_exits  count_dates  \\\n",
       "189     parsons blvd         2734.0       3147.0           97   \n",
       "190       lorimer st         3166.0       2773.0           97   \n",
       "191        rector st         3235.0       2741.0           97   \n",
       "192  roosevelt islnd         2819.0       3325.0           97   \n",
       "\n",
       "     avg_daily_entries_exits        stop_name borough  gtfs_latitude  \\\n",
       "189                   2940.5     parsons blvd       Q      40.707564   \n",
       "190                   2969.5       lorimer st      Bk      40.703869   \n",
       "191                   2988.0        rector st       M      40.707220   \n",
       "192                   3072.0  roosevelt islnd       M      40.759145   \n",
       "\n",
       "     gtfs_longitude                      lat_long  \n",
       "189      -73.803326          40.707564 -73.803326  \n",
       "190      -73.947408          40.703869 -73.947408  \n",
       "191      -74.013342   40.70722 -74.01334200000001  \n",
       "192      -73.953260  40.759145000000004 -73.95326  "
      ]
     },
     "execution_count": 171,
     "metadata": {},
     "output_type": "execute_result"
    }
   ],
   "source": [
    "mid_stations = mid_daily_avg_counts.station.str.lower()\n",
    "print(mid_stations)\n",
    "stations_merged[stations_merged.stop_name.isin(mid_stations) == True]"
   ]
  },
  {
   "cell_type": "markdown",
   "metadata": {},
   "source": [
    "- The above shows that only 3 appear in the merged df, which could mean one of two things:\n",
    "   - 1. the other two stations in the df with average daily entries/exits per station didn't appear in the stations location df\n",
    "   - 2. the stations appeared in both but were spelled differently\n",
    "- I'll investigate theory #2 using the Roosevelt Island station."
   ]
  },
  {
   "cell_type": "code",
   "execution_count": 172,
   "metadata": {},
   "outputs": [
    {
     "data": {
      "text/html": [
       "<div>\n",
       "<style scoped>\n",
       "    .dataframe tbody tr th:only-of-type {\n",
       "        vertical-align: middle;\n",
       "    }\n",
       "\n",
       "    .dataframe tbody tr th {\n",
       "        vertical-align: top;\n",
       "    }\n",
       "\n",
       "    .dataframe thead th {\n",
       "        text-align: right;\n",
       "    }\n",
       "</style>\n",
       "<table border=\"1\" class=\"dataframe\">\n",
       "  <thead>\n",
       "    <tr style=\"text-align: right;\">\n",
       "      <th></th>\n",
       "      <th>stop_name</th>\n",
       "      <th>borough</th>\n",
       "      <th>gtfs_latitude</th>\n",
       "      <th>gtfs_longitude</th>\n",
       "      <th>lat_long</th>\n",
       "    </tr>\n",
       "  </thead>\n",
       "  <tbody>\n",
       "    <tr>\n",
       "      <th>435</th>\n",
       "      <td>ralph av</td>\n",
       "      <td>Bk</td>\n",
       "      <td>40.678822</td>\n",
       "      <td>-73.920786</td>\n",
       "      <td>40.678822 -73.92078599999999</td>\n",
       "    </tr>\n",
       "    <tr>\n",
       "      <th>436</th>\n",
       "      <td>rector st</td>\n",
       "      <td>M</td>\n",
       "      <td>40.707220</td>\n",
       "      <td>-74.013342</td>\n",
       "      <td>40.70722 -74.01334200000001</td>\n",
       "    </tr>\n",
       "    <tr>\n",
       "      <th>438</th>\n",
       "      <td>richmond valley</td>\n",
       "      <td>SI</td>\n",
       "      <td>40.519631</td>\n",
       "      <td>-74.229141</td>\n",
       "      <td>40.519631 -74.229141</td>\n",
       "    </tr>\n",
       "    <tr>\n",
       "      <th>439</th>\n",
       "      <td>rockaway av</td>\n",
       "      <td>Bk</td>\n",
       "      <td>40.678340</td>\n",
       "      <td>-73.911946</td>\n",
       "      <td>40.678340000000006 -73.911946</td>\n",
       "    </tr>\n",
       "    <tr>\n",
       "      <th>441</th>\n",
       "      <td>rockaway blvd</td>\n",
       "      <td>Q</td>\n",
       "      <td>40.680429</td>\n",
       "      <td>-73.843853</td>\n",
       "      <td>40.680429 -73.843853</td>\n",
       "    </tr>\n",
       "    <tr>\n",
       "      <th>442</th>\n",
       "      <td>rockaway park-beach 116 st</td>\n",
       "      <td>Q</td>\n",
       "      <td>40.580903</td>\n",
       "      <td>-73.835592</td>\n",
       "      <td>40.580903 -73.835592</td>\n",
       "    </tr>\n",
       "    <tr>\n",
       "      <th>443</th>\n",
       "      <td>roosevelt islnd</td>\n",
       "      <td>M</td>\n",
       "      <td>40.759145</td>\n",
       "      <td>-73.953260</td>\n",
       "      <td>40.759145000000004 -73.95326</td>\n",
       "    </tr>\n",
       "  </tbody>\n",
       "</table>\n",
       "</div>"
      ],
      "text/plain": [
       "                      stop_name borough  gtfs_latitude  gtfs_longitude  \\\n",
       "435                    ralph av      Bk      40.678822      -73.920786   \n",
       "436                   rector st       M      40.707220      -74.013342   \n",
       "438             richmond valley      SI      40.519631      -74.229141   \n",
       "439                 rockaway av      Bk      40.678340      -73.911946   \n",
       "441               rockaway blvd       Q      40.680429      -73.843853   \n",
       "442  rockaway park-beach 116 st       Q      40.580903      -73.835592   \n",
       "443             roosevelt islnd       M      40.759145      -73.953260   \n",
       "\n",
       "                          lat_long  \n",
       "435   40.678822 -73.92078599999999  \n",
       "436    40.70722 -74.01334200000001  \n",
       "438           40.519631 -74.229141  \n",
       "439  40.678340000000006 -73.911946  \n",
       "441           40.680429 -73.843853  \n",
       "442           40.580903 -73.835592  \n",
       "443   40.759145000000004 -73.95326  "
      ]
     },
     "execution_count": 172,
     "metadata": {},
     "output_type": "execute_result"
    }
   ],
   "source": [
    "# look for stop_names in mta_stations that start with 'r' to see if one is roosevelt islnd spelled different\n",
    "mta_stations[mta_stations.stop_name.str.startswith('r') == True]"
   ]
  },
  {
   "cell_type": "markdown",
   "metadata": {},
   "source": [
    "- The above shows that the Roosevelt Island station is spelled 'roosevelt island' (not 'roosevelt islnd') in the mta stations location df. Because of this discrepancy, the rows didn't merge on each other.\n",
    "- I'll rename the station in the mta stations locations df so it matches for a re-merge."
   ]
  },
  {
   "cell_type": "code",
   "execution_count": 173,
   "metadata": {},
   "outputs": [],
   "source": [
    "# rename stop_name 'roosevelt island' in mta_stations to match with station_daily_avg_counts\n",
    "mta_stations.loc[443, 'stop_name'] = 'roosevelt islnd'"
   ]
  },
  {
   "cell_type": "markdown",
   "metadata": {},
   "source": [
    "- I'll now look for the other station with median average daily entries/exits - Harrison - in the mta stations locations df."
   ]
  },
  {
   "cell_type": "code",
   "execution_count": 174,
   "metadata": {},
   "outputs": [
    {
     "data": {
      "text/html": [
       "<div>\n",
       "<style scoped>\n",
       "    .dataframe tbody tr th:only-of-type {\n",
       "        vertical-align: middle;\n",
       "    }\n",
       "\n",
       "    .dataframe tbody tr th {\n",
       "        vertical-align: top;\n",
       "    }\n",
       "\n",
       "    .dataframe thead th {\n",
       "        text-align: right;\n",
       "    }\n",
       "</style>\n",
       "<table border=\"1\" class=\"dataframe\">\n",
       "  <thead>\n",
       "    <tr style=\"text-align: right;\">\n",
       "      <th></th>\n",
       "      <th>stop_name</th>\n",
       "      <th>borough</th>\n",
       "      <th>gtfs_latitude</th>\n",
       "      <th>gtfs_longitude</th>\n",
       "      <th>lat_long</th>\n",
       "    </tr>\n",
       "  </thead>\n",
       "  <tbody>\n",
       "    <tr>\n",
       "      <th>336</th>\n",
       "      <td>halsey st</td>\n",
       "      <td>Bk</td>\n",
       "      <td>40.686370</td>\n",
       "      <td>-73.916559</td>\n",
       "      <td>40.686370000000004 -73.91655899999999</td>\n",
       "    </tr>\n",
       "    <tr>\n",
       "      <th>338</th>\n",
       "      <td>harlem-148 st</td>\n",
       "      <td>M</td>\n",
       "      <td>40.823880</td>\n",
       "      <td>-73.936470</td>\n",
       "      <td>40.823879999999996 -73.93647</td>\n",
       "    </tr>\n",
       "    <tr>\n",
       "      <th>339</th>\n",
       "      <td>hewes st</td>\n",
       "      <td>Bk</td>\n",
       "      <td>40.706870</td>\n",
       "      <td>-73.953431</td>\n",
       "      <td>40.70687 -73.95343100000001</td>\n",
       "    </tr>\n",
       "    <tr>\n",
       "      <th>340</th>\n",
       "      <td>high st</td>\n",
       "      <td>Bk</td>\n",
       "      <td>40.699337</td>\n",
       "      <td>-73.990531</td>\n",
       "      <td>40.699337 -73.990531</td>\n",
       "    </tr>\n",
       "    <tr>\n",
       "      <th>341</th>\n",
       "      <td>houston st</td>\n",
       "      <td>M</td>\n",
       "      <td>40.728251</td>\n",
       "      <td>-74.005367</td>\n",
       "      <td>40.728251 -74.005367</td>\n",
       "    </tr>\n",
       "    <tr>\n",
       "      <th>342</th>\n",
       "      <td>howard beach-jfk airport</td>\n",
       "      <td>Q</td>\n",
       "      <td>40.660476</td>\n",
       "      <td>-73.830301</td>\n",
       "      <td>40.660476 -73.830301</td>\n",
       "    </tr>\n",
       "    <tr>\n",
       "      <th>343</th>\n",
       "      <td>hoyt st</td>\n",
       "      <td>Bk</td>\n",
       "      <td>40.690545</td>\n",
       "      <td>-73.985065</td>\n",
       "      <td>40.690545 -73.985065</td>\n",
       "    </tr>\n",
       "    <tr>\n",
       "      <th>344</th>\n",
       "      <td>hoyt-schermerhorn sts</td>\n",
       "      <td>Bk</td>\n",
       "      <td>40.688484</td>\n",
       "      <td>-73.985001</td>\n",
       "      <td>40.688484 -73.985001</td>\n",
       "    </tr>\n",
       "    <tr>\n",
       "      <th>345</th>\n",
       "      <td>huguenot</td>\n",
       "      <td>SI</td>\n",
       "      <td>40.533674</td>\n",
       "      <td>-74.191794</td>\n",
       "      <td>40.533674 -74.19179399999999</td>\n",
       "    </tr>\n",
       "    <tr>\n",
       "      <th>346</th>\n",
       "      <td>hunters point av</td>\n",
       "      <td>Q</td>\n",
       "      <td>40.742216</td>\n",
       "      <td>-73.948916</td>\n",
       "      <td>40.742216 -73.948916</td>\n",
       "    </tr>\n",
       "    <tr>\n",
       "      <th>347</th>\n",
       "      <td>hunts point av</td>\n",
       "      <td>Bx</td>\n",
       "      <td>40.820948</td>\n",
       "      <td>-73.890549</td>\n",
       "      <td>40.820948 -73.890549</td>\n",
       "    </tr>\n",
       "  </tbody>\n",
       "</table>\n",
       "</div>"
      ],
      "text/plain": [
       "                    stop_name borough  gtfs_latitude  gtfs_longitude  \\\n",
       "336                 halsey st      Bk      40.686370      -73.916559   \n",
       "338             harlem-148 st       M      40.823880      -73.936470   \n",
       "339                  hewes st      Bk      40.706870      -73.953431   \n",
       "340                   high st      Bk      40.699337      -73.990531   \n",
       "341                houston st       M      40.728251      -74.005367   \n",
       "342  howard beach-jfk airport       Q      40.660476      -73.830301   \n",
       "343                   hoyt st      Bk      40.690545      -73.985065   \n",
       "344     hoyt-schermerhorn sts      Bk      40.688484      -73.985001   \n",
       "345                  huguenot      SI      40.533674      -74.191794   \n",
       "346          hunters point av       Q      40.742216      -73.948916   \n",
       "347            hunts point av      Bx      40.820948      -73.890549   \n",
       "\n",
       "                                  lat_long  \n",
       "336  40.686370000000004 -73.91655899999999  \n",
       "338           40.823879999999996 -73.93647  \n",
       "339            40.70687 -73.95343100000001  \n",
       "340                   40.699337 -73.990531  \n",
       "341                   40.728251 -74.005367  \n",
       "342                   40.660476 -73.830301  \n",
       "343                   40.690545 -73.985065  \n",
       "344                   40.688484 -73.985001  \n",
       "345           40.533674 -74.19179399999999  \n",
       "346                   40.742216 -73.948916  \n",
       "347                   40.820948 -73.890549  "
      ]
     },
     "execution_count": 174,
     "metadata": {},
     "output_type": "execute_result"
    }
   ],
   "source": [
    "# look for stop_names in mta_stations that start with 'h' to see if one is harrison spelled different\n",
    "mta_stations[mta_stations.stop_name.str.startswith('h') == True] # no matches"
   ]
  },
  {
   "cell_type": "markdown",
   "metadata": {},
   "source": [
    "- Harrison does not appear in the mta stations locations df, even under a different spelling. \n",
    "- I searched for this station online and discovered it's part of the Metro-North commuter rail line, so it's not a traditional subway line stop; I suspect that's why it's absent from the MTA stations locations df.\n",
    "- Given this finding, I'll look for the station just before it in the df station_daily_avg_counts that's sorted by the number of average daily entries/exits."
   ]
  },
  {
   "cell_type": "code",
   "execution_count": 175,
   "metadata": {},
   "outputs": [
    {
     "data": {
      "text/html": [
       "<div>\n",
       "<style scoped>\n",
       "    .dataframe tbody tr th:only-of-type {\n",
       "        vertical-align: middle;\n",
       "    }\n",
       "\n",
       "    .dataframe tbody tr th {\n",
       "        vertical-align: top;\n",
       "    }\n",
       "\n",
       "    .dataframe thead th {\n",
       "        text-align: right;\n",
       "    }\n",
       "</style>\n",
       "<table border=\"1\" class=\"dataframe\">\n",
       "  <thead>\n",
       "    <tr style=\"text-align: right;\">\n",
       "      <th></th>\n",
       "      <th>station</th>\n",
       "      <th>daily_entries</th>\n",
       "      <th>daily_exits</th>\n",
       "      <th>count_dates</th>\n",
       "      <th>avg_daily_entries_exits</th>\n",
       "    </tr>\n",
       "  </thead>\n",
       "  <tbody>\n",
       "    <tr>\n",
       "      <th>187</th>\n",
       "      <td>ozone pk leffrt</td>\n",
       "      <td>2898.0</td>\n",
       "      <td>2955.0</td>\n",
       "      <td>97</td>\n",
       "      <td>2926.5</td>\n",
       "    </tr>\n",
       "    <tr>\n",
       "      <th>188</th>\n",
       "      <td>harrison</td>\n",
       "      <td>2779.0</td>\n",
       "      <td>3079.0</td>\n",
       "      <td>97</td>\n",
       "      <td>2929.0</td>\n",
       "    </tr>\n",
       "    <tr>\n",
       "      <th>189</th>\n",
       "      <td>parsons blvd</td>\n",
       "      <td>2734.0</td>\n",
       "      <td>3147.0</td>\n",
       "      <td>97</td>\n",
       "      <td>2940.5</td>\n",
       "    </tr>\n",
       "    <tr>\n",
       "      <th>190</th>\n",
       "      <td>lorimer st</td>\n",
       "      <td>3166.0</td>\n",
       "      <td>2773.0</td>\n",
       "      <td>97</td>\n",
       "      <td>2969.5</td>\n",
       "    </tr>\n",
       "    <tr>\n",
       "      <th>191</th>\n",
       "      <td>rector st</td>\n",
       "      <td>3235.0</td>\n",
       "      <td>2741.0</td>\n",
       "      <td>97</td>\n",
       "      <td>2988.0</td>\n",
       "    </tr>\n",
       "    <tr>\n",
       "      <th>192</th>\n",
       "      <td>roosevelt islnd</td>\n",
       "      <td>2819.0</td>\n",
       "      <td>3325.0</td>\n",
       "      <td>97</td>\n",
       "      <td>3072.0</td>\n",
       "    </tr>\n",
       "  </tbody>\n",
       "</table>\n",
       "</div>"
      ],
      "text/plain": [
       "             station  daily_entries  daily_exits  count_dates  \\\n",
       "187  ozone pk leffrt         2898.0       2955.0           97   \n",
       "188         harrison         2779.0       3079.0           97   \n",
       "189     parsons blvd         2734.0       3147.0           97   \n",
       "190       lorimer st         3166.0       2773.0           97   \n",
       "191        rector st         3235.0       2741.0           97   \n",
       "192  roosevelt islnd         2819.0       3325.0           97   \n",
       "\n",
       "     avg_daily_entries_exits  \n",
       "187                   2926.5  \n",
       "188                   2929.0  \n",
       "189                   2940.5  \n",
       "190                   2969.5  \n",
       "191                   2988.0  \n",
       "192                   3072.0  "
      ]
     },
     "execution_count": 175,
     "metadata": {},
     "output_type": "execute_result"
    }
   ],
   "source": [
    "station_daily_avg_counts.iloc[187:193]"
   ]
  },
  {
   "cell_type": "code",
   "execution_count": 176,
   "metadata": {},
   "outputs": [
    {
     "data": {
      "text/html": [
       "<div>\n",
       "<style scoped>\n",
       "    .dataframe tbody tr th:only-of-type {\n",
       "        vertical-align: middle;\n",
       "    }\n",
       "\n",
       "    .dataframe tbody tr th {\n",
       "        vertical-align: top;\n",
       "    }\n",
       "\n",
       "    .dataframe thead th {\n",
       "        text-align: right;\n",
       "    }\n",
       "</style>\n",
       "<table border=\"1\" class=\"dataframe\">\n",
       "  <thead>\n",
       "    <tr style=\"text-align: right;\">\n",
       "      <th></th>\n",
       "      <th>station</th>\n",
       "      <th>daily_entries</th>\n",
       "      <th>daily_exits</th>\n",
       "      <th>count_dates</th>\n",
       "      <th>avg_daily_entries_exits</th>\n",
       "      <th>stop_name</th>\n",
       "      <th>borough</th>\n",
       "      <th>gtfs_latitude</th>\n",
       "      <th>gtfs_longitude</th>\n",
       "      <th>lat_long</th>\n",
       "    </tr>\n",
       "  </thead>\n",
       "  <tbody>\n",
       "    <tr>\n",
       "      <th>187</th>\n",
       "      <td>ozone pk leffrt</td>\n",
       "      <td>2898.0</td>\n",
       "      <td>2955.0</td>\n",
       "      <td>97</td>\n",
       "      <td>2926.5</td>\n",
       "      <td>ozone pk leffrt</td>\n",
       "      <td>Q</td>\n",
       "      <td>40.685951</td>\n",
       "      <td>-73.825798</td>\n",
       "      <td>40.685951 -73.82579799999999</td>\n",
       "    </tr>\n",
       "  </tbody>\n",
       "</table>\n",
       "</div>"
      ],
      "text/plain": [
       "             station  daily_entries  daily_exits  count_dates  \\\n",
       "187  ozone pk leffrt         2898.0       2955.0           97   \n",
       "\n",
       "     avg_daily_entries_exits        stop_name borough  gtfs_latitude  \\\n",
       "187                   2926.5  ozone pk leffrt       Q      40.685951   \n",
       "\n",
       "     gtfs_longitude                      lat_long  \n",
       "187      -73.825798  40.685951 -73.82579799999999  "
      ]
     },
     "execution_count": 176,
     "metadata": {},
     "output_type": "execute_result"
    }
   ],
   "source": [
    "# check if 'ozone pk leffrt' is in stations_merged\n",
    "stations_merged[stations_merged.station == 'ozone pk leffrt']"
   ]
  },
  {
   "cell_type": "markdown",
   "metadata": {},
   "source": [
    "- Like the Roosevelt Island station, its location data does not appear in the merged df so I will look for stations that begin with 'o' in the mta stations locations df to see if it's spelled differently."
   ]
  },
  {
   "cell_type": "code",
   "execution_count": 177,
   "metadata": {},
   "outputs": [
    {
     "data": {
      "text/html": [
       "<div>\n",
       "<style scoped>\n",
       "    .dataframe tbody tr th:only-of-type {\n",
       "        vertical-align: middle;\n",
       "    }\n",
       "\n",
       "    .dataframe tbody tr th {\n",
       "        vertical-align: top;\n",
       "    }\n",
       "\n",
       "    .dataframe thead th {\n",
       "        text-align: right;\n",
       "    }\n",
       "</style>\n",
       "<table border=\"1\" class=\"dataframe\">\n",
       "  <thead>\n",
       "    <tr style=\"text-align: right;\">\n",
       "      <th></th>\n",
       "      <th>stop_name</th>\n",
       "      <th>borough</th>\n",
       "      <th>gtfs_latitude</th>\n",
       "      <th>gtfs_longitude</th>\n",
       "      <th>lat_long</th>\n",
       "    </tr>\n",
       "  </thead>\n",
       "  <tbody>\n",
       "    <tr>\n",
       "      <th>412</th>\n",
       "      <td>oakwood heights</td>\n",
       "      <td>SI</td>\n",
       "      <td>40.565110</td>\n",
       "      <td>-74.126320</td>\n",
       "      <td>40.56511 -74.12631999999999</td>\n",
       "    </tr>\n",
       "    <tr>\n",
       "      <th>413</th>\n",
       "      <td>ocean pkwy</td>\n",
       "      <td>Bk</td>\n",
       "      <td>40.576312</td>\n",
       "      <td>-73.968501</td>\n",
       "      <td>40.576312 -73.968501</td>\n",
       "    </tr>\n",
       "    <tr>\n",
       "      <th>414</th>\n",
       "      <td>old town</td>\n",
       "      <td>SI</td>\n",
       "      <td>40.596612</td>\n",
       "      <td>-74.087368</td>\n",
       "      <td>40.596612 -74.08736800000001</td>\n",
       "    </tr>\n",
       "    <tr>\n",
       "      <th>415</th>\n",
       "      <td>ozone pk leffrt</td>\n",
       "      <td>Q</td>\n",
       "      <td>40.685951</td>\n",
       "      <td>-73.825798</td>\n",
       "      <td>40.685951 -73.82579799999999</td>\n",
       "    </tr>\n",
       "  </tbody>\n",
       "</table>\n",
       "</div>"
      ],
      "text/plain": [
       "           stop_name borough  gtfs_latitude  gtfs_longitude  \\\n",
       "412  oakwood heights      SI      40.565110      -74.126320   \n",
       "413       ocean pkwy      Bk      40.576312      -73.968501   \n",
       "414         old town      SI      40.596612      -74.087368   \n",
       "415  ozone pk leffrt       Q      40.685951      -73.825798   \n",
       "\n",
       "                         lat_long  \n",
       "412   40.56511 -74.12631999999999  \n",
       "413          40.576312 -73.968501  \n",
       "414  40.596612 -74.08736800000001  \n",
       "415  40.685951 -73.82579799999999  "
      ]
     },
     "execution_count": 177,
     "metadata": {},
     "output_type": "execute_result"
    }
   ],
   "source": [
    "mta_stations[mta_stations.stop_name.str.startswith('o') == True]"
   ]
  },
  {
   "cell_type": "markdown",
   "metadata": {},
   "source": [
    "- Indeed, it is!\n",
    "- Again, I'll rename the station in the mta stations locations df so it matches for a re-merge."
   ]
  },
  {
   "cell_type": "code",
   "execution_count": 178,
   "metadata": {},
   "outputs": [],
   "source": [
    "# rename stop_name 'ozone park-lefferts blvd' in mta_stations to match with station_daily_avg_counts\n",
    "mta_stations.loc[415, 'stop_name'] = 'ozone pk leffrt'"
   ]
  },
  {
   "cell_type": "markdown",
   "metadata": {},
   "source": [
    "## Re-merge station_daily_avg_counts with mta_stations\n",
    "- I could keep investigating the stations in the merged file who are missing locations data to figure out if it's because the station names were spelled differently in the dfs that were merged. However, since there are over 100, I am going to move on and only re-merge to obtain locations for the two stations I investigated."
   ]
  },
  {
   "cell_type": "code",
   "execution_count": 179,
   "metadata": {},
   "outputs": [],
   "source": [
    "# re-merge station_daily_avg_counts with mta_stations to get a match for the Roosevelt Island and \n",
    "  # Ozone Park-Lefferts Blvd stations\n",
    "stations_merged = station_daily_avg_counts.merge(mta_stations, how='left', left_on='station', right_on='stop_name')"
   ]
  },
  {
   "cell_type": "markdown",
   "metadata": {},
   "source": [
    "## Check re-merge"
   ]
  },
  {
   "cell_type": "code",
   "execution_count": 180,
   "metadata": {},
   "outputs": [
    {
     "data": {
      "text/plain": [
       "(379, 10)"
      ]
     },
     "execution_count": 180,
     "metadata": {},
     "output_type": "execute_result"
    }
   ],
   "source": [
    "stations_merged.shape"
   ]
  },
  {
   "cell_type": "code",
   "execution_count": 181,
   "metadata": {},
   "outputs": [
    {
     "name": "stdout",
     "output_type": "stream",
     "text": [
      "<class 'pandas.core.frame.DataFrame'>\n",
      "Int64Index: 379 entries, 0 to 378\n",
      "Data columns (total 10 columns):\n",
      " #   Column                   Non-Null Count  Dtype  \n",
      "---  ------                   --------------  -----  \n",
      " 0   station                  379 non-null    object \n",
      " 1   daily_entries            379 non-null    float64\n",
      " 2   daily_exits              379 non-null    float64\n",
      " 3   count_dates              379 non-null    int64  \n",
      " 4   avg_daily_entries_exits  379 non-null    float64\n",
      " 5   stop_name                256 non-null    object \n",
      " 6   borough                  256 non-null    object \n",
      " 7   gtfs_latitude            256 non-null    float64\n",
      " 8   gtfs_longitude           256 non-null    float64\n",
      " 9   lat_long                 256 non-null    object \n",
      "dtypes: float64(5), int64(1), object(4)\n",
      "memory usage: 32.6+ KB\n"
     ]
    }
   ],
   "source": [
    "stations_merged.info()"
   ]
  },
  {
   "cell_type": "markdown",
   "metadata": {},
   "source": [
    "- We can see that the re-merge worked to yield two fewer stations missing locations data!"
   ]
  },
  {
   "cell_type": "markdown",
   "metadata": {},
   "source": [
    "# Clean stations_merged"
   ]
  },
  {
   "cell_type": "code",
   "execution_count": 182,
   "metadata": {},
   "outputs": [],
   "source": [
    "# drop rows with NaN\n",
    "stations_merged = stations_merged.dropna().reset_index(drop=True)"
   ]
  },
  {
   "cell_type": "code",
   "execution_count": 183,
   "metadata": {},
   "outputs": [],
   "source": [
    "# drop columns not needed for analysis\n",
    "stations_merged.drop(columns=['daily_entries', 'daily_exits', 'count_dates',\n",
    "                             'stop_name'], inplace=True)"
   ]
  },
  {
   "cell_type": "code",
   "execution_count": 184,
   "metadata": {},
   "outputs": [
    {
     "data": {
      "text/plain": [
       "(256, 6)"
      ]
     },
     "execution_count": 184,
     "metadata": {},
     "output_type": "execute_result"
    }
   ],
   "source": [
    "stations_merged.shape"
   ]
  },
  {
   "cell_type": "code",
   "execution_count": 185,
   "metadata": {},
   "outputs": [
    {
     "data": {
      "text/html": [
       "<div>\n",
       "<style scoped>\n",
       "    .dataframe tbody tr th:only-of-type {\n",
       "        vertical-align: middle;\n",
       "    }\n",
       "\n",
       "    .dataframe tbody tr th {\n",
       "        vertical-align: top;\n",
       "    }\n",
       "\n",
       "    .dataframe thead th {\n",
       "        text-align: right;\n",
       "    }\n",
       "</style>\n",
       "<table border=\"1\" class=\"dataframe\">\n",
       "  <thead>\n",
       "    <tr style=\"text-align: right;\">\n",
       "      <th></th>\n",
       "      <th>station</th>\n",
       "      <th>avg_daily_entries_exits</th>\n",
       "      <th>borough</th>\n",
       "      <th>gtfs_latitude</th>\n",
       "      <th>gtfs_longitude</th>\n",
       "      <th>lat_long</th>\n",
       "    </tr>\n",
       "  </thead>\n",
       "  <tbody>\n",
       "    <tr>\n",
       "      <th>0</th>\n",
       "      <td>broad channel</td>\n",
       "      <td>91.5</td>\n",
       "      <td>Q</td>\n",
       "      <td>40.608382</td>\n",
       "      <td>-73.815925</td>\n",
       "      <td>40.608382 -73.815925</td>\n",
       "    </tr>\n",
       "    <tr>\n",
       "      <th>1</th>\n",
       "      <td>tompkinsville</td>\n",
       "      <td>140.0</td>\n",
       "      <td>SI</td>\n",
       "      <td>40.636949</td>\n",
       "      <td>-74.074835</td>\n",
       "      <td>40.636949 -74.074835</td>\n",
       "    </tr>\n",
       "    <tr>\n",
       "      <th>2</th>\n",
       "      <td>beach 105 st</td>\n",
       "      <td>155.0</td>\n",
       "      <td>Q</td>\n",
       "      <td>40.583209</td>\n",
       "      <td>-73.827559</td>\n",
       "      <td>40.583209000000004 -73.827559</td>\n",
       "    </tr>\n",
       "    <tr>\n",
       "      <th>3</th>\n",
       "      <td>beach 98 st</td>\n",
       "      <td>217.5</td>\n",
       "      <td>Q</td>\n",
       "      <td>40.585307</td>\n",
       "      <td>-73.820558</td>\n",
       "      <td>40.585307 -73.82055799999999</td>\n",
       "    </tr>\n",
       "    <tr>\n",
       "      <th>4</th>\n",
       "      <td>beach 44 st</td>\n",
       "      <td>367.5</td>\n",
       "      <td>Q</td>\n",
       "      <td>40.592943</td>\n",
       "      <td>-73.776013</td>\n",
       "      <td>40.592943 -73.776013</td>\n",
       "    </tr>\n",
       "  </tbody>\n",
       "</table>\n",
       "</div>"
      ],
      "text/plain": [
       "         station  avg_daily_entries_exits borough  gtfs_latitude  \\\n",
       "0  broad channel                     91.5       Q      40.608382   \n",
       "1  tompkinsville                    140.0      SI      40.636949   \n",
       "2   beach 105 st                    155.0       Q      40.583209   \n",
       "3    beach 98 st                    217.5       Q      40.585307   \n",
       "4    beach 44 st                    367.5       Q      40.592943   \n",
       "\n",
       "   gtfs_longitude                       lat_long  \n",
       "0      -73.815925           40.608382 -73.815925  \n",
       "1      -74.074835           40.636949 -74.074835  \n",
       "2      -73.827559  40.583209000000004 -73.827559  \n",
       "3      -73.820558   40.585307 -73.82055799999999  \n",
       "4      -73.776013           40.592943 -73.776013  "
      ]
     },
     "execution_count": 185,
     "metadata": {},
     "output_type": "execute_result"
    }
   ],
   "source": [
    "stations_merged.head()"
   ]
  },
  {
   "cell_type": "code",
   "execution_count": 186,
   "metadata": {},
   "outputs": [
    {
     "data": {
      "text/html": [
       "<div>\n",
       "<style scoped>\n",
       "    .dataframe tbody tr th:only-of-type {\n",
       "        vertical-align: middle;\n",
       "    }\n",
       "\n",
       "    .dataframe tbody tr th {\n",
       "        vertical-align: top;\n",
       "    }\n",
       "\n",
       "    .dataframe thead th {\n",
       "        text-align: right;\n",
       "    }\n",
       "</style>\n",
       "<table border=\"1\" class=\"dataframe\">\n",
       "  <thead>\n",
       "    <tr style=\"text-align: right;\">\n",
       "      <th></th>\n",
       "      <th>station</th>\n",
       "      <th>avg_daily_entries_exits</th>\n",
       "      <th>borough</th>\n",
       "      <th>gtfs_latitude</th>\n",
       "      <th>gtfs_longitude</th>\n",
       "      <th>lat_long</th>\n",
       "    </tr>\n",
       "  </thead>\n",
       "  <tbody>\n",
       "    <tr>\n",
       "      <th>251</th>\n",
       "      <td>23 st</td>\n",
       "      <td>29578.5</td>\n",
       "      <td>M</td>\n",
       "      <td>40.741303</td>\n",
       "      <td>-73.989344</td>\n",
       "      <td>40.741303 -73.98934399999999</td>\n",
       "    </tr>\n",
       "    <tr>\n",
       "      <th>252</th>\n",
       "      <td>125 st</td>\n",
       "      <td>29866.5</td>\n",
       "      <td>M</td>\n",
       "      <td>40.811109</td>\n",
       "      <td>-73.952343</td>\n",
       "      <td>40.811109 -73.952343</td>\n",
       "    </tr>\n",
       "    <tr>\n",
       "      <th>253</th>\n",
       "      <td>14 st-union sq</td>\n",
       "      <td>31576.0</td>\n",
       "      <td>M</td>\n",
       "      <td>40.735736</td>\n",
       "      <td>-73.990568</td>\n",
       "      <td>40.735735999999996 -73.99056800000001</td>\n",
       "    </tr>\n",
       "    <tr>\n",
       "      <th>254</th>\n",
       "      <td>86 st</td>\n",
       "      <td>33616.5</td>\n",
       "      <td>Bk</td>\n",
       "      <td>40.622687</td>\n",
       "      <td>-74.028398</td>\n",
       "      <td>40.622687 -74.028398</td>\n",
       "    </tr>\n",
       "    <tr>\n",
       "      <th>255</th>\n",
       "      <td>34 st-herald sq</td>\n",
       "      <td>37452.0</td>\n",
       "      <td>M</td>\n",
       "      <td>40.749567</td>\n",
       "      <td>-73.987950</td>\n",
       "      <td>40.749567 -73.98795</td>\n",
       "    </tr>\n",
       "  </tbody>\n",
       "</table>\n",
       "</div>"
      ],
      "text/plain": [
       "             station  avg_daily_entries_exits borough  gtfs_latitude  \\\n",
       "251            23 st                  29578.5       M      40.741303   \n",
       "252           125 st                  29866.5       M      40.811109   \n",
       "253   14 st-union sq                  31576.0       M      40.735736   \n",
       "254            86 st                  33616.5      Bk      40.622687   \n",
       "255  34 st-herald sq                  37452.0       M      40.749567   \n",
       "\n",
       "     gtfs_longitude                               lat_long  \n",
       "251      -73.989344           40.741303 -73.98934399999999  \n",
       "252      -73.952343                   40.811109 -73.952343  \n",
       "253      -73.990568  40.735735999999996 -73.99056800000001  \n",
       "254      -74.028398                   40.622687 -74.028398  \n",
       "255      -73.987950                    40.749567 -73.98795  "
      ]
     },
     "execution_count": 186,
     "metadata": {},
     "output_type": "execute_result"
    }
   ],
   "source": [
    "stations_merged.tail()"
   ]
  },
  {
   "cell_type": "code",
   "execution_count": 187,
   "metadata": {},
   "outputs": [
    {
     "data": {
      "text/plain": [
       "Bk    105\n",
       "M      60\n",
       "Bx     47\n",
       "Q      43\n",
       "SI      1\n",
       "Name: borough, dtype: int64"
      ]
     },
     "execution_count": 187,
     "metadata": {},
     "output_type": "execute_result"
    }
   ],
   "source": [
    "stations_merged.borough.value_counts()"
   ]
  },
  {
   "cell_type": "code",
   "execution_count": 188,
   "metadata": {},
   "outputs": [],
   "source": [
    "# recode values of borough column\n",
    "stations_merged['borough'] = stations_merged.borough.replace({'M':'Manhattan',\n",
    "                                                             'Bk':'Brooklyn',\n",
    "                                                             'Q':'Queens',\n",
    "                                                             'Bx':'Bronx',\n",
    "                                                             'SI':'Staten Island'})"
   ]
  },
  {
   "cell_type": "code",
   "execution_count": 189,
   "metadata": {},
   "outputs": [
    {
     "data": {
      "text/html": [
       "<div>\n",
       "<style scoped>\n",
       "    .dataframe tbody tr th:only-of-type {\n",
       "        vertical-align: middle;\n",
       "    }\n",
       "\n",
       "    .dataframe tbody tr th {\n",
       "        vertical-align: top;\n",
       "    }\n",
       "\n",
       "    .dataframe thead th {\n",
       "        text-align: right;\n",
       "    }\n",
       "</style>\n",
       "<table border=\"1\" class=\"dataframe\">\n",
       "  <thead>\n",
       "    <tr style=\"text-align: right;\">\n",
       "      <th></th>\n",
       "      <th>station</th>\n",
       "      <th>avg_daily_entries_exits</th>\n",
       "      <th>borough</th>\n",
       "      <th>gtfs_latitude</th>\n",
       "      <th>gtfs_longitude</th>\n",
       "      <th>lat_long</th>\n",
       "    </tr>\n",
       "  </thead>\n",
       "  <tbody>\n",
       "    <tr>\n",
       "      <th>0</th>\n",
       "      <td>broad channel</td>\n",
       "      <td>91.5</td>\n",
       "      <td>Queens</td>\n",
       "      <td>40.608382</td>\n",
       "      <td>-73.815925</td>\n",
       "      <td>40.608382 -73.815925</td>\n",
       "    </tr>\n",
       "    <tr>\n",
       "      <th>1</th>\n",
       "      <td>tompkinsville</td>\n",
       "      <td>140.0</td>\n",
       "      <td>Staten Island</td>\n",
       "      <td>40.636949</td>\n",
       "      <td>-74.074835</td>\n",
       "      <td>40.636949 -74.074835</td>\n",
       "    </tr>\n",
       "    <tr>\n",
       "      <th>2</th>\n",
       "      <td>beach 105 st</td>\n",
       "      <td>155.0</td>\n",
       "      <td>Queens</td>\n",
       "      <td>40.583209</td>\n",
       "      <td>-73.827559</td>\n",
       "      <td>40.583209000000004 -73.827559</td>\n",
       "    </tr>\n",
       "    <tr>\n",
       "      <th>3</th>\n",
       "      <td>beach 98 st</td>\n",
       "      <td>217.5</td>\n",
       "      <td>Queens</td>\n",
       "      <td>40.585307</td>\n",
       "      <td>-73.820558</td>\n",
       "      <td>40.585307 -73.82055799999999</td>\n",
       "    </tr>\n",
       "    <tr>\n",
       "      <th>4</th>\n",
       "      <td>beach 44 st</td>\n",
       "      <td>367.5</td>\n",
       "      <td>Queens</td>\n",
       "      <td>40.592943</td>\n",
       "      <td>-73.776013</td>\n",
       "      <td>40.592943 -73.776013</td>\n",
       "    </tr>\n",
       "  </tbody>\n",
       "</table>\n",
       "</div>"
      ],
      "text/plain": [
       "         station  avg_daily_entries_exits        borough  gtfs_latitude  \\\n",
       "0  broad channel                     91.5         Queens      40.608382   \n",
       "1  tompkinsville                    140.0  Staten Island      40.636949   \n",
       "2   beach 105 st                    155.0         Queens      40.583209   \n",
       "3    beach 98 st                    217.5         Queens      40.585307   \n",
       "4    beach 44 st                    367.5         Queens      40.592943   \n",
       "\n",
       "   gtfs_longitude                       lat_long  \n",
       "0      -73.815925           40.608382 -73.815925  \n",
       "1      -74.074835           40.636949 -74.074835  \n",
       "2      -73.827559  40.583209000000004 -73.827559  \n",
       "3      -73.820558   40.585307 -73.82055799999999  \n",
       "4      -73.776013           40.592943 -73.776013  "
      ]
     },
     "execution_count": 189,
     "metadata": {},
     "output_type": "execute_result"
    }
   ],
   "source": [
    "stations_merged.head()"
   ]
  },
  {
   "cell_type": "code",
   "execution_count": 271,
   "metadata": {},
   "outputs": [
    {
     "data": {
      "text/html": [
       "<div>\n",
       "<style scoped>\n",
       "    .dataframe tbody tr th:only-of-type {\n",
       "        vertical-align: middle;\n",
       "    }\n",
       "\n",
       "    .dataframe tbody tr th {\n",
       "        vertical-align: top;\n",
       "    }\n",
       "\n",
       "    .dataframe thead th {\n",
       "        text-align: right;\n",
       "    }\n",
       "</style>\n",
       "<table border=\"1\" class=\"dataframe\">\n",
       "  <thead>\n",
       "    <tr style=\"text-align: right;\">\n",
       "      <th></th>\n",
       "      <th>station</th>\n",
       "      <th>avg_daily_entries_exits</th>\n",
       "      <th>borough</th>\n",
       "      <th>gtfs_latitude</th>\n",
       "      <th>gtfs_longitude</th>\n",
       "      <th>lat_long</th>\n",
       "    </tr>\n",
       "  </thead>\n",
       "  <tbody>\n",
       "    <tr>\n",
       "      <th>1</th>\n",
       "      <td>tompkinsville</td>\n",
       "      <td>140.0</td>\n",
       "      <td>Staten Island</td>\n",
       "      <td>40.636949</td>\n",
       "      <td>-74.074835</td>\n",
       "      <td>40.636949 -74.074835</td>\n",
       "    </tr>\n",
       "  </tbody>\n",
       "</table>\n",
       "</div>"
      ],
      "text/plain": [
       "         station  avg_daily_entries_exits        borough  gtfs_latitude  \\\n",
       "1  tompkinsville                    140.0  Staten Island      40.636949   \n",
       "\n",
       "   gtfs_longitude              lat_long  \n",
       "1      -74.074835  40.636949 -74.074835  "
      ]
     },
     "execution_count": 271,
     "metadata": {},
     "output_type": "execute_result"
    }
   ],
   "source": [
    "# look at SI station\n",
    "stations_merged[stations_merged.borough == 'Staten Island']"
   ]
  },
  {
   "cell_type": "code",
   "execution_count": 190,
   "metadata": {},
   "outputs": [
    {
     "data": {
      "text/plain": [
       "(array([162.,  56.,  13.,  13.,   1.,   3.,   2.,   3.,   2.,   1.]),\n",
       " array([   91.5 ,  3827.55,  7563.6 , 11299.65, 15035.7 , 18771.75,\n",
       "        22507.8 , 26243.85, 29979.9 , 33715.95, 37452.  ]),\n",
       " <a list of 10 Patch objects>)"
      ]
     },
     "execution_count": 190,
     "metadata": {},
     "output_type": "execute_result"
    },
    {
     "data": {
      "image/png": "[encoded data removed]",
      "text/plain": [
       "<Figure size 432x288 with 1 Axes>"
      ]
     },
     "metadata": {
      "needs_background": "light"
     },
     "output_type": "display_data"
    }
   ],
   "source": [
    "# look at histogram of avg_daily_entries_exits in stations_merged\n",
    "plt.hist(stations_merged.avg_daily_entries_exits)"
   ]
  },
  {
   "cell_type": "code",
   "execution_count": 110,
   "metadata": {},
   "outputs": [
    {
     "data": {
      "text/plain": [
       "count      256.000000\n",
       "mean      4649.511719\n",
       "std       5865.731547\n",
       "min         91.500000\n",
       "25%       1458.250000\n",
       "50%       2689.250000\n",
       "75%       5025.250000\n",
       "max      37452.000000\n",
       "Name: avg_daily_entries_exits, dtype: float64"
      ]
     },
     "execution_count": 110,
     "metadata": {},
     "output_type": "execute_result"
    }
   ],
   "source": [
    "stations_merged.avg_daily_entries_exits.describe()"
   ]
  },
  {
   "cell_type": "markdown",
   "metadata": {},
   "source": [
    "- Going back to my criteria for selecting stations at which to do outreach about composting, one of them is traffic flow. \n",
    "- The above cell shows that the median average daily entries/exits per station is 2689.5, which seems like a good sized pool of people to reach (too many people creates congestion and people might be less inclined to stop at a booth to chat or even notice their surroundings).\n",
    "- Thus, I decided to create a df that only contains stations with between 2500 and 3000 average daily entries/exits."
   ]
  },
  {
   "cell_type": "code",
   "execution_count": 191,
   "metadata": {},
   "outputs": [],
   "source": [
    "stations_merged_rev = stations_merged[(stations_merged.avg_daily_entries_exits > 2500) & (stations_merged.avg_daily_entries_exits < 3000)]"
   ]
  },
  {
   "cell_type": "code",
   "execution_count": 192,
   "metadata": {},
   "outputs": [
    {
     "data": {
      "text/plain": [
       "(24, 6)"
      ]
     },
     "execution_count": 192,
     "metadata": {},
     "output_type": "execute_result"
    }
   ],
   "source": [
    "stations_merged_rev.shape"
   ]
  },
  {
   "cell_type": "markdown",
   "metadata": {},
   "source": [
    "# Clean food scrap drop-off sites location data\n",
    "- Next, I must prepare the food scrap drop-off sites location data in order to meet my second criteria for station selection: proximity to food scrap drop-off sites."
   ]
  },
  {
   "cell_type": "code",
   "execution_count": 204,
   "metadata": {},
   "outputs": [
    {
     "data": {
      "text/plain": [
       "(248, 19)"
      ]
     },
     "execution_count": 204,
     "metadata": {},
     "output_type": "execute_result"
    }
   ],
   "source": [
    "compost_drop_off.shape"
   ]
  },
  {
   "cell_type": "code",
   "execution_count": 205,
   "metadata": {},
   "outputs": [
    {
     "name": "stdout",
     "output_type": "stream",
     "text": [
      "<class 'pandas.core.frame.DataFrame'>\n",
      "RangeIndex: 248 entries, 0 to 247\n",
      "Data columns (total 19 columns):\n",
      " #   Column                         Non-Null Count  Dtype  \n",
      "---  ------                         --------------  -----  \n",
      " 0   Borough                        247 non-null    object \n",
      " 1   CouncilDist                    248 non-null    int64  \n",
      " 2   Food_Scrap_Drop_Off_Site_Name  248 non-null    object \n",
      " 3   Hours_from                     245 non-null    object \n",
      " 4   Hours_to                       245 non-null    object \n",
      " 5   Latitude                       248 non-null    float64\n",
      " 6   Location                       248 non-null    object \n",
      " 7   Longitude                      248 non-null    float64\n",
      " 8   NTAName                        248 non-null    object \n",
      " 9   Notes                          8 non-null      object \n",
      " 10  ObjectId                       0 non-null      float64\n",
      " 11  Operation_Day                  248 non-null    object \n",
      " 12  Open_Months                    248 non-null    object \n",
      " 13  Serviced_by                    248 non-null    object \n",
      " 14  Website                        205 non-null    object \n",
      " 15  boroCD                         248 non-null    int64  \n",
      " 16  ct2010                         248 non-null    int64  \n",
      " 17  point                          248 non-null    object \n",
      " 18  zip_code                       248 non-null    int64  \n",
      "dtypes: float64(3), int64(4), object(12)\n",
      "memory usage: 36.9+ KB\n"
     ]
    }
   ],
   "source": [
    "compost_drop_off.info()"
   ]
  },
  {
   "cell_type": "code",
   "execution_count": 206,
   "metadata": {},
   "outputs": [
    {
     "data": {
      "text/html": [
       "<div>\n",
       "<style scoped>\n",
       "    .dataframe tbody tr th:only-of-type {\n",
       "        vertical-align: middle;\n",
       "    }\n",
       "\n",
       "    .dataframe tbody tr th {\n",
       "        vertical-align: top;\n",
       "    }\n",
       "\n",
       "    .dataframe thead th {\n",
       "        text-align: right;\n",
       "    }\n",
       "</style>\n",
       "<table border=\"1\" class=\"dataframe\">\n",
       "  <thead>\n",
       "    <tr style=\"text-align: right;\">\n",
       "      <th></th>\n",
       "      <th>Borough</th>\n",
       "      <th>CouncilDist</th>\n",
       "      <th>Food_Scrap_Drop_Off_Site_Name</th>\n",
       "      <th>Hours_from</th>\n",
       "      <th>Hours_to</th>\n",
       "      <th>Latitude</th>\n",
       "      <th>Location</th>\n",
       "      <th>Longitude</th>\n",
       "      <th>NTAName</th>\n",
       "      <th>Notes</th>\n",
       "      <th>ObjectId</th>\n",
       "      <th>Operation_Day</th>\n",
       "      <th>Open_Months</th>\n",
       "      <th>Serviced_by</th>\n",
       "      <th>Website</th>\n",
       "      <th>boroCD</th>\n",
       "      <th>ct2010</th>\n",
       "      <th>point</th>\n",
       "      <th>zip_code</th>\n",
       "    </tr>\n",
       "  </thead>\n",
       "  <tbody>\n",
       "    <tr>\n",
       "      <th>0</th>\n",
       "      <td>Bronx</td>\n",
       "      <td>8</td>\n",
       "      <td>Brook Park</td>\n",
       "      <td>6pm</td>\n",
       "      <td>10am</td>\n",
       "      <td>40.809601</td>\n",
       "      <td>494 East 141 St.</td>\n",
       "      <td>-73.918701</td>\n",
       "      <td>Mott Haven-Port Morris</td>\n",
       "      <td>NaN</td>\n",
       "      <td>NaN</td>\n",
       "      <td>Saturday</td>\n",
       "      <td>Year Round</td>\n",
       "      <td>Brook Park</td>\n",
       "      <td>NaN</td>\n",
       "      <td>201</td>\n",
       "      <td>4000</td>\n",
       "      <td>POINT (-73.9187 40.809599)</td>\n",
       "      <td>10454</td>\n",
       "    </tr>\n",
       "    <tr>\n",
       "      <th>1</th>\n",
       "      <td>Bronx</td>\n",
       "      <td>16</td>\n",
       "      <td>OPENING JULY 10: 170 Farmstand</td>\n",
       "      <td>5:30 PM</td>\n",
       "      <td>2:30 PM</td>\n",
       "      <td>40.839985</td>\n",
       "      <td>Townsend Ave &amp; 170 St, Bronx</td>\n",
       "      <td>-73.916817</td>\n",
       "      <td>West Concourse</td>\n",
       "      <td>NaN</td>\n",
       "      <td>NaN</td>\n",
       "      <td>Wednesdays</td>\n",
       "      <td>Seasonal Market, July-November</td>\n",
       "      <td>GrowNYC</td>\n",
       "      <td>https://www.grownyc.org/compost/locations; htt...</td>\n",
       "      <td>204</td>\n",
       "      <td>223</td>\n",
       "      <td>POINT (-73.91682 40.839985)</td>\n",
       "      <td>10452</td>\n",
       "    </tr>\n",
       "    <tr>\n",
       "      <th>2</th>\n",
       "      <td>Manhattan</td>\n",
       "      <td>3</td>\n",
       "      <td>Hudson Blvd Park</td>\n",
       "      <td>6:00 PM</td>\n",
       "      <td>10:00 AM</td>\n",
       "      <td>40.755554</td>\n",
       "      <td>5 Hudson Blvd East</td>\n",
       "      <td>-74.000351</td>\n",
       "      <td>Hudson Yards-Chelsea-Flatiron-Union Square</td>\n",
       "      <td>NaN</td>\n",
       "      <td>NaN</td>\n",
       "      <td>Thursdays</td>\n",
       "      <td>Year Round</td>\n",
       "      <td>Hudson Yards/ Hell's Kitchen Alliance</td>\n",
       "      <td>hyhalliance.org</td>\n",
       "      <td>104</td>\n",
       "      <td>99</td>\n",
       "      <td>POINT (-74.000348 40.755554)</td>\n",
       "      <td>10001</td>\n",
       "    </tr>\n",
       "    <tr>\n",
       "      <th>3</th>\n",
       "      <td>Staten Island</td>\n",
       "      <td>49</td>\n",
       "      <td>Olivet Heavenly Harvest</td>\n",
       "      <td>1:00 PM</td>\n",
       "      <td>10:00 AM</td>\n",
       "      <td>40.630199</td>\n",
       "      <td>97 Myrtle Avenue, Staten Island, NY</td>\n",
       "      <td>-74.115967</td>\n",
       "      <td>New Brighton-Silver Lake</td>\n",
       "      <td>NaN</td>\n",
       "      <td>NaN</td>\n",
       "      <td>Saturdays</td>\n",
       "      <td>Seasonal, March-November</td>\n",
       "      <td>Olivet Presbyterian Church</td>\n",
       "      <td>www.olivetcares.org</td>\n",
       "      <td>501</td>\n",
       "      <td>4006</td>\n",
       "      <td>POINT (-74.115963 40.630199)</td>\n",
       "      <td>10310</td>\n",
       "    </tr>\n",
       "    <tr>\n",
       "      <th>4</th>\n",
       "      <td>Brooklyn</td>\n",
       "      <td>43</td>\n",
       "      <td>4th Avenue Presbyterian Church</td>\n",
       "      <td>12:00 PM</td>\n",
       "      <td>Dawn</td>\n",
       "      <td>40.635471</td>\n",
       "      <td>6753 4th Avenue</td>\n",
       "      <td>-74.022797</td>\n",
       "      <td>Bay Ridge</td>\n",
       "      <td>NaN</td>\n",
       "      <td>NaN</td>\n",
       "      <td>Saturdays</td>\n",
       "      <td>Year Round</td>\n",
       "      <td>4th Avenue Presbyterian Church</td>\n",
       "      <td>http://www.fourthavenuepresbyterian.org/</td>\n",
       "      <td>310</td>\n",
       "      <td>1004</td>\n",
       "      <td>POINT (-74.0228 40.635473)</td>\n",
       "      <td>11220</td>\n",
       "    </tr>\n",
       "  </tbody>\n",
       "</table>\n",
       "</div>"
      ],
      "text/plain": [
       "         Borough  CouncilDist   Food_Scrap_Drop_Off_Site_Name Hours_from  \\\n",
       "0          Bronx            8                      Brook Park        6pm   \n",
       "1          Bronx           16  OPENING JULY 10: 170 Farmstand    5:30 PM   \n",
       "2      Manhattan            3                Hudson Blvd Park    6:00 PM   \n",
       "3  Staten Island           49         Olivet Heavenly Harvest    1:00 PM   \n",
       "4       Brooklyn           43  4th Avenue Presbyterian Church   12:00 PM   \n",
       "\n",
       "   Hours_to   Latitude                             Location  Longitude  \\\n",
       "0      10am  40.809601                     494 East 141 St. -73.918701   \n",
       "1   2:30 PM  40.839985         Townsend Ave & 170 St, Bronx -73.916817   \n",
       "2  10:00 AM  40.755554                   5 Hudson Blvd East -74.000351   \n",
       "3  10:00 AM  40.630199  97 Myrtle Avenue, Staten Island, NY -74.115967   \n",
       "4      Dawn  40.635471                      6753 4th Avenue -74.022797   \n",
       "\n",
       "                                      NTAName Notes  ObjectId Operation_Day  \\\n",
       "0                      Mott Haven-Port Morris   NaN       NaN      Saturday   \n",
       "1                              West Concourse   NaN       NaN    Wednesdays   \n",
       "2  Hudson Yards-Chelsea-Flatiron-Union Square   NaN       NaN     Thursdays   \n",
       "3                    New Brighton-Silver Lake   NaN       NaN     Saturdays   \n",
       "4                                   Bay Ridge   NaN       NaN     Saturdays   \n",
       "\n",
       "                      Open_Months                            Serviced_by  \\\n",
       "0                      Year Round                             Brook Park   \n",
       "1  Seasonal Market, July-November                                GrowNYC   \n",
       "2                      Year Round  Hudson Yards/ Hell's Kitchen Alliance   \n",
       "3        Seasonal, March-November             Olivet Presbyterian Church   \n",
       "4                      Year Round         4th Avenue Presbyterian Church   \n",
       "\n",
       "                                             Website  boroCD  ct2010  \\\n",
       "0                                                NaN     201    4000   \n",
       "1  https://www.grownyc.org/compost/locations; htt...     204     223   \n",
       "2                                    hyhalliance.org     104      99   \n",
       "3                                www.olivetcares.org     501    4006   \n",
       "4           http://www.fourthavenuepresbyterian.org/     310    1004   \n",
       "\n",
       "                          point  zip_code  \n",
       "0    POINT (-73.9187 40.809599)     10454  \n",
       "1   POINT (-73.91682 40.839985)     10452  \n",
       "2  POINT (-74.000348 40.755554)     10001  \n",
       "3  POINT (-74.115963 40.630199)     10310  \n",
       "4    POINT (-74.0228 40.635473)     11220  "
      ]
     },
     "execution_count": 206,
     "metadata": {},
     "output_type": "execute_result"
    }
   ],
   "source": [
    "compost_drop_off.head()"
   ]
  },
  {
   "cell_type": "code",
   "execution_count": 207,
   "metadata": {},
   "outputs": [],
   "source": [
    "# make all column names lowercase\n",
    "compost_drop_off.columns = [column.lower() for column in compost_drop_off.columns]"
   ]
  },
  {
   "cell_type": "code",
   "execution_count": 208,
   "metadata": {},
   "outputs": [
    {
     "data": {
      "text/plain": [
       "Index(['borough', 'councildist', 'food_scrap_drop_off_site_name', 'hours_from',\n",
       "       'hours_to', 'latitude', 'location', 'longitude', 'ntaname', 'notes',\n",
       "       'objectid', 'operation_day', 'open_months', 'serviced_by', 'website',\n",
       "       'borocd', 'ct2010', 'point', 'zip_code'],\n",
       "      dtype='object')"
      ]
     },
     "execution_count": 208,
     "metadata": {},
     "output_type": "execute_result"
    }
   ],
   "source": [
    "compost_drop_off.columns"
   ]
  },
  {
   "cell_type": "code",
   "execution_count": 209,
   "metadata": {},
   "outputs": [],
   "source": [
    "# create new column that combines latitude and longitude to find out how many are unique\n",
    "compost_drop_off['lat_long'] = compost_drop_off['latitude'].astype(str) + \" \" + compost_drop_off['longitude'].astype(str)"
   ]
  },
  {
   "cell_type": "code",
   "execution_count": 210,
   "metadata": {},
   "outputs": [
    {
     "data": {
      "text/plain": [
       "165"
      ]
     },
     "execution_count": 210,
     "metadata": {},
     "output_type": "execute_result"
    }
   ],
   "source": [
    "# get the number of unique lat, long in compost_drop_off\n",
    "len(pd.unique(compost_drop_off['lat_long'])) #165 lat, long"
   ]
  },
  {
   "cell_type": "code",
   "execution_count": 211,
   "metadata": {},
   "outputs": [
    {
     "data": {
      "text/plain": [
       "166"
      ]
     },
     "execution_count": 211,
     "metadata": {},
     "output_type": "execute_result"
    }
   ],
   "source": [
    "# get the number of unique sites in compost_drop_off\n",
    "len(pd.unique(compost_drop_off['food_scrap_drop_off_site_name']))"
   ]
  },
  {
   "cell_type": "markdown",
   "metadata": {},
   "source": [
    "- There appears to be two food scrap drop-off sites with the same location."
   ]
  },
  {
   "cell_type": "code",
   "execution_count": 212,
   "metadata": {},
   "outputs": [],
   "source": [
    "# drop duplicate compost sites\n",
    "compost_drop_off.drop_duplicates(subset=['food_scrap_drop_off_site_name'], keep='first', inplace=True)"
   ]
  },
  {
   "cell_type": "code",
   "execution_count": 213,
   "metadata": {},
   "outputs": [],
   "source": [
    "# create new df with only columns needed in compost_drop_off\n",
    "compost_drop_off = compost_drop_off.drop(['councildist', 'hours_from', 'hours_to', 'location', 'ntaname', 'notes',\n",
    "                                'objectid', 'operation_day', 'open_months', 'serviced_by', 'website',\n",
    "                                'borocd', 'ct2010', 'point', 'zip_code'], axis=1, errors=\"ignore\")"
   ]
  },
  {
   "cell_type": "code",
   "execution_count": 214,
   "metadata": {},
   "outputs": [
    {
     "data": {
      "text/html": [
       "<div>\n",
       "<style scoped>\n",
       "    .dataframe tbody tr th:only-of-type {\n",
       "        vertical-align: middle;\n",
       "    }\n",
       "\n",
       "    .dataframe tbody tr th {\n",
       "        vertical-align: top;\n",
       "    }\n",
       "\n",
       "    .dataframe thead th {\n",
       "        text-align: right;\n",
       "    }\n",
       "</style>\n",
       "<table border=\"1\" class=\"dataframe\">\n",
       "  <thead>\n",
       "    <tr style=\"text-align: right;\">\n",
       "      <th></th>\n",
       "      <th>borough</th>\n",
       "      <th>food_scrap_drop_off_site_name</th>\n",
       "      <th>latitude</th>\n",
       "      <th>longitude</th>\n",
       "      <th>lat_long</th>\n",
       "    </tr>\n",
       "  </thead>\n",
       "  <tbody>\n",
       "    <tr>\n",
       "      <th>0</th>\n",
       "      <td>Bronx</td>\n",
       "      <td>Brook Park</td>\n",
       "      <td>40.809601</td>\n",
       "      <td>-73.918701</td>\n",
       "      <td>40.80960083 -73.91870117</td>\n",
       "    </tr>\n",
       "    <tr>\n",
       "      <th>1</th>\n",
       "      <td>Bronx</td>\n",
       "      <td>OPENING JULY 10: 170 Farmstand</td>\n",
       "      <td>40.839985</td>\n",
       "      <td>-73.916817</td>\n",
       "      <td>40.83998489 -73.91681671</td>\n",
       "    </tr>\n",
       "    <tr>\n",
       "      <th>2</th>\n",
       "      <td>Manhattan</td>\n",
       "      <td>Hudson Blvd Park</td>\n",
       "      <td>40.755554</td>\n",
       "      <td>-74.000351</td>\n",
       "      <td>40.7555542 -74.00035095</td>\n",
       "    </tr>\n",
       "    <tr>\n",
       "      <th>3</th>\n",
       "      <td>Staten Island</td>\n",
       "      <td>Olivet Heavenly Harvest</td>\n",
       "      <td>40.630199</td>\n",
       "      <td>-74.115967</td>\n",
       "      <td>40.63019943 -74.1159668</td>\n",
       "    </tr>\n",
       "    <tr>\n",
       "      <th>4</th>\n",
       "      <td>Brooklyn</td>\n",
       "      <td>4th Avenue Presbyterian Church</td>\n",
       "      <td>40.635471</td>\n",
       "      <td>-74.022797</td>\n",
       "      <td>40.63547134 -74.02279663</td>\n",
       "    </tr>\n",
       "  </tbody>\n",
       "</table>\n",
       "</div>"
      ],
      "text/plain": [
       "         borough   food_scrap_drop_off_site_name   latitude  longitude  \\\n",
       "0          Bronx                      Brook Park  40.809601 -73.918701   \n",
       "1          Bronx  OPENING JULY 10: 170 Farmstand  40.839985 -73.916817   \n",
       "2      Manhattan                Hudson Blvd Park  40.755554 -74.000351   \n",
       "3  Staten Island         Olivet Heavenly Harvest  40.630199 -74.115967   \n",
       "4       Brooklyn  4th Avenue Presbyterian Church  40.635471 -74.022797   \n",
       "\n",
       "                   lat_long  \n",
       "0  40.80960083 -73.91870117  \n",
       "1  40.83998489 -73.91681671  \n",
       "2   40.7555542 -74.00035095  \n",
       "3   40.63019943 -74.1159668  \n",
       "4  40.63547134 -74.02279663  "
      ]
     },
     "execution_count": 214,
     "metadata": {},
     "output_type": "execute_result"
    }
   ],
   "source": [
    "compost_drop_off.head()"
   ]
  },
  {
   "cell_type": "code",
   "execution_count": 215,
   "metadata": {},
   "outputs": [
    {
     "data": {
      "text/plain": [
       "(166, 5)"
      ]
     },
     "execution_count": 215,
     "metadata": {},
     "output_type": "execute_result"
    }
   ],
   "source": [
    "compost_drop_off.shape"
   ]
  },
  {
   "cell_type": "code",
   "execution_count": 268,
   "metadata": {},
   "outputs": [
    {
     "data": {
      "text/plain": [
       "Manhattan        78\n",
       "Brooklyn         28\n",
       "Queens           28\n",
       "Bronx            27\n",
       "Staten Island     4\n",
       "Name: borough, dtype: int64"
      ]
     },
     "execution_count": 268,
     "metadata": {},
     "output_type": "execute_result"
    }
   ],
   "source": [
    "# look to see how many food scrap drop-off sites are located in each borough\n",
    "compost_drop_off.borough.value_counts()"
   ]
  },
  {
   "cell_type": "markdown",
   "metadata": {},
   "source": [
    "# Create map of food scrap drop-off sites and stations\n",
    "- Before calculating the actual distance between food scrap drop off sites and the potential stations at which to conduct outreach to promote composting, I decided to create a map showing food scrap drop off sites and the potential 24 stations.\n",
    "- I used this article for help writing the code for the map: https://medium.com/@ianforrest11/graphing-latitudes-and-longitudes-on-a-map-bf64d5fca391"
   ]
  },
  {
   "cell_type": "code",
   "execution_count": 216,
   "metadata": {},
   "outputs": [],
   "source": [
    "# import street map\n",
    "os.chdir ('/Users/chloebergsma-safar/Desktop/Bootcamp_Data/Borough Boundaries')\n",
    "street_map = gpd.read_file('geo_export_3b396110-9a73-4fd7-935d-741e423ac1be.shp')"
   ]
  },
  {
   "cell_type": "code",
   "execution_count": 217,
   "metadata": {},
   "outputs": [],
   "source": [
    "# create geopandas df of food scrap drop off sites\n",
    "\n",
    "# zip x and y coordinates into single feature\n",
    "geo_compost = [Point(xy) for xy in zip(compost_drop_off['longitude'], compost_drop_off['latitude'])]\n",
    "\n",
    "# create GeoPandas dataframe\n",
    "geo_compost_df = gpd.GeoDataFrame(compost_drop_off,\n",
    " crs=\"EPSG:4326\",\n",
    " geometry = geo_compost)"
   ]
  },
  {
   "cell_type": "code",
   "execution_count": 218,
   "metadata": {},
   "outputs": [
    {
     "data": {
      "text/html": [
       "<div>\n",
       "<style scoped>\n",
       "    .dataframe tbody tr th:only-of-type {\n",
       "        vertical-align: middle;\n",
       "    }\n",
       "\n",
       "    .dataframe tbody tr th {\n",
       "        vertical-align: top;\n",
       "    }\n",
       "\n",
       "    .dataframe thead th {\n",
       "        text-align: right;\n",
       "    }\n",
       "</style>\n",
       "<table border=\"1\" class=\"dataframe\">\n",
       "  <thead>\n",
       "    <tr style=\"text-align: right;\">\n",
       "      <th></th>\n",
       "      <th>borough</th>\n",
       "      <th>food_scrap_drop_off_site_name</th>\n",
       "      <th>latitude</th>\n",
       "      <th>longitude</th>\n",
       "      <th>lat_long</th>\n",
       "      <th>geometry</th>\n",
       "    </tr>\n",
       "  </thead>\n",
       "  <tbody>\n",
       "    <tr>\n",
       "      <th>0</th>\n",
       "      <td>Bronx</td>\n",
       "      <td>Brook Park</td>\n",
       "      <td>40.809601</td>\n",
       "      <td>-73.918701</td>\n",
       "      <td>40.80960083 -73.91870117</td>\n",
       "      <td>POINT (-73.91870 40.80960)</td>\n",
       "    </tr>\n",
       "    <tr>\n",
       "      <th>1</th>\n",
       "      <td>Bronx</td>\n",
       "      <td>OPENING JULY 10: 170 Farmstand</td>\n",
       "      <td>40.839985</td>\n",
       "      <td>-73.916817</td>\n",
       "      <td>40.83998489 -73.91681671</td>\n",
       "      <td>POINT (-73.91682 40.83998)</td>\n",
       "    </tr>\n",
       "    <tr>\n",
       "      <th>2</th>\n",
       "      <td>Manhattan</td>\n",
       "      <td>Hudson Blvd Park</td>\n",
       "      <td>40.755554</td>\n",
       "      <td>-74.000351</td>\n",
       "      <td>40.7555542 -74.00035095</td>\n",
       "      <td>POINT (-74.00035 40.75555)</td>\n",
       "    </tr>\n",
       "    <tr>\n",
       "      <th>3</th>\n",
       "      <td>Staten Island</td>\n",
       "      <td>Olivet Heavenly Harvest</td>\n",
       "      <td>40.630199</td>\n",
       "      <td>-74.115967</td>\n",
       "      <td>40.63019943 -74.1159668</td>\n",
       "      <td>POINT (-74.11597 40.63020)</td>\n",
       "    </tr>\n",
       "    <tr>\n",
       "      <th>4</th>\n",
       "      <td>Brooklyn</td>\n",
       "      <td>4th Avenue Presbyterian Church</td>\n",
       "      <td>40.635471</td>\n",
       "      <td>-74.022797</td>\n",
       "      <td>40.63547134 -74.02279663</td>\n",
       "      <td>POINT (-74.02280 40.63547)</td>\n",
       "    </tr>\n",
       "  </tbody>\n",
       "</table>\n",
       "</div>"
      ],
      "text/plain": [
       "         borough   food_scrap_drop_off_site_name   latitude  longitude  \\\n",
       "0          Bronx                      Brook Park  40.809601 -73.918701   \n",
       "1          Bronx  OPENING JULY 10: 170 Farmstand  40.839985 -73.916817   \n",
       "2      Manhattan                Hudson Blvd Park  40.755554 -74.000351   \n",
       "3  Staten Island         Olivet Heavenly Harvest  40.630199 -74.115967   \n",
       "4       Brooklyn  4th Avenue Presbyterian Church  40.635471 -74.022797   \n",
       "\n",
       "                   lat_long                    geometry  \n",
       "0  40.80960083 -73.91870117  POINT (-73.91870 40.80960)  \n",
       "1  40.83998489 -73.91681671  POINT (-73.91682 40.83998)  \n",
       "2   40.7555542 -74.00035095  POINT (-74.00035 40.75555)  \n",
       "3   40.63019943 -74.1159668  POINT (-74.11597 40.63020)  \n",
       "4  40.63547134 -74.02279663  POINT (-74.02280 40.63547)  "
      ]
     },
     "execution_count": 218,
     "metadata": {},
     "output_type": "execute_result"
    }
   ],
   "source": [
    "geo_compost_df.head()"
   ]
  },
  {
   "cell_type": "code",
   "execution_count": 219,
   "metadata": {},
   "outputs": [],
   "source": [
    "# create geopandas df of stations \n",
    "\n",
    "# zip x and y coordinates into single feature\n",
    "geo_stations_rev = [Point(xy) for xy in zip(stations_merged_rev['gtfs_longitude'], stations_merged_rev['gtfs_latitude'])]\n",
    "\n",
    "# create GeoPandas dataframe\n",
    "geo_stations_rev_df = gpd.GeoDataFrame(stations_merged_rev,\n",
    " crs=\"EPSG:4326\",\n",
    " geometry = geo_stations_rev)"
   ]
  },
  {
   "cell_type": "code",
   "execution_count": 220,
   "metadata": {},
   "outputs": [
    {
     "data": {
      "text/plain": [
       "{'Manhattan': 'red', 'Bronx': 'purple', 'Brooklyn': 'blue', 'Queens': 'green'}"
      ]
     },
     "execution_count": 220,
     "metadata": {},
     "output_type": "execute_result"
    }
   ],
   "source": [
    "# create a dictionary to assign each station's borough a particular color\n",
    "boroughPalette = {'Manhattan': 'red',\n",
    "               'Bronx': 'purple',\n",
    "               'Brooklyn': 'blue',\n",
    "               'Queens': 'green'}\n",
    "boroughPalette"
   ]
  },
  {
   "cell_type": "code",
   "execution_count": 221,
   "metadata": {},
   "outputs": [
    {
     "data": {
      "image/png": "[encoded data removed]",
      "text/plain": [
       "<Figure size 720x720 with 1 Axes>"
      ]
     },
     "metadata": {
      "needs_background": "light"
     },
     "output_type": "display_data"
    }
   ],
   "source": [
    "# create figure and axes, assign to subplot\n",
    "fig, ax = plt.subplots(figsize=(10,10))\n",
    "\n",
    "# add .shp mapfile to axes\n",
    "street_map.plot(ax=ax, alpha=0.4,color='grey')\n",
    "\n",
    "# add geodataframes to axes\n",
    "\n",
    "# 1. compost geo df\n",
    "geo_compost_df.plot(ax=ax,markersize=10, color='black')\n",
    "\n",
    "# 2. stations df\n",
    "for ctype, data in geo_stations_rev_df.groupby('borough'):\n",
    "    \n",
    "    # Define the color for each group using the dictionary\n",
    "    color = boroughPalette[ctype]\n",
    "    \n",
    "    # Plot each group using the color defined above\n",
    "    data.plot(color=color,\n",
    "              ax=ax,\n",
    "              label=ctype)\n",
    "\n",
    "ax.legend(bbox_to_anchor=(1.0, .5), prop={'size': 15})\n",
    "\n",
    "# add title to graph\n",
    "plt.title('Food Scrap Drop-off Sites and MTA Stations \\n with Median Average Daily Entries/Exits in NYC', fontsize=15, fontweight='bold')\n",
    "\n",
    "# set latitiude and longitude boundaries for map display\n",
    "plt.xlim(-74.3,-73.675)\n",
    "plt.ylim(40.5,40.925)\n",
    "\n",
    "# show map\n",
    "plt.show()"
   ]
  },
  {
   "cell_type": "markdown",
   "metadata": {},
   "source": [
    "- This map shows food scrap drop-off sites in black and the stations are color-coded according to their borough.\n",
    "- It shows that food scrap drop-off sites are more densely located in Manhattan and the Bronx versus the other three boroughs.\n",
    "- Also, it shows that there are several potential stations (based on criterion #1 - traffic flow) at which to do outreach that appear to be quite distant from food scrap drop-off stations.\n",
    "- Therefore, the next step is to find the nearest food scrap drop-off sites to each of the above 24 potential stations."
   ]
  },
  {
   "cell_type": "markdown",
   "metadata": {},
   "source": [
    "## Find the closest food scrap drop-off sites to each potential outreach station\n",
    "- I used this article for help writing the below code: https://medium.com/analytics-vidhya/finding-nearest-pair-of-latitude-and-longitude-match-using-python-ce50d62af546."
   ]
  },
  {
   "cell_type": "code",
   "execution_count": 222,
   "metadata": {},
   "outputs": [],
   "source": [
    "# create function that calculates haversine distance between two points\n",
    "def dist(lat1, long1, lat2, long2):\n",
    "    \"\"\"\n",
    "    Calculate the great circle distance between two points \n",
    "    on the earth (specified in decimal degrees)\n",
    "    \"\"\"\n",
    "    # convert decimal degrees to radians \n",
    "    lat1, long1, lat2, long2 = map(radians, [lat1, long1, lat2, long2])\n",
    "    # haversine formula \n",
    "    dlon = long2 - long1 \n",
    "    dlat = lat2 - lat1 \n",
    "    a = sin(dlat/2)**2 + cos(lat1) * cos(lat2) * sin(dlon/2)**2\n",
    "    c = 2 * asin(sqrt(a)) \n",
    "    # radius of earth in miles is 3,958.8 mi\n",
    "    mi = 3958.8 * c\n",
    "    return mi"
   ]
  },
  {
   "cell_type": "markdown",
   "metadata": {},
   "source": [
    "- The above function will calculate the distance between each station and every food scrap drop-off site."
   ]
  },
  {
   "cell_type": "code",
   "execution_count": 223,
   "metadata": {},
   "outputs": [],
   "source": [
    "# rename latitude and longitude columns in dfs so they're shorter and the same\n",
    "compost_drop_off = compost_drop_off.rename(columns={'latitude':'lat',\n",
    "                                                   'longitude':'long'})\n",
    "stations_merged_rev = stations_merged_rev.rename(columns={'gtfs_latitude':'lat',\n",
    "                                                   'gtfs_longitude':'long'})"
   ]
  },
  {
   "cell_type": "code",
   "execution_count": 224,
   "metadata": {},
   "outputs": [],
   "source": [
    "def find_nearest(lat, long):\n",
    "    distances = compost_drop_off.apply(\n",
    "        lambda row: dist(lat, long, row['lat'], row['long']), \n",
    "        axis=1)\n",
    "    return compost_drop_off.loc[distances.idxmin(), 'food_scrap_drop_off_site_name']"
   ]
  },
  {
   "cell_type": "markdown",
   "metadata": {},
   "source": [
    "- The above function will calculate the distance between each station and the nearest food scrap drop-off site using the first function that calculates the distance between two points. In this case, idxmin() returns the index of the minimum value in the food_scrap_drop_off_site_name column.\n",
    "- Using the above function, we can apply it to the stations df."
   ]
  },
  {
   "cell_type": "code",
   "execution_count": 225,
   "metadata": {},
   "outputs": [],
   "source": [
    "stations_merged_rev['food_scrap_drop_off_site_name'] = stations_merged_rev.apply(\n",
    "    lambda row: find_nearest(row['lat'], row['long']), \n",
    "    axis=1)"
   ]
  },
  {
   "cell_type": "code",
   "execution_count": 226,
   "metadata": {},
   "outputs": [
    {
     "data": {
      "text/html": [
       "<div>\n",
       "<style scoped>\n",
       "    .dataframe tbody tr th:only-of-type {\n",
       "        vertical-align: middle;\n",
       "    }\n",
       "\n",
       "    .dataframe tbody tr th {\n",
       "        vertical-align: top;\n",
       "    }\n",
       "\n",
       "    .dataframe thead th {\n",
       "        text-align: right;\n",
       "    }\n",
       "</style>\n",
       "<table border=\"1\" class=\"dataframe\">\n",
       "  <thead>\n",
       "    <tr style=\"text-align: right;\">\n",
       "      <th></th>\n",
       "      <th>station</th>\n",
       "      <th>avg_daily_entries_exits</th>\n",
       "      <th>borough</th>\n",
       "      <th>lat</th>\n",
       "      <th>long</th>\n",
       "      <th>lat_long</th>\n",
       "      <th>geometry</th>\n",
       "      <th>food_scrap_drop_off_site_name</th>\n",
       "    </tr>\n",
       "  </thead>\n",
       "  <tbody>\n",
       "    <tr>\n",
       "      <th>118</th>\n",
       "      <td>9 av</td>\n",
       "      <td>2525.0</td>\n",
       "      <td>Brooklyn</td>\n",
       "      <td>40.646292</td>\n",
       "      <td>-73.994324</td>\n",
       "      <td>40.646291999999995 -73.994324</td>\n",
       "      <td>POINT (-73.99432 40.64629)</td>\n",
       "      <td>East 4th Street Community Garden</td>\n",
       "    </tr>\n",
       "    <tr>\n",
       "      <th>119</th>\n",
       "      <td>parkside av</td>\n",
       "      <td>2570.0</td>\n",
       "      <td>Brooklyn</td>\n",
       "      <td>40.655292</td>\n",
       "      <td>-73.961495</td>\n",
       "      <td>40.655291999999996 -73.961495</td>\n",
       "      <td>POINT (-73.96149 40.65529)</td>\n",
       "      <td>Parkside</td>\n",
       "    </tr>\n",
       "    <tr>\n",
       "      <th>120</th>\n",
       "      <td>van siclen av</td>\n",
       "      <td>2586.0</td>\n",
       "      <td>Brooklyn</td>\n",
       "      <td>40.678024</td>\n",
       "      <td>-73.891688</td>\n",
       "      <td>40.678024 -73.891688</td>\n",
       "      <td>POINT (-73.89169 40.67802)</td>\n",
       "      <td>OPEN FOR SEASON: Essex Community Garden</td>\n",
       "    </tr>\n",
       "    <tr>\n",
       "      <th>121</th>\n",
       "      <td>fresh pond rd</td>\n",
       "      <td>2592.5</td>\n",
       "      <td>Queens</td>\n",
       "      <td>40.706186</td>\n",
       "      <td>-73.895877</td>\n",
       "      <td>40.706185999999995 -73.895877</td>\n",
       "      <td>POINT (-73.89588 40.70619)</td>\n",
       "      <td>Bushwick Grows! Community Garden</td>\n",
       "    </tr>\n",
       "    <tr>\n",
       "      <th>122</th>\n",
       "      <td>northern blvd</td>\n",
       "      <td>2614.0</td>\n",
       "      <td>Queens</td>\n",
       "      <td>40.752885</td>\n",
       "      <td>-73.906006</td>\n",
       "      <td>40.752885 -73.906006</td>\n",
       "      <td>POINT (-73.90601 40.75288)</td>\n",
       "      <td>Sunny Compost</td>\n",
       "    </tr>\n",
       "  </tbody>\n",
       "</table>\n",
       "</div>"
      ],
      "text/plain": [
       "           station  avg_daily_entries_exits   borough        lat       long  \\\n",
       "118           9 av                   2525.0  Brooklyn  40.646292 -73.994324   \n",
       "119    parkside av                   2570.0  Brooklyn  40.655292 -73.961495   \n",
       "120  van siclen av                   2586.0  Brooklyn  40.678024 -73.891688   \n",
       "121  fresh pond rd                   2592.5    Queens  40.706186 -73.895877   \n",
       "122  northern blvd                   2614.0    Queens  40.752885 -73.906006   \n",
       "\n",
       "                          lat_long                    geometry  \\\n",
       "118  40.646291999999995 -73.994324  POINT (-73.99432 40.64629)   \n",
       "119  40.655291999999996 -73.961495  POINT (-73.96149 40.65529)   \n",
       "120           40.678024 -73.891688  POINT (-73.89169 40.67802)   \n",
       "121  40.706185999999995 -73.895877  POINT (-73.89588 40.70619)   \n",
       "122           40.752885 -73.906006  POINT (-73.90601 40.75288)   \n",
       "\n",
       "               food_scrap_drop_off_site_name  \n",
       "118         East 4th Street Community Garden  \n",
       "119                                 Parkside  \n",
       "120  OPEN FOR SEASON: Essex Community Garden  \n",
       "121         Bushwick Grows! Community Garden  \n",
       "122                            Sunny Compost  "
      ]
     },
     "execution_count": 226,
     "metadata": {},
     "output_type": "execute_result"
    }
   ],
   "source": [
    "stations_merged_rev.head()"
   ]
  },
  {
   "cell_type": "markdown",
   "metadata": {},
   "source": [
    "## Calculate the distance between stations and the nearest food scrap drop-off sites.\n",
    "- Now that I know which food scrap drop-off site is nearest each of the potential 24 stations at which to do outreach, I want to calculate the actual distance."
   ]
  },
  {
   "cell_type": "code",
   "execution_count": 227,
   "metadata": {},
   "outputs": [
    {
     "data": {
      "text/html": [
       "<div>\n",
       "<style scoped>\n",
       "    .dataframe tbody tr th:only-of-type {\n",
       "        vertical-align: middle;\n",
       "    }\n",
       "\n",
       "    .dataframe tbody tr th {\n",
       "        vertical-align: top;\n",
       "    }\n",
       "\n",
       "    .dataframe thead th {\n",
       "        text-align: right;\n",
       "    }\n",
       "</style>\n",
       "<table border=\"1\" class=\"dataframe\">\n",
       "  <thead>\n",
       "    <tr style=\"text-align: right;\">\n",
       "      <th></th>\n",
       "      <th>station</th>\n",
       "      <th>avg_daily_entries_exits</th>\n",
       "      <th>borough</th>\n",
       "      <th>s_lat</th>\n",
       "      <th>s_long</th>\n",
       "      <th>lat_long</th>\n",
       "      <th>geometry</th>\n",
       "      <th>food_scrap_drop_off_site_name</th>\n",
       "      <th>c_lat</th>\n",
       "      <th>c_long</th>\n",
       "    </tr>\n",
       "  </thead>\n",
       "  <tbody>\n",
       "    <tr>\n",
       "      <th>0</th>\n",
       "      <td>9 av</td>\n",
       "      <td>2525.0</td>\n",
       "      <td>Brooklyn</td>\n",
       "      <td>40.646292</td>\n",
       "      <td>-73.994324</td>\n",
       "      <td>40.646291999999995 -73.994324</td>\n",
       "      <td>POINT (-73.99432 40.64629)</td>\n",
       "      <td>East 4th Street Community Garden</td>\n",
       "      <td>40.648212</td>\n",
       "      <td>-73.977097</td>\n",
       "    </tr>\n",
       "    <tr>\n",
       "      <th>1</th>\n",
       "      <td>parkside av</td>\n",
       "      <td>2570.0</td>\n",
       "      <td>Brooklyn</td>\n",
       "      <td>40.655292</td>\n",
       "      <td>-73.961495</td>\n",
       "      <td>40.655291999999996 -73.961495</td>\n",
       "      <td>POINT (-73.96149 40.65529)</td>\n",
       "      <td>Parkside</td>\n",
       "      <td>40.654881</td>\n",
       "      <td>-73.961884</td>\n",
       "    </tr>\n",
       "    <tr>\n",
       "      <th>2</th>\n",
       "      <td>van siclen av</td>\n",
       "      <td>2586.0</td>\n",
       "      <td>Brooklyn</td>\n",
       "      <td>40.678024</td>\n",
       "      <td>-73.891688</td>\n",
       "      <td>40.678024 -73.891688</td>\n",
       "      <td>POINT (-73.89169 40.67802)</td>\n",
       "      <td>OPEN FOR SEASON: Essex Community Garden</td>\n",
       "      <td>40.680264</td>\n",
       "      <td>-73.882980</td>\n",
       "    </tr>\n",
       "    <tr>\n",
       "      <th>3</th>\n",
       "      <td>fresh pond rd</td>\n",
       "      <td>2592.5</td>\n",
       "      <td>Queens</td>\n",
       "      <td>40.706186</td>\n",
       "      <td>-73.895877</td>\n",
       "      <td>40.706185999999995 -73.895877</td>\n",
       "      <td>POINT (-73.89588 40.70619)</td>\n",
       "      <td>Bushwick Grows! Community Garden</td>\n",
       "      <td>40.697605</td>\n",
       "      <td>-73.913704</td>\n",
       "    </tr>\n",
       "    <tr>\n",
       "      <th>4</th>\n",
       "      <td>northern blvd</td>\n",
       "      <td>2614.0</td>\n",
       "      <td>Queens</td>\n",
       "      <td>40.752885</td>\n",
       "      <td>-73.906006</td>\n",
       "      <td>40.752885 -73.906006</td>\n",
       "      <td>POINT (-73.90601 40.75288)</td>\n",
       "      <td>Sunny Compost</td>\n",
       "      <td>40.750046</td>\n",
       "      <td>-73.913757</td>\n",
       "    </tr>\n",
       "  </tbody>\n",
       "</table>\n",
       "</div>"
      ],
      "text/plain": [
       "         station  avg_daily_entries_exits   borough      s_lat     s_long  \\\n",
       "0           9 av                   2525.0  Brooklyn  40.646292 -73.994324   \n",
       "1    parkside av                   2570.0  Brooklyn  40.655292 -73.961495   \n",
       "2  van siclen av                   2586.0  Brooklyn  40.678024 -73.891688   \n",
       "3  fresh pond rd                   2592.5    Queens  40.706186 -73.895877   \n",
       "4  northern blvd                   2614.0    Queens  40.752885 -73.906006   \n",
       "\n",
       "                        lat_long                    geometry  \\\n",
       "0  40.646291999999995 -73.994324  POINT (-73.99432 40.64629)   \n",
       "1  40.655291999999996 -73.961495  POINT (-73.96149 40.65529)   \n",
       "2           40.678024 -73.891688  POINT (-73.89169 40.67802)   \n",
       "3  40.706185999999995 -73.895877  POINT (-73.89588 40.70619)   \n",
       "4           40.752885 -73.906006  POINT (-73.90601 40.75288)   \n",
       "\n",
       "             food_scrap_drop_off_site_name      c_lat     c_long  \n",
       "0         East 4th Street Community Garden  40.648212 -73.977097  \n",
       "1                                 Parkside  40.654881 -73.961884  \n",
       "2  OPEN FOR SEASON: Essex Community Garden  40.680264 -73.882980  \n",
       "3         Bushwick Grows! Community Garden  40.697605 -73.913704  \n",
       "4                            Sunny Compost  40.750046 -73.913757  "
      ]
     },
     "execution_count": 227,
     "metadata": {},
     "output_type": "execute_result"
    }
   ],
   "source": [
    "# Merge the stations and compost dfs\n",
    "stations_final = pd.merge(stations_merged_rev,compost_drop_off[['food_scrap_drop_off_site_name','lat','long']],on='food_scrap_drop_off_site_name', how='left')\n",
    "\n",
    "# Rename the new columns so it's clear which df columns with the same name came from \n",
    "  # ('s_' for stations df and 'c_' for compost data)\n",
    "stations_final = stations_final.rename(columns = {'lat_x':'s_lat','long_x':'s_long','lat_y':'c_lat','long_y':'c_long'})\n",
    "\n",
    "stations_final.head()"
   ]
  },
  {
   "cell_type": "code",
   "execution_count": 228,
   "metadata": {},
   "outputs": [
    {
     "data": {
      "text/html": [
       "<div>\n",
       "<style scoped>\n",
       "    .dataframe tbody tr th:only-of-type {\n",
       "        vertical-align: middle;\n",
       "    }\n",
       "\n",
       "    .dataframe tbody tr th {\n",
       "        vertical-align: top;\n",
       "    }\n",
       "\n",
       "    .dataframe thead th {\n",
       "        text-align: right;\n",
       "    }\n",
       "</style>\n",
       "<table border=\"1\" class=\"dataframe\">\n",
       "  <thead>\n",
       "    <tr style=\"text-align: right;\">\n",
       "      <th></th>\n",
       "      <th>station</th>\n",
       "      <th>avg_daily_entries_exits</th>\n",
       "      <th>borough</th>\n",
       "      <th>s_lat</th>\n",
       "      <th>s_long</th>\n",
       "      <th>lat_long</th>\n",
       "      <th>geometry</th>\n",
       "      <th>food_scrap_drop_off_site_name</th>\n",
       "      <th>c_lat</th>\n",
       "      <th>c_long</th>\n",
       "      <th>distance</th>\n",
       "    </tr>\n",
       "  </thead>\n",
       "  <tbody>\n",
       "    <tr>\n",
       "      <th>0</th>\n",
       "      <td>9 av</td>\n",
       "      <td>2525.0</td>\n",
       "      <td>Brooklyn</td>\n",
       "      <td>40.646292</td>\n",
       "      <td>-73.994324</td>\n",
       "      <td>40.646291999999995 -73.994324</td>\n",
       "      <td>POINT (-73.99432 40.64629)</td>\n",
       "      <td>East 4th Street Community Garden</td>\n",
       "      <td>40.648212</td>\n",
       "      <td>-73.977097</td>\n",
       "      <td>1.191</td>\n",
       "    </tr>\n",
       "    <tr>\n",
       "      <th>1</th>\n",
       "      <td>parkside av</td>\n",
       "      <td>2570.0</td>\n",
       "      <td>Brooklyn</td>\n",
       "      <td>40.655292</td>\n",
       "      <td>-73.961495</td>\n",
       "      <td>40.655291999999996 -73.961495</td>\n",
       "      <td>POINT (-73.96149 40.65529)</td>\n",
       "      <td>Parkside</td>\n",
       "      <td>40.654881</td>\n",
       "      <td>-73.961884</td>\n",
       "      <td>0.028</td>\n",
       "    </tr>\n",
       "    <tr>\n",
       "      <th>2</th>\n",
       "      <td>van siclen av</td>\n",
       "      <td>2586.0</td>\n",
       "      <td>Brooklyn</td>\n",
       "      <td>40.678024</td>\n",
       "      <td>-73.891688</td>\n",
       "      <td>40.678024 -73.891688</td>\n",
       "      <td>POINT (-73.89169 40.67802)</td>\n",
       "      <td>OPEN FOR SEASON: Essex Community Garden</td>\n",
       "      <td>40.680264</td>\n",
       "      <td>-73.882980</td>\n",
       "      <td>0.603</td>\n",
       "    </tr>\n",
       "    <tr>\n",
       "      <th>3</th>\n",
       "      <td>fresh pond rd</td>\n",
       "      <td>2592.5</td>\n",
       "      <td>Queens</td>\n",
       "      <td>40.706186</td>\n",
       "      <td>-73.895877</td>\n",
       "      <td>40.706185999999995 -73.895877</td>\n",
       "      <td>POINT (-73.89588 40.70619)</td>\n",
       "      <td>Bushwick Grows! Community Garden</td>\n",
       "      <td>40.697605</td>\n",
       "      <td>-73.913704</td>\n",
       "      <td>1.243</td>\n",
       "    </tr>\n",
       "    <tr>\n",
       "      <th>4</th>\n",
       "      <td>northern blvd</td>\n",
       "      <td>2614.0</td>\n",
       "      <td>Queens</td>\n",
       "      <td>40.752885</td>\n",
       "      <td>-73.906006</td>\n",
       "      <td>40.752885 -73.906006</td>\n",
       "      <td>POINT (-73.90601 40.75288)</td>\n",
       "      <td>Sunny Compost</td>\n",
       "      <td>40.750046</td>\n",
       "      <td>-73.913757</td>\n",
       "      <td>0.538</td>\n",
       "    </tr>\n",
       "  </tbody>\n",
       "</table>\n",
       "</div>"
      ],
      "text/plain": [
       "         station  avg_daily_entries_exits   borough      s_lat     s_long  \\\n",
       "0           9 av                   2525.0  Brooklyn  40.646292 -73.994324   \n",
       "1    parkside av                   2570.0  Brooklyn  40.655292 -73.961495   \n",
       "2  van siclen av                   2586.0  Brooklyn  40.678024 -73.891688   \n",
       "3  fresh pond rd                   2592.5    Queens  40.706186 -73.895877   \n",
       "4  northern blvd                   2614.0    Queens  40.752885 -73.906006   \n",
       "\n",
       "                        lat_long                    geometry  \\\n",
       "0  40.646291999999995 -73.994324  POINT (-73.99432 40.64629)   \n",
       "1  40.655291999999996 -73.961495  POINT (-73.96149 40.65529)   \n",
       "2           40.678024 -73.891688  POINT (-73.89169 40.67802)   \n",
       "3  40.706185999999995 -73.895877  POINT (-73.89588 40.70619)   \n",
       "4           40.752885 -73.906006  POINT (-73.90601 40.75288)   \n",
       "\n",
       "             food_scrap_drop_off_site_name      c_lat     c_long  distance  \n",
       "0         East 4th Street Community Garden  40.648212 -73.977097     1.191  \n",
       "1                                 Parkside  40.654881 -73.961884     0.028  \n",
       "2  OPEN FOR SEASON: Essex Community Garden  40.680264 -73.882980     0.603  \n",
       "3         Bushwick Grows! Community Garden  40.697605 -73.913704     1.243  \n",
       "4                            Sunny Compost  40.750046 -73.913757     0.538  "
      ]
     },
     "execution_count": 228,
     "metadata": {},
     "output_type": "execute_result"
    }
   ],
   "source": [
    "# create a new column containing the distance between each station and the nearest food scrap drop-off site\n",
    "  # by passing lat long info to the distance defined function above\n",
    "stations_final['distance'] = [dist(stations_final.s_long[i],stations_final.s_lat[i],stations_final.c_long[i],stations_final.c_lat[i]) for i in range(len(stations_final))]\n",
    "stations_final['distance'] = stations_final['distance'].round(decimals=3)\n",
    "\n",
    "stations_final.head()"
   ]
  },
  {
   "cell_type": "markdown",
   "metadata": {},
   "source": [
    "# Select a station, from each borough, with the shortest distance to the nearest food scrap drop-off site. "
   ]
  },
  {
   "cell_type": "code",
   "execution_count": 229,
   "metadata": {},
   "outputs": [],
   "source": [
    "# sort the df by distance\n",
    "stations_final.sort_values(['distance'],inplace=True)"
   ]
  },
  {
   "cell_type": "code",
   "execution_count": 230,
   "metadata": {},
   "outputs": [
    {
     "data": {
      "text/html": [
       "<div>\n",
       "<style scoped>\n",
       "    .dataframe tbody tr th:only-of-type {\n",
       "        vertical-align: middle;\n",
       "    }\n",
       "\n",
       "    .dataframe tbody tr th {\n",
       "        vertical-align: top;\n",
       "    }\n",
       "\n",
       "    .dataframe thead th {\n",
       "        text-align: right;\n",
       "    }\n",
       "</style>\n",
       "<table border=\"1\" class=\"dataframe\">\n",
       "  <thead>\n",
       "    <tr style=\"text-align: right;\">\n",
       "      <th></th>\n",
       "      <th>station</th>\n",
       "      <th>avg_daily_entries_exits</th>\n",
       "      <th>borough</th>\n",
       "      <th>s_lat</th>\n",
       "      <th>s_long</th>\n",
       "      <th>lat_long</th>\n",
       "      <th>geometry</th>\n",
       "      <th>food_scrap_drop_off_site_name</th>\n",
       "      <th>c_lat</th>\n",
       "      <th>c_long</th>\n",
       "      <th>distance</th>\n",
       "    </tr>\n",
       "  </thead>\n",
       "  <tbody>\n",
       "    <tr>\n",
       "      <th>15</th>\n",
       "      <td>brook av</td>\n",
       "      <td>2852.5</td>\n",
       "      <td>Bronx</td>\n",
       "      <td>40.807566</td>\n",
       "      <td>-73.919240</td>\n",
       "      <td>40.807565999999994 -73.91924</td>\n",
       "      <td>POINT (-73.91924 40.80757)</td>\n",
       "      <td>Brook Ave</td>\n",
       "      <td>40.807560</td>\n",
       "      <td>-73.919228</td>\n",
       "      <td>0.001</td>\n",
       "    </tr>\n",
       "    <tr>\n",
       "      <th>1</th>\n",
       "      <td>parkside av</td>\n",
       "      <td>2570.0</td>\n",
       "      <td>Brooklyn</td>\n",
       "      <td>40.655292</td>\n",
       "      <td>-73.961495</td>\n",
       "      <td>40.655291999999996 -73.961495</td>\n",
       "      <td>POINT (-73.96149 40.65529)</td>\n",
       "      <td>Parkside</td>\n",
       "      <td>40.654881</td>\n",
       "      <td>-73.961884</td>\n",
       "      <td>0.028</td>\n",
       "    </tr>\n",
       "    <tr>\n",
       "      <th>19</th>\n",
       "      <td>inwood-207 st</td>\n",
       "      <td>2923.5</td>\n",
       "      <td>Manhattan</td>\n",
       "      <td>40.868072</td>\n",
       "      <td>-73.919899</td>\n",
       "      <td>40.868072 -73.919899</td>\n",
       "      <td>POINT (-73.91990 40.86807)</td>\n",
       "      <td>Inwood Greenmarket</td>\n",
       "      <td>40.868999</td>\n",
       "      <td>-73.920319</td>\n",
       "      <td>0.034</td>\n",
       "    </tr>\n",
       "    <tr>\n",
       "      <th>23</th>\n",
       "      <td>rector st</td>\n",
       "      <td>2988.0</td>\n",
       "      <td>Manhattan</td>\n",
       "      <td>40.707220</td>\n",
       "      <td>-74.013342</td>\n",
       "      <td>40.70722 -74.01334200000001</td>\n",
       "      <td>POINT (-74.01334 40.70722)</td>\n",
       "      <td>Bowling Green Greenmarket</td>\n",
       "      <td>40.704720</td>\n",
       "      <td>-74.013527</td>\n",
       "      <td>0.049</td>\n",
       "    </tr>\n",
       "    <tr>\n",
       "      <th>13</th>\n",
       "      <td>69 st</td>\n",
       "      <td>2789.5</td>\n",
       "      <td>Queens</td>\n",
       "      <td>40.746325</td>\n",
       "      <td>-73.896403</td>\n",
       "      <td>40.746325 -73.896403</td>\n",
       "      <td>POINT (-73.89640 40.74632)</td>\n",
       "      <td>JH Scraps</td>\n",
       "      <td>40.749863</td>\n",
       "      <td>-73.896301</td>\n",
       "      <td>0.068</td>\n",
       "    </tr>\n",
       "    <tr>\n",
       "      <th>12</th>\n",
       "      <td>52 st</td>\n",
       "      <td>2748.0</td>\n",
       "      <td>Queens</td>\n",
       "      <td>40.744149</td>\n",
       "      <td>-73.912549</td>\n",
       "      <td>40.744149 -73.912549</td>\n",
       "      <td>POINT (-73.91255 40.74415)</td>\n",
       "      <td>Sunny Compost</td>\n",
       "      <td>40.750046</td>\n",
       "      <td>-73.913757</td>\n",
       "      <td>0.140</td>\n",
       "    </tr>\n",
       "    <tr>\n",
       "      <th>5</th>\n",
       "      <td>3 av</td>\n",
       "      <td>2624.0</td>\n",
       "      <td>Manhattan</td>\n",
       "      <td>40.732849</td>\n",
       "      <td>-73.986122</td>\n",
       "      <td>40.732849 -73.986122</td>\n",
       "      <td>POINT (-73.98612 40.73285)</td>\n",
       "      <td>14th Street Y</td>\n",
       "      <td>40.731213</td>\n",
       "      <td>-73.983360</td>\n",
       "      <td>0.193</td>\n",
       "    </tr>\n",
       "    <tr>\n",
       "      <th>22</th>\n",
       "      <td>lorimer st</td>\n",
       "      <td>2969.5</td>\n",
       "      <td>Brooklyn</td>\n",
       "      <td>40.703869</td>\n",
       "      <td>-73.947408</td>\n",
       "      <td>40.703869 -73.947408</td>\n",
       "      <td>POINT (-73.94741 40.70387)</td>\n",
       "      <td>Scholes Street Children's Garden</td>\n",
       "      <td>40.708477</td>\n",
       "      <td>-73.944305</td>\n",
       "      <td>0.232</td>\n",
       "    </tr>\n",
       "    <tr>\n",
       "      <th>7</th>\n",
       "      <td>36 av</td>\n",
       "      <td>2653.5</td>\n",
       "      <td>Queens</td>\n",
       "      <td>40.756804</td>\n",
       "      <td>-73.929575</td>\n",
       "      <td>40.756803999999995 -73.929575</td>\n",
       "      <td>POINT (-73.92957 40.75680)</td>\n",
       "      <td>Commuter Composting at Broadway N/W</td>\n",
       "      <td>40.761566</td>\n",
       "      <td>-73.925507</td>\n",
       "      <td>0.295</td>\n",
       "    </tr>\n",
       "    <tr>\n",
       "      <th>10</th>\n",
       "      <td>montrose av</td>\n",
       "      <td>2696.0</td>\n",
       "      <td>Brooklyn</td>\n",
       "      <td>40.707739</td>\n",
       "      <td>-73.939850</td>\n",
       "      <td>40.707739000000004 -73.93985</td>\n",
       "      <td>POINT (-73.93985 40.70774)</td>\n",
       "      <td>Scholes Street Children's Garden</td>\n",
       "      <td>40.708477</td>\n",
       "      <td>-73.944305</td>\n",
       "      <td>0.308</td>\n",
       "    </tr>\n",
       "    <tr>\n",
       "      <th>11</th>\n",
       "      <td>hoyt st</td>\n",
       "      <td>2748.0</td>\n",
       "      <td>Brooklyn</td>\n",
       "      <td>40.690545</td>\n",
       "      <td>-73.985065</td>\n",
       "      <td>40.690545 -73.985065</td>\n",
       "      <td>POINT (-73.98507 40.69055)</td>\n",
       "      <td>Brooklyn Borough Hall Greenmarket (Closed Thur...</td>\n",
       "      <td>40.693722</td>\n",
       "      <td>-73.990456</td>\n",
       "      <td>0.377</td>\n",
       "    </tr>\n",
       "    <tr>\n",
       "      <th>4</th>\n",
       "      <td>northern blvd</td>\n",
       "      <td>2614.0</td>\n",
       "      <td>Queens</td>\n",
       "      <td>40.752885</td>\n",
       "      <td>-73.906006</td>\n",
       "      <td>40.752885 -73.906006</td>\n",
       "      <td>POINT (-73.90601 40.75288)</td>\n",
       "      <td>Sunny Compost</td>\n",
       "      <td>40.750046</td>\n",
       "      <td>-73.913757</td>\n",
       "      <td>0.538</td>\n",
       "    </tr>\n",
       "    <tr>\n",
       "      <th>16</th>\n",
       "      <td>euclid av</td>\n",
       "      <td>2888.0</td>\n",
       "      <td>Brooklyn</td>\n",
       "      <td>40.675377</td>\n",
       "      <td>-73.872106</td>\n",
       "      <td>40.675377000000005 -73.872106</td>\n",
       "      <td>POINT (-73.87211 40.67538)</td>\n",
       "      <td>OPEN FOR SEASON: Pink Houses Community Farm</td>\n",
       "      <td>40.668293</td>\n",
       "      <td>-73.864441</td>\n",
       "      <td>0.547</td>\n",
       "    </tr>\n",
       "    <tr>\n",
       "      <th>2</th>\n",
       "      <td>van siclen av</td>\n",
       "      <td>2586.0</td>\n",
       "      <td>Brooklyn</td>\n",
       "      <td>40.678024</td>\n",
       "      <td>-73.891688</td>\n",
       "      <td>40.678024 -73.891688</td>\n",
       "      <td>POINT (-73.89169 40.67802)</td>\n",
       "      <td>OPEN FOR SEASON: Essex Community Garden</td>\n",
       "      <td>40.680264</td>\n",
       "      <td>-73.882980</td>\n",
       "      <td>0.603</td>\n",
       "    </tr>\n",
       "    <tr>\n",
       "      <th>20</th>\n",
       "      <td>ozone pk leffrt</td>\n",
       "      <td>2926.5</td>\n",
       "      <td>Queens</td>\n",
       "      <td>40.685951</td>\n",
       "      <td>-73.825798</td>\n",
       "      <td>40.685951 -73.82579799999999</td>\n",
       "      <td>POINT (-73.82580 40.68595)</td>\n",
       "      <td>Commuter Composting at Briarwood E/F</td>\n",
       "      <td>40.709988</td>\n",
       "      <td>-73.819962</td>\n",
       "      <td>0.614</td>\n",
       "    </tr>\n",
       "    <tr>\n",
       "      <th>18</th>\n",
       "      <td>castle hill av</td>\n",
       "      <td>2923.0</td>\n",
       "      <td>Bronx</td>\n",
       "      <td>40.834255</td>\n",
       "      <td>-73.851222</td>\n",
       "      <td>40.834255 -73.85122199999999</td>\n",
       "      <td>POINT (-73.85122 40.83425)</td>\n",
       "      <td>OPEN FOR SEASON: Parkchester Greenmarket</td>\n",
       "      <td>40.833366</td>\n",
       "      <td>-73.861923</td>\n",
       "      <td>0.740</td>\n",
       "    </tr>\n",
       "    <tr>\n",
       "      <th>9</th>\n",
       "      <td>union st</td>\n",
       "      <td>2682.5</td>\n",
       "      <td>Brooklyn</td>\n",
       "      <td>40.677316</td>\n",
       "      <td>-73.983110</td>\n",
       "      <td>40.677316 -73.98311</td>\n",
       "      <td>POINT (-73.98311 40.67732)</td>\n",
       "      <td>7 Ave B/Q (Closed Wednesday, 7/3 - Independenc...</td>\n",
       "      <td>40.677448</td>\n",
       "      <td>-73.972351</td>\n",
       "      <td>0.743</td>\n",
       "    </tr>\n",
       "    <tr>\n",
       "      <th>6</th>\n",
       "      <td>new lots av</td>\n",
       "      <td>2642.5</td>\n",
       "      <td>Brooklyn</td>\n",
       "      <td>40.658733</td>\n",
       "      <td>-73.899232</td>\n",
       "      <td>40.658733000000005 -73.899232</td>\n",
       "      <td>POINT (-73.89923 40.65873)</td>\n",
       "      <td>UCC Youth Farm</td>\n",
       "      <td>40.664909</td>\n",
       "      <td>-73.886726</td>\n",
       "      <td>0.872</td>\n",
       "    </tr>\n",
       "    <tr>\n",
       "      <th>17</th>\n",
       "      <td>45 st</td>\n",
       "      <td>2902.0</td>\n",
       "      <td>Brooklyn</td>\n",
       "      <td>40.648939</td>\n",
       "      <td>-74.010006</td>\n",
       "      <td>40.648939 -74.010006</td>\n",
       "      <td>POINT (-74.01001 40.64894)</td>\n",
       "      <td>4th Avenue Presbyterian Church</td>\n",
       "      <td>40.635471</td>\n",
       "      <td>-74.022797</td>\n",
       "      <td>0.920</td>\n",
       "    </tr>\n",
       "    <tr>\n",
       "      <th>21</th>\n",
       "      <td>parsons blvd</td>\n",
       "      <td>2940.5</td>\n",
       "      <td>Queens</td>\n",
       "      <td>40.707564</td>\n",
       "      <td>-73.803326</td>\n",
       "      <td>40.707564 -73.803326</td>\n",
       "      <td>POINT (-73.80333 40.70756)</td>\n",
       "      <td>Commuter Composting at Briarwood E/F</td>\n",
       "      <td>40.709988</td>\n",
       "      <td>-73.819962</td>\n",
       "      <td>1.150</td>\n",
       "    </tr>\n",
       "    <tr>\n",
       "      <th>8</th>\n",
       "      <td>newkirk av</td>\n",
       "      <td>2655.0</td>\n",
       "      <td>Brooklyn</td>\n",
       "      <td>40.639967</td>\n",
       "      <td>-73.948411</td>\n",
       "      <td>40.639967 -73.948411</td>\n",
       "      <td>POINT (-73.94841 40.63997)</td>\n",
       "      <td>Cortelyou Greenmarket</td>\n",
       "      <td>40.640823</td>\n",
       "      <td>-73.965302</td>\n",
       "      <td>1.167</td>\n",
       "    </tr>\n",
       "    <tr>\n",
       "      <th>0</th>\n",
       "      <td>9 av</td>\n",
       "      <td>2525.0</td>\n",
       "      <td>Brooklyn</td>\n",
       "      <td>40.646292</td>\n",
       "      <td>-73.994324</td>\n",
       "      <td>40.646291999999995 -73.994324</td>\n",
       "      <td>POINT (-73.99432 40.64629)</td>\n",
       "      <td>East 4th Street Community Garden</td>\n",
       "      <td>40.648212</td>\n",
       "      <td>-73.977097</td>\n",
       "      <td>1.191</td>\n",
       "    </tr>\n",
       "    <tr>\n",
       "      <th>3</th>\n",
       "      <td>fresh pond rd</td>\n",
       "      <td>2592.5</td>\n",
       "      <td>Queens</td>\n",
       "      <td>40.706186</td>\n",
       "      <td>-73.895877</td>\n",
       "      <td>40.706185999999995 -73.895877</td>\n",
       "      <td>POINT (-73.89588 40.70619)</td>\n",
       "      <td>Bushwick Grows! Community Garden</td>\n",
       "      <td>40.697605</td>\n",
       "      <td>-73.913704</td>\n",
       "      <td>1.243</td>\n",
       "    </tr>\n",
       "    <tr>\n",
       "      <th>14</th>\n",
       "      <td>20 av</td>\n",
       "      <td>2794.5</td>\n",
       "      <td>Brooklyn</td>\n",
       "      <td>40.604556</td>\n",
       "      <td>-73.998168</td>\n",
       "      <td>40.604556 -73.998168</td>\n",
       "      <td>POINT (-73.99817 40.60456)</td>\n",
       "      <td>Bay Ridge Greenmarket</td>\n",
       "      <td>40.617279</td>\n",
       "      <td>-74.033592</td>\n",
       "      <td>2.460</td>\n",
       "    </tr>\n",
       "  </tbody>\n",
       "</table>\n",
       "</div>"
      ],
      "text/plain": [
       "            station  avg_daily_entries_exits    borough      s_lat     s_long  \\\n",
       "15         brook av                   2852.5      Bronx  40.807566 -73.919240   \n",
       "1       parkside av                   2570.0   Brooklyn  40.655292 -73.961495   \n",
       "19    inwood-207 st                   2923.5  Manhattan  40.868072 -73.919899   \n",
       "23        rector st                   2988.0  Manhattan  40.707220 -74.013342   \n",
       "13            69 st                   2789.5     Queens  40.746325 -73.896403   \n",
       "12            52 st                   2748.0     Queens  40.744149 -73.912549   \n",
       "5              3 av                   2624.0  Manhattan  40.732849 -73.986122   \n",
       "22       lorimer st                   2969.5   Brooklyn  40.703869 -73.947408   \n",
       "7             36 av                   2653.5     Queens  40.756804 -73.929575   \n",
       "10      montrose av                   2696.0   Brooklyn  40.707739 -73.939850   \n",
       "11          hoyt st                   2748.0   Brooklyn  40.690545 -73.985065   \n",
       "4     northern blvd                   2614.0     Queens  40.752885 -73.906006   \n",
       "16        euclid av                   2888.0   Brooklyn  40.675377 -73.872106   \n",
       "2     van siclen av                   2586.0   Brooklyn  40.678024 -73.891688   \n",
       "20  ozone pk leffrt                   2926.5     Queens  40.685951 -73.825798   \n",
       "18   castle hill av                   2923.0      Bronx  40.834255 -73.851222   \n",
       "9          union st                   2682.5   Brooklyn  40.677316 -73.983110   \n",
       "6       new lots av                   2642.5   Brooklyn  40.658733 -73.899232   \n",
       "17            45 st                   2902.0   Brooklyn  40.648939 -74.010006   \n",
       "21     parsons blvd                   2940.5     Queens  40.707564 -73.803326   \n",
       "8        newkirk av                   2655.0   Brooklyn  40.639967 -73.948411   \n",
       "0              9 av                   2525.0   Brooklyn  40.646292 -73.994324   \n",
       "3     fresh pond rd                   2592.5     Queens  40.706186 -73.895877   \n",
       "14            20 av                   2794.5   Brooklyn  40.604556 -73.998168   \n",
       "\n",
       "                         lat_long                    geometry  \\\n",
       "15   40.807565999999994 -73.91924  POINT (-73.91924 40.80757)   \n",
       "1   40.655291999999996 -73.961495  POINT (-73.96149 40.65529)   \n",
       "19           40.868072 -73.919899  POINT (-73.91990 40.86807)   \n",
       "23    40.70722 -74.01334200000001  POINT (-74.01334 40.70722)   \n",
       "13           40.746325 -73.896403  POINT (-73.89640 40.74632)   \n",
       "12           40.744149 -73.912549  POINT (-73.91255 40.74415)   \n",
       "5            40.732849 -73.986122  POINT (-73.98612 40.73285)   \n",
       "22           40.703869 -73.947408  POINT (-73.94741 40.70387)   \n",
       "7   40.756803999999995 -73.929575  POINT (-73.92957 40.75680)   \n",
       "10   40.707739000000004 -73.93985  POINT (-73.93985 40.70774)   \n",
       "11           40.690545 -73.985065  POINT (-73.98507 40.69055)   \n",
       "4            40.752885 -73.906006  POINT (-73.90601 40.75288)   \n",
       "16  40.675377000000005 -73.872106  POINT (-73.87211 40.67538)   \n",
       "2            40.678024 -73.891688  POINT (-73.89169 40.67802)   \n",
       "20   40.685951 -73.82579799999999  POINT (-73.82580 40.68595)   \n",
       "18   40.834255 -73.85122199999999  POINT (-73.85122 40.83425)   \n",
       "9             40.677316 -73.98311  POINT (-73.98311 40.67732)   \n",
       "6   40.658733000000005 -73.899232  POINT (-73.89923 40.65873)   \n",
       "17           40.648939 -74.010006  POINT (-74.01001 40.64894)   \n",
       "21           40.707564 -73.803326  POINT (-73.80333 40.70756)   \n",
       "8            40.639967 -73.948411  POINT (-73.94841 40.63997)   \n",
       "0   40.646291999999995 -73.994324  POINT (-73.99432 40.64629)   \n",
       "3   40.706185999999995 -73.895877  POINT (-73.89588 40.70619)   \n",
       "14           40.604556 -73.998168  POINT (-73.99817 40.60456)   \n",
       "\n",
       "                        food_scrap_drop_off_site_name      c_lat     c_long  \\\n",
       "15                                          Brook Ave  40.807560 -73.919228   \n",
       "1                                            Parkside  40.654881 -73.961884   \n",
       "19                                 Inwood Greenmarket  40.868999 -73.920319   \n",
       "23                          Bowling Green Greenmarket  40.704720 -74.013527   \n",
       "13                                          JH Scraps  40.749863 -73.896301   \n",
       "12                                      Sunny Compost  40.750046 -73.913757   \n",
       "5                                       14th Street Y  40.731213 -73.983360   \n",
       "22                   Scholes Street Children's Garden  40.708477 -73.944305   \n",
       "7                 Commuter Composting at Broadway N/W  40.761566 -73.925507   \n",
       "10                   Scholes Street Children's Garden  40.708477 -73.944305   \n",
       "11  Brooklyn Borough Hall Greenmarket (Closed Thur...  40.693722 -73.990456   \n",
       "4                                       Sunny Compost  40.750046 -73.913757   \n",
       "16        OPEN FOR SEASON: Pink Houses Community Farm  40.668293 -73.864441   \n",
       "2             OPEN FOR SEASON: Essex Community Garden  40.680264 -73.882980   \n",
       "20               Commuter Composting at Briarwood E/F  40.709988 -73.819962   \n",
       "18           OPEN FOR SEASON: Parkchester Greenmarket  40.833366 -73.861923   \n",
       "9   7 Ave B/Q (Closed Wednesday, 7/3 - Independenc...  40.677448 -73.972351   \n",
       "6                                      UCC Youth Farm  40.664909 -73.886726   \n",
       "17                     4th Avenue Presbyterian Church  40.635471 -74.022797   \n",
       "21               Commuter Composting at Briarwood E/F  40.709988 -73.819962   \n",
       "8                               Cortelyou Greenmarket  40.640823 -73.965302   \n",
       "0                    East 4th Street Community Garden  40.648212 -73.977097   \n",
       "3                    Bushwick Grows! Community Garden  40.697605 -73.913704   \n",
       "14                              Bay Ridge Greenmarket  40.617279 -74.033592   \n",
       "\n",
       "    distance  \n",
       "15     0.001  \n",
       "1      0.028  \n",
       "19     0.034  \n",
       "23     0.049  \n",
       "13     0.068  \n",
       "12     0.140  \n",
       "5      0.193  \n",
       "22     0.232  \n",
       "7      0.295  \n",
       "10     0.308  \n",
       "11     0.377  \n",
       "4      0.538  \n",
       "16     0.547  \n",
       "2      0.603  \n",
       "20     0.614  \n",
       "18     0.740  \n",
       "9      0.743  \n",
       "6      0.872  \n",
       "17     0.920  \n",
       "21     1.150  \n",
       "8      1.167  \n",
       "0      1.191  \n",
       "3      1.243  \n",
       "14     2.460  "
      ]
     },
     "execution_count": 230,
     "metadata": {},
     "output_type": "execute_result"
    }
   ],
   "source": [
    "stations_final"
   ]
  },
  {
   "cell_type": "code",
   "execution_count": 231,
   "metadata": {},
   "outputs": [],
   "source": [
    "# keep only the first row from each borough, which, given that the df is sorted in ascending order\n",
    "  # by the distance column, will yield the station and food scrap drop-off site with the shortest distance between \n",
    "  # them in that borough\n",
    "stations_final.drop_duplicates(subset=['borough'], keep='first', inplace=True)"
   ]
  },
  {
   "cell_type": "code",
   "execution_count": 232,
   "metadata": {},
   "outputs": [
    {
     "data": {
      "text/html": [
       "<div>\n",
       "<style scoped>\n",
       "    .dataframe tbody tr th:only-of-type {\n",
       "        vertical-align: middle;\n",
       "    }\n",
       "\n",
       "    .dataframe tbody tr th {\n",
       "        vertical-align: top;\n",
       "    }\n",
       "\n",
       "    .dataframe thead th {\n",
       "        text-align: right;\n",
       "    }\n",
       "</style>\n",
       "<table border=\"1\" class=\"dataframe\">\n",
       "  <thead>\n",
       "    <tr style=\"text-align: right;\">\n",
       "      <th></th>\n",
       "      <th>station</th>\n",
       "      <th>avg_daily_entries_exits</th>\n",
       "      <th>borough</th>\n",
       "      <th>s_lat</th>\n",
       "      <th>s_long</th>\n",
       "      <th>lat_long</th>\n",
       "      <th>geometry</th>\n",
       "      <th>food_scrap_drop_off_site_name</th>\n",
       "      <th>c_lat</th>\n",
       "      <th>c_long</th>\n",
       "      <th>distance</th>\n",
       "    </tr>\n",
       "  </thead>\n",
       "  <tbody>\n",
       "    <tr>\n",
       "      <th>15</th>\n",
       "      <td>brook av</td>\n",
       "      <td>2852.5</td>\n",
       "      <td>Bronx</td>\n",
       "      <td>40.807566</td>\n",
       "      <td>-73.919240</td>\n",
       "      <td>40.807565999999994 -73.91924</td>\n",
       "      <td>POINT (-73.91924 40.80757)</td>\n",
       "      <td>Brook Ave</td>\n",
       "      <td>40.807560</td>\n",
       "      <td>-73.919228</td>\n",
       "      <td>0.001</td>\n",
       "    </tr>\n",
       "    <tr>\n",
       "      <th>1</th>\n",
       "      <td>parkside av</td>\n",
       "      <td>2570.0</td>\n",
       "      <td>Brooklyn</td>\n",
       "      <td>40.655292</td>\n",
       "      <td>-73.961495</td>\n",
       "      <td>40.655291999999996 -73.961495</td>\n",
       "      <td>POINT (-73.96149 40.65529)</td>\n",
       "      <td>Parkside</td>\n",
       "      <td>40.654881</td>\n",
       "      <td>-73.961884</td>\n",
       "      <td>0.028</td>\n",
       "    </tr>\n",
       "    <tr>\n",
       "      <th>19</th>\n",
       "      <td>inwood-207 st</td>\n",
       "      <td>2923.5</td>\n",
       "      <td>Manhattan</td>\n",
       "      <td>40.868072</td>\n",
       "      <td>-73.919899</td>\n",
       "      <td>40.868072 -73.919899</td>\n",
       "      <td>POINT (-73.91990 40.86807)</td>\n",
       "      <td>Inwood Greenmarket</td>\n",
       "      <td>40.868999</td>\n",
       "      <td>-73.920319</td>\n",
       "      <td>0.034</td>\n",
       "    </tr>\n",
       "    <tr>\n",
       "      <th>13</th>\n",
       "      <td>69 st</td>\n",
       "      <td>2789.5</td>\n",
       "      <td>Queens</td>\n",
       "      <td>40.746325</td>\n",
       "      <td>-73.896403</td>\n",
       "      <td>40.746325 -73.896403</td>\n",
       "      <td>POINT (-73.89640 40.74632)</td>\n",
       "      <td>JH Scraps</td>\n",
       "      <td>40.749863</td>\n",
       "      <td>-73.896301</td>\n",
       "      <td>0.068</td>\n",
       "    </tr>\n",
       "  </tbody>\n",
       "</table>\n",
       "</div>"
      ],
      "text/plain": [
       "          station  avg_daily_entries_exits    borough      s_lat     s_long  \\\n",
       "15       brook av                   2852.5      Bronx  40.807566 -73.919240   \n",
       "1     parkside av                   2570.0   Brooklyn  40.655292 -73.961495   \n",
       "19  inwood-207 st                   2923.5  Manhattan  40.868072 -73.919899   \n",
       "13          69 st                   2789.5     Queens  40.746325 -73.896403   \n",
       "\n",
       "                         lat_long                    geometry  \\\n",
       "15   40.807565999999994 -73.91924  POINT (-73.91924 40.80757)   \n",
       "1   40.655291999999996 -73.961495  POINT (-73.96149 40.65529)   \n",
       "19           40.868072 -73.919899  POINT (-73.91990 40.86807)   \n",
       "13           40.746325 -73.896403  POINT (-73.89640 40.74632)   \n",
       "\n",
       "   food_scrap_drop_off_site_name      c_lat     c_long  distance  \n",
       "15                     Brook Ave  40.807560 -73.919228     0.001  \n",
       "1                       Parkside  40.654881 -73.961884     0.028  \n",
       "19            Inwood Greenmarket  40.868999 -73.920319     0.034  \n",
       "13                     JH Scraps  40.749863 -73.896301     0.068  "
      ]
     },
     "execution_count": 232,
     "metadata": {},
     "output_type": "execute_result"
    }
   ],
   "source": [
    "stations_final"
   ]
  },
  {
   "cell_type": "code",
   "execution_count": 237,
   "metadata": {},
   "outputs": [],
   "source": [
    "stations_final.station = [name.title() for name in stations_final.station]"
   ]
  },
  {
   "cell_type": "code",
   "execution_count": 267,
   "metadata": {},
   "outputs": [
    {
     "data": {
      "image/png": "[encoded data removed]",
      "text/plain": [
       "<Figure size 1152x576 with 1 Axes>"
      ]
     },
     "metadata": {
      "needs_background": "light"
     },
     "output_type": "display_data"
    }
   ],
   "source": [
    "plt.figure(figsize=(16, 8))\n",
    "ax = plt.bar(stations_final['station'], stations_final['distance'])\n",
    "plt.title('Outreach Stations and their Distances to the Nearest Food Scrap Drop-off Sites',\n",
    "          fontsize=15, fontweight='bold')\n",
    "plt.ylabel('distance (miles)', fontsize=12)\n",
    "for bar in ax:\n",
    "    if bar.get_height() > .06:\n",
    "        bar.set_color('green') \n",
    "    elif bar.get_height() > 0.03:\n",
    "        bar.set_color('red')\n",
    "    elif bar.get_height() > 0.02:\n",
    "        bar.set_color('blue')\n",
    "    else:\n",
    "        bar.set_color('purple')"
   ]
  },
  {
   "cell_type": "markdown",
   "metadata": {},
   "source": [
    "- The above code shows that there's no station in station island that met the first criterion about average number of daily entries/exits per station being between 2500-3000, so we are left with 4 stations, one in each of the other four boroughs, at which to do outreach about composting."
   ]
  },
  {
   "cell_type": "markdown",
   "metadata": {},
   "source": [
    "# Create a map that shows these four outreach stations and their nearest food scrap drop-off site"
   ]
  },
  {
   "cell_type": "code",
   "execution_count": 233,
   "metadata": {},
   "outputs": [],
   "source": [
    "# create geopandas df of stations\n",
    "\n",
    "# zip x and y coordinates into single feature\n",
    "geo_station_2 = [Point(xy) for xy in zip(stations_final['s_long'], stations_final['s_lat'])]\n",
    "\n",
    "# create GeoPandas dataframe\n",
    "geo_station_2_df = gpd.GeoDataFrame(stations_final,\n",
    " crs=\"EPSG:4326\",\n",
    " geometry = geo_station_2)"
   ]
  },
  {
   "cell_type": "code",
   "execution_count": 234,
   "metadata": {},
   "outputs": [],
   "source": [
    "# create geopandas df of food scrap drop off sites\n",
    "\n",
    "# zip x and y coordinates into single feature\n",
    "geo_compost_2 = [Point(xy) for xy in zip(stations_final['c_long'], stations_final['c_lat'])]\n",
    "\n",
    "# create GeoPandas dataframe\n",
    "geo_compost_2_df = gpd.GeoDataFrame(stations_final,\n",
    " crs=\"EPSG:4326\",\n",
    " geometry = geo_compost_2)"
   ]
  },
  {
   "cell_type": "code",
   "execution_count": 235,
   "metadata": {},
   "outputs": [
    {
     "data": {
      "image/png": "[encoded data removed]",
      "text/plain": [
       "<Figure size 720x720 with 1 Axes>"
      ]
     },
     "metadata": {
      "needs_background": "light"
     },
     "output_type": "display_data"
    }
   ],
   "source": [
    "# create figure and axes, assign to subplot\n",
    "fig, ax = plt.subplots(figsize=(10,10))\n",
    "\n",
    "# add .shp mapfile to axes\n",
    "street_map.plot(ax=ax, alpha=0.4,color='grey')\n",
    "\n",
    "# add geodataframes to axes\n",
    "\n",
    "# 1. stations df\n",
    "for ctype, data in geo_station_2_df.groupby('borough'):\n",
    "    \n",
    "    # Define the color for each group using the dictionary\n",
    "    color = boroughPalette[ctype]\n",
    "    \n",
    "    # Plot each group using the color defined above\n",
    "    data.plot(color=color,\n",
    "              ax=ax,\n",
    "              label=ctype)\n",
    "\n",
    "ax.legend(bbox_to_anchor=(1.0, .5), prop={'size': 15})\n",
    "\n",
    "# 2. compost geo df\n",
    "geo_compost_2_df.plot(ax=ax, markersize=10, color='black')\n",
    "\n",
    "# add title to graph\n",
    "plt.title('Food Scrap Drop-off Sites and \\n MTA Compost Outreach Stations in NYC', fontsize=15, fontweight='bold')\n",
    "\n",
    "# set latitiude and longitude boundaries for map display\n",
    "plt.xlim(-74.1,-73.675)\n",
    "plt.ylim(40.55,40.925)\n",
    "\n",
    "# show map\n",
    "plt.show()"
   ]
  },
  {
   "cell_type": "code",
   "execution_count": null,
   "metadata": {},
   "outputs": [],
   "source": []
  }
 ],
 "metadata": {
  "kernelspec": {
   "display_name": "Python 3",
   "language": "python",
   "name": "python3"
  },
  "language_info": {
   "codemirror_mode": {
    "name": "ipython",
    "version": 3
   },
   "file_extension": ".py",
   "mimetype": "text/x-python",
   "name": "python",
   "nbconvert_exporter": "python",
   "pygments_lexer": "ipython3",
   "version": "3.8.3"
  }
 },
 "nbformat": 4,
 "nbformat_minor": 4
}
